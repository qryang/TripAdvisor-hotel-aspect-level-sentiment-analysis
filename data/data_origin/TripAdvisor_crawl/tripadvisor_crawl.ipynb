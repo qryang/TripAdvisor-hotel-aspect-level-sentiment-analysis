{
 "cells": [
  {
   "cell_type": "markdown",
   "metadata": {},
   "source": [
    "# TripAdvisor网页爬虫\n",
    "- **爬取澳门酒店所有的英文review**\n",
    "- 每个酒店是一个csv\n",
    "- 获取每个酒店的主页网址\n",
    "- 每个酒店review造一个list\n",
    "- 每次需要更换酒店名称，酒店主页url,并查看评论有多少页；"
   ]
  },
  {
   "cell_type": "code",
   "execution_count": 1,
   "metadata": {},
   "outputs": [],
   "source": [
    "from bs4 import BeautifulSoup\n",
    "import requests\n",
    "import pandas as pd\n",
    "import re\n"
   ]
  },
  {
   "cell_type": "code",
   "execution_count": 2,
   "metadata": {},
   "outputs": [],
   "source": [
    "headers = {'User-Agent': 'Mozilla/5.0 (Macintosh; Intel Mac OS X 10_12_3) AppleWebKit/537.36 (KHTML, like Gecko) Chrome/58.0.3029.110 Safari/537.36'\n",
    "            }\n",
    "\n",
    "response = requests.get('https://www.tripadvisor.com/Hotel_Review-g664891-d652912-Reviews-Altira_Macau-Macau.html', headers=headers).text\n",
    "soup = BeautifulSoup(response, 'html.parser')"
   ]
  },
  {
   "cell_type": "code",
   "execution_count": 3,
   "metadata": {
    "collapsed": true
   },
   "outputs": [
    {
     "name": "stdout",
     "output_type": "stream",
     "text": [
      "['https://www.tripadvisor.com/Hotel_Review-g664891-d652912-Reviews-Altira_Macau-Macau.html', 'https://www.tripadvisor.com/Hotel_Review-g664891-d652912-Reviews-or5-Altira_Macau-Macau.html', 'https://www.tripadvisor.com/Hotel_Review-g664891-d652912-Reviews-or10-Altira_Macau-Macau.html', 'https://www.tripadvisor.com/Hotel_Review-g664891-d652912-Reviews-or15-Altira_Macau-Macau.html', 'https://www.tripadvisor.com/Hotel_Review-g664891-d652912-Reviews-or20-Altira_Macau-Macau.html', 'https://www.tripadvisor.com/Hotel_Review-g664891-d652912-Reviews-or25-Altira_Macau-Macau.html', 'https://www.tripadvisor.com/Hotel_Review-g664891-d652912-Reviews-or30-Altira_Macau-Macau.html', 'https://www.tripadvisor.com/Hotel_Review-g664891-d652912-Reviews-or35-Altira_Macau-Macau.html', 'https://www.tripadvisor.com/Hotel_Review-g664891-d652912-Reviews-or40-Altira_Macau-Macau.html', 'https://www.tripadvisor.com/Hotel_Review-g664891-d652912-Reviews-or45-Altira_Macau-Macau.html', 'https://www.tripadvisor.com/Hotel_Review-g664891-d652912-Reviews-or50-Altira_Macau-Macau.html', 'https://www.tripadvisor.com/Hotel_Review-g664891-d652912-Reviews-or55-Altira_Macau-Macau.html', 'https://www.tripadvisor.com/Hotel_Review-g664891-d652912-Reviews-or60-Altira_Macau-Macau.html', 'https://www.tripadvisor.com/Hotel_Review-g664891-d652912-Reviews-or65-Altira_Macau-Macau.html', 'https://www.tripadvisor.com/Hotel_Review-g664891-d652912-Reviews-or70-Altira_Macau-Macau.html', 'https://www.tripadvisor.com/Hotel_Review-g664891-d652912-Reviews-or75-Altira_Macau-Macau.html', 'https://www.tripadvisor.com/Hotel_Review-g664891-d652912-Reviews-or80-Altira_Macau-Macau.html', 'https://www.tripadvisor.com/Hotel_Review-g664891-d652912-Reviews-or85-Altira_Macau-Macau.html', 'https://www.tripadvisor.com/Hotel_Review-g664891-d652912-Reviews-or90-Altira_Macau-Macau.html', 'https://www.tripadvisor.com/Hotel_Review-g664891-d652912-Reviews-or95-Altira_Macau-Macau.html', 'https://www.tripadvisor.com/Hotel_Review-g664891-d652912-Reviews-or100-Altira_Macau-Macau.html', 'https://www.tripadvisor.com/Hotel_Review-g664891-d652912-Reviews-or105-Altira_Macau-Macau.html', 'https://www.tripadvisor.com/Hotel_Review-g664891-d652912-Reviews-or110-Altira_Macau-Macau.html', 'https://www.tripadvisor.com/Hotel_Review-g664891-d652912-Reviews-or115-Altira_Macau-Macau.html', 'https://www.tripadvisor.com/Hotel_Review-g664891-d652912-Reviews-or120-Altira_Macau-Macau.html', 'https://www.tripadvisor.com/Hotel_Review-g664891-d652912-Reviews-or125-Altira_Macau-Macau.html', 'https://www.tripadvisor.com/Hotel_Review-g664891-d652912-Reviews-or130-Altira_Macau-Macau.html', 'https://www.tripadvisor.com/Hotel_Review-g664891-d652912-Reviews-or135-Altira_Macau-Macau.html', 'https://www.tripadvisor.com/Hotel_Review-g664891-d652912-Reviews-or140-Altira_Macau-Macau.html', 'https://www.tripadvisor.com/Hotel_Review-g664891-d652912-Reviews-or145-Altira_Macau-Macau.html', 'https://www.tripadvisor.com/Hotel_Review-g664891-d652912-Reviews-or150-Altira_Macau-Macau.html', 'https://www.tripadvisor.com/Hotel_Review-g664891-d652912-Reviews-or155-Altira_Macau-Macau.html', 'https://www.tripadvisor.com/Hotel_Review-g664891-d652912-Reviews-or160-Altira_Macau-Macau.html', 'https://www.tripadvisor.com/Hotel_Review-g664891-d652912-Reviews-or165-Altira_Macau-Macau.html', 'https://www.tripadvisor.com/Hotel_Review-g664891-d652912-Reviews-or170-Altira_Macau-Macau.html', 'https://www.tripadvisor.com/Hotel_Review-g664891-d652912-Reviews-or175-Altira_Macau-Macau.html', 'https://www.tripadvisor.com/Hotel_Review-g664891-d652912-Reviews-or180-Altira_Macau-Macau.html', 'https://www.tripadvisor.com/Hotel_Review-g664891-d652912-Reviews-or185-Altira_Macau-Macau.html', 'https://www.tripadvisor.com/Hotel_Review-g664891-d652912-Reviews-or190-Altira_Macau-Macau.html', 'https://www.tripadvisor.com/Hotel_Review-g664891-d652912-Reviews-or195-Altira_Macau-Macau.html', 'https://www.tripadvisor.com/Hotel_Review-g664891-d652912-Reviews-or200-Altira_Macau-Macau.html', 'https://www.tripadvisor.com/Hotel_Review-g664891-d652912-Reviews-or205-Altira_Macau-Macau.html', 'https://www.tripadvisor.com/Hotel_Review-g664891-d652912-Reviews-or210-Altira_Macau-Macau.html', 'https://www.tripadvisor.com/Hotel_Review-g664891-d652912-Reviews-or215-Altira_Macau-Macau.html', 'https://www.tripadvisor.com/Hotel_Review-g664891-d652912-Reviews-or220-Altira_Macau-Macau.html', 'https://www.tripadvisor.com/Hotel_Review-g664891-d652912-Reviews-or225-Altira_Macau-Macau.html']\n"
     ]
    }
   ],
   "source": [
    "headers = {'User-Agent': 'Mozilla/5.0 (Macintosh; Intel Mac OS X 10_12_3) AppleWebKit/537.36 (KHTML, like Gecko) Chrome/58.0.3029.110 Safari/537.36'\n",
    "            }\n",
    "\n",
    "response = requests.get('https://www.tripadvisor.com/Hotel_Review-g664891-d652912-Reviews-Altira_Macau-Macau.html', headers=headers).text\n",
    "soup = BeautifulSoup(response, 'html.parser')\n",
    "url_list = [] #sheraton_macao_cotai_strip所有review的网页\n",
    "for i in range(0, 46):\n",
    "    if i == 0:\n",
    "        url_list.append('https://www.tripadvisor.com/Hotel_Review-g664891-d652912-Reviews-Altira_Macau-Macau.html')\n",
    "    else:\n",
    "        url_list.append('https://www.tripadvisor.com/Hotel_Review-g664891-d652912-Reviews-or'+ \n",
    "                        str(i * 5)+'-Altira_Macau-Macau.html')\n",
    "print(url_list)"
   ]
  },
  {
   "cell_type": "code",
   "execution_count": 78,
   "metadata": {},
   "outputs": [],
   "source": [
    "reviews = soup.find_all('q', attrs={'class':re.compile('location-review-review-list-parts-ExpandableReview__reviewText--gOmRC|()')})\n",
    "#ratings = soup.find_all('div',attrs= {'class' : 'nf9vGX55'})"
   ]
  },
  {
   "cell_type": "code",
   "execution_count": 109,
   "metadata": {},
   "outputs": [],
   "source": [
    "reviews = soup.find_all('div', attrs = {'class': 'oETBfkHU'})"
   ]
  },
  {
   "cell_type": "code",
   "execution_count": 110,
   "metadata": {
    "collapsed": true
   },
   "outputs": [
    {
     "data": {
      "text/plain": [
       "[<div class=\"oETBfkHU\" data-reviewid=\"774118947\"><div class=\"_2UEC-y30\"><div class=\"nf9vGX55\" data-test-target=\"review-rating\"><span class=\"ui_bubble_rating bubble_50\"></span></div></div><div class=\"glasR4aX\" data-test-target=\"review-title\" dir=\"ltr\"><a class=\"ocfR3SKN\" href=\"/ShowUserReviews-g664891-d652912-r774118947-Altira_Macau-Macau.html\"><span><span>Comment</span></span></a></div><div class=\"_3hDPbqWO\"><div class=\"_2f_ruteS _1bona3Pu _2uD5bLZZ\"><div class=\"cPQsENeY\" style=\"max-height:160px\"><q class=\"IRsGHoPm\"><span>It was a nice place and nice stay, specially when sleeping is so comfortable and the room was so clean and also all staff was so polite and nice, we will go back to the future again and i will recommend to my friends also what kind of experience they will have it if they stay in altira </span></q></div><div class=\"_36B4Vw6t\"><div class=\"XUVJZtom\" data-test-target=\"expand-review\"><span class=\"_3maEfNCR\">Read more</span><span class=\"ui_icon caret-down _3aUwQbpX\"></span></div></div></div><div class=\"B7dMOr6m\">Review collected in partnership with this hotel<div class=\"_1RaaVjXP\"><span class=\"ui_icon information-circle _2AZ0EdD1\"></span></div></div><div class=\"_1O8E5N17\"><span class=\"_34Xs-BQm\"><span class=\"_355y0nZn\">Date of stay:</span> October 2020</span><span class=\"_1xJceS3A\"><div class=\"_1HQD2bGG\"><div class=\"_3ErKuh24 _1OrVnQ-J\"><span class=\"_3-8hSrXs\"><span class=\"ui_bubble_rating bubble_50\"></span></span><span>Value</span></div><div class=\"_3ErKuh24 _1OrVnQ-J\"><span class=\"_3-8hSrXs\"><span class=\"ui_bubble_rating bubble_50\"></span></span><span>Rooms</span></div><div class=\"_3ErKuh24 _1OrVnQ-J\"><span class=\"_3-8hSrXs\"><span class=\"ui_bubble_rating bubble_50\"></span></span><span>Location</span></div><div class=\"_3ErKuh24 _1OrVnQ-J\"><span class=\"_3-8hSrXs\"><span class=\"ui_bubble_rating bubble_50\"></span></span><span>Cleanliness</span></div><div class=\"_3ErKuh24 _1OrVnQ-J\"><span class=\"_3-8hSrXs\"><span class=\"ui_bubble_rating bubble_50\"></span></span><span>Service</span></div><div class=\"_3ErKuh24 _1OrVnQ-J\"><span class=\"_3-8hSrXs\"><span class=\"ui_bubble_rating bubble_50\"></span></span><span>Sleep Quality</span></div></div></span></div><div class=\"_3d_mZXGr\"><span class=\"_3UnecFwl\"></span><div class=\"_3SZRHJHk\"><span class=\"_2lqOQqh3 _2n7CCN6U\"><span class=\"ui_icon thumbs-up Ak8Bi3Zf\"></span><span class=\"ui_link _1Dl3N9MC\">Helpful</span></span><span class=\"_331VZDkq\"><div><span><div class=\"_1k12Q93K _1k54sSqX\"><span><span class=\"ui_icon share _3g9oGli4 hu8pNNlN\"></span><span class=\"ui_link _3p1vOjv8 socialCTA\">Share<!-- --> </span></span></div></span></div></span></div></div></div></div>,\n",
       " <div class=\"oETBfkHU\" data-reviewid=\"773882708\"><div class=\"_2UEC-y30\"><div class=\"nf9vGX55\" data-test-target=\"review-rating\"><span class=\"ui_bubble_rating bubble_10\"></span></div></div><div class=\"glasR4aX\" data-test-target=\"review-title\" dir=\"ltr\"><a class=\"ocfR3SKN\" href=\"/ShowUserReviews-g664891-d652912-r773882708-Altira_Macau-Macau.html\"><span><span>Bad experience.Impolite lady staff!</span></span></a></div><div class=\"_3hDPbqWO\"><div class=\"_2f_ruteS _1bona3Pu _2uD5bLZZ\"><div class=\"cPQsENeY\" style=\"max-height:160px\"><q class=\"IRsGHoPm\"><span>It was happened this afternoon (1:45) shuttle bus service for the guest. However,as i am sitting in the bus,then a lady came up and check if I have membership card. I told her i have,but its not \"VIP\" card. According to her,only \"VIP\" card members can ride the shuttle bus. She even forced me to get off in the bus when there is no one except me. I was totally dissapointed with this lady named (YAN) 李美雁. And last thing,she didn't even apologize for what she'd done. I have used many shuttle buses before and never get such a bad experience! Hoping for your  immediate action regarding this matter.Thank you.</span></q></div><div class=\"_36B4Vw6t\"><div class=\"XUVJZtom\" data-test-target=\"expand-review\"><span class=\"_3maEfNCR\">Read more</span><span class=\"ui_icon caret-down _3aUwQbpX\"></span></div></div></div><div class=\"_1O8E5N17\"><span class=\"_34Xs-BQm\"><span class=\"_355y0nZn\">Date of stay:</span> October 2020</span><span class=\"_1xJceS3A\"><span class=\"_2bVY3aT5\"><span class=\"trip_type_label\">Trip type: </span>Traveled with friends</span></span></div><div class=\"_3d_mZXGr\"><span class=\"_3UnecFwl\"></span><div class=\"_3SZRHJHk\"><span class=\"_2lqOQqh3 _2n7CCN6U\"><span class=\"ui_icon thumbs-up Ak8Bi3Zf\"></span><span class=\"ui_link _1Dl3N9MC\">Helpful</span></span><span class=\"_331VZDkq\"><div><span><div class=\"_1k12Q93K _1k54sSqX\"><span><span class=\"ui_icon share _3g9oGli4 hu8pNNlN\"></span><span class=\"ui_link _3p1vOjv8 socialCTA\">Share<!-- --> </span></span></div></span></div></span></div></div><div class=\"XPYR1502\"><span class=\"_3x5_awTA ui_social_avatar small inline _3T1fhtvF\"><span class=\"ui_icon member-fill\"></span></span><div class=\"_204cKjWJ\"><div class=\"_1LYjNSEu\"><div class=\"overflow\"><span class=\"_3-zQ1eyd _3LR9XvrV\"><span class=\"_35pfga6W _2HBN-k68 _3LkX-HIr\"></span></span></div><span class=\"_3V8URHDq\"></span></div>Response from Hotel Management Alitra Macau, Other at Altira Macau<div class=\"_2lY-Jowi\" title=\"2020-10-11\">Responded 1 week ago</div></div><div class=\"_2f_ruteS _1bona3Pu _2WrHxPE9 _2uD5bLZZ\"><div class=\"cPQsENeY\" style=\"max-height:20px\"><span class=\"sT5TMxg3\"><span>Dear guest,  Thank you for your comment on TripAdvisor. Altira Macau shuttle bus service is exclusively for our customers and  we do apologize for inconveniences caused to you regarding boarding arrangement. Your valuable comments will be reflected to higher management for further consideration.  Once again, thank you for taking time to share your experience.  Yours sincerely,  Hotel Management Altira Macau</span></span></div><div class=\"_36B4Vw6t\"><div class=\"_13mc6vw_\"><span class=\"_3YPpduI5\">Read more</span><span class=\"ui_icon caret-down _1F1h5_rq\"></span></div></div></div></div></div></div>,\n",
       " <div class=\"oETBfkHU\" data-reviewid=\"773708216\"><div class=\"_2UEC-y30\"><div class=\"nf9vGX55\" data-test-target=\"review-rating\"><span class=\"ui_bubble_rating bubble_50\"></span></div></div><div class=\"glasR4aX\" data-test-target=\"review-title\" dir=\"ltr\"><a class=\"ocfR3SKN\" href=\"/ShowUserReviews-g664891-d652912-r773708216-Altira_Macau-Macau.html\"><span><span>Staycation continuance....the best hoste in Macau </span></span></a></div><div class=\"_3hDPbqWO\"><div class=\"_2f_ruteS _1bona3Pu _2uD5bLZZ\"><div class=\"cPQsENeY\" style=\"max-height:160px\"><q class=\"IRsGHoPm\"><span>Cannot visit other places, stay at local hotels instead!  The room, the amenities, the staff, the food, the spa, the in-door swimming pool, everything everything are all perfect!  The turn down service is so caring and full-heartedly!  One must come to stay here once in a life when in Macau!  Worth!  </span></q></div><div class=\"_36B4Vw6t\"><div class=\"XUVJZtom\" data-test-target=\"expand-review\"><span class=\"_3maEfNCR\">Read more</span><span class=\"ui_icon caret-down _3aUwQbpX\"></span></div></div></div><div class=\"_1O8E5N17\"><span class=\"_34Xs-BQm\"><span class=\"_355y0nZn\">Date of stay:</span> October 2020</span><span class=\"_1xJceS3A\"><span class=\"_2bVY3aT5\"><span class=\"trip_type_label\">Trip type: </span>Traveled solo</span></span></div><div class=\"_3d_mZXGr\"><span class=\"_3UnecFwl\"></span><div class=\"_3SZRHJHk\"><span class=\"_2lqOQqh3 _2n7CCN6U\"><span class=\"ui_icon thumbs-up Ak8Bi3Zf\"></span><span class=\"ui_link _1Dl3N9MC\">Helpful</span></span><span class=\"_331VZDkq\"><div><span><div class=\"_1k12Q93K _1k54sSqX\"><span><span class=\"ui_icon share _3g9oGli4 hu8pNNlN\"></span><span class=\"ui_link _3p1vOjv8 socialCTA\">Share<!-- --> </span></span></div></span></div></span></div></div><div class=\"XPYR1502\"><span class=\"_3x5_awTA ui_social_avatar small inline _3T1fhtvF\"><span class=\"ui_icon member-fill\"></span></span><div class=\"_204cKjWJ\"><div class=\"_1LYjNSEu\"><div class=\"overflow\"><span class=\"_3-zQ1eyd _3LR9XvrV\"><span class=\"_35pfga6W _2HBN-k68 _3LkX-HIr\"></span></span></div><span class=\"_3V8URHDq\"></span></div>Response from Hotel Management Alitra Macau, Other at Altira Macau<div class=\"_2lY-Jowi\" title=\"2020-10-11\">Responded 1 week ago</div></div><div class=\"_2f_ruteS _1bona3Pu _2WrHxPE9 _2uD5bLZZ\"><div class=\"cPQsENeY\" style=\"max-height:20px\"><span class=\"sT5TMxg3\"><span>Dear Ms. Julia Y,  Thank you very much for your comments. We are delighted to learn that you had enjoyed your stay with us. Please rest assured that we will share your kind comments to respective departments and your feedback is indeed very motivating and rewarding.   Thank you again for sharing your experience. We look forward to welcoming you back for another wonderful stay at Altira Macau soon.   Yours sincerely,  Hotel Management  Altira Macau </span></span></div><div class=\"_36B4Vw6t\"><div class=\"_13mc6vw_\"><span class=\"_3YPpduI5\">Read more</span><span class=\"ui_icon caret-down _1F1h5_rq\"></span></div></div></div></div></div></div>,\n",
       " <div class=\"oETBfkHU\" data-reviewid=\"772698156\"><div class=\"_2UEC-y30\"><div class=\"nf9vGX55\" data-test-target=\"review-rating\"><span class=\"ui_bubble_rating bubble_10\"></span></div></div><div class=\"glasR4aX\" data-test-target=\"review-title\" dir=\"ltr\"><a class=\"ocfR3SKN\" href=\"/ShowUserReviews-g664891-d652912-r772698156-Altira_Macau-Macau.html\"><span><span>Bad Management service</span></span></a></div><div class=\"_3hDPbqWO\"><div class=\"_2f_ruteS _1bona3Pu _2uD5bLZZ\"><div class=\"cPQsENeY\" style=\"max-height:160px\"><q class=\"IRsGHoPm\"><span>Your hotel have a nice view but we had a bad experience.  Front Desk TM they looked like they’re not familiar about their job description.   21-Sep-2020 We made a booking through online but unfortunately, we didn’t make it successfully, so we decided to go directly at Altira 38 floor and explained that we didn’t make it successfully but we still want to make a booking and it took 30 minutes then suddenly they told me that the promotion that I was trying to get is already fully booked. Staff didn’t know what to do, I suggested them that I can actually pay the cash for the charge. She seek her supervisor assistance and finally what I suggested is the same as what her superior advised to her but because it took a lot of time to wait, and the room that I want to book is fully</span><span class=\"_1M-1YYJt\"> booked, then they offered another promotion approximately amount $1900, then I decided to book it. The payment has been paid amounting -$2800 using my ATM card.  02-Oct-2020 at 10AM We check out at 10AM , we approached the counter at 38th floor with the service of TM 07317 and start calculating the bill, then he suddenly told me that the receipt I got is not deducted to my card and ask me to pay my bill amounting $2012.4. I explained to him that it’s already deducted to my bank account then he ask for bank approval statement  and I show him my message statement that the transaction was approved the day that I settle the bill during the booking. He voided the first transaction with amount $2800 and he says it will transfer to my bank account but didn’t received yet and  I made another payment for the actual bill amounting $2012.4 using my ATM card.</span><span>…</span></q></div><div class=\"_36B4Vw6t\"><div class=\"XUVJZtom\" data-test-target=\"expand-review\"><span class=\"_3maEfNCR\">Read more</span><span class=\"ui_icon caret-down _3aUwQbpX\"></span></div></div></div><div class=\"_1O8E5N17\"><span class=\"_34Xs-BQm\"><span class=\"_355y0nZn\">Date of stay:</span> October 2020</span><span class=\"_1xJceS3A\"><span class=\"_2bVY3aT5\"><span class=\"trip_type_label\">Trip type: </span>Traveled with family</span></span></div><div class=\"_3d_mZXGr\"><span class=\"_3UnecFwl\"></span><div class=\"_3SZRHJHk\"><span class=\"_2lqOQqh3 _2n7CCN6U\"><span class=\"ui_icon thumbs-up Ak8Bi3Zf\"></span><span class=\"ui_link _1Dl3N9MC\">Helpful</span></span><span class=\"_331VZDkq\"><div><span><div class=\"_1k12Q93K _1k54sSqX\"><span><span class=\"ui_icon share _3g9oGli4 hu8pNNlN\"></span><span class=\"ui_link _3p1vOjv8 socialCTA\">Share<!-- --> </span></span></div></span></div></span></div></div><div class=\"XPYR1502\"><span class=\"_3x5_awTA ui_social_avatar small inline _3T1fhtvF\"><span class=\"ui_icon member-fill\"></span></span><div class=\"_204cKjWJ\"><div class=\"_1LYjNSEu\"><div class=\"overflow\"><span class=\"_3-zQ1eyd _3LR9XvrV\"><span class=\"_35pfga6W _2HBN-k68 _3LkX-HIr\"></span></span></div><span class=\"_3V8URHDq\"></span></div>Response from Hotel Management Alitra Macau, Other at Altira Macau<div class=\"_2lY-Jowi\" title=\"2020-10-03\">Responded 2 weeks ago</div></div><div class=\"_2f_ruteS _1bona3Pu _2WrHxPE9 _2uD5bLZZ\"><div class=\"cPQsENeY\" style=\"max-height:20px\"><span class=\"sT5TMxg3\"><span>Dear guest,  Thank you for taking time to share the experience of your recent stay at Altira Macau. We do apologize for unpleasant arrival and departure experience during your visit. Please be assured that the related issues will be  investigated immediately with Front Desk and appropriate actions will be taken to improve our service and facilities.  Once again, thank you for your valuable comments. We look forward to welcoming you back in the near future.   Yours sincerely, Hotel Management Altira Macau </span></span></div><div class=\"_36B4Vw6t\"><div class=\"_13mc6vw_\"><span class=\"_3YPpduI5\">Read more</span><span class=\"ui_icon caret-down _1F1h5_rq\"></span></div></div></div></div></div></div>,\n",
       " <div class=\"oETBfkHU\" data-reviewid=\"770956286\"><div class=\"_2UEC-y30\"><div class=\"nf9vGX55\" data-test-target=\"review-rating\"><span class=\"ui_bubble_rating bubble_10\"></span></div></div><div class=\"glasR4aX\" data-test-target=\"review-title\" dir=\"ltr\"><a class=\"ocfR3SKN\" href=\"/ShowUserReviews-g664891-d652912-r770956286-Altira_Macau-Macau.html\"><span><span>Bad experience, hope proper reply</span></span></a></div><div class=\"_3hDPbqWO\"><div class=\"_2f_ruteS _1bona3Pu _2uD5bLZZ\"><div class=\"cPQsENeY\" style=\"max-height:160px\"><q class=\"IRsGHoPm\"><span>today’s morning I need to go to the border gate for businesses issues. Therefore I waited for the shuttle bus, which is the basic service of the hotels in Macau. However, a lady wearing the hotel uniform came out and told me only the membership in your hotel could use that bus.Then she just stand beside me all over the time, and prohibited me to get on the bus although nobody wants to get the bus except me. I was really surprised, what a foolish policy! As I didn’t get any hotel membership, I have used many shuttle buses before and never get such a bad experience! Nowadays hotels and casinos need more support and advertise, but your hotel seems want to avoid as many customers as you can. As a hotelier I have to say that is not a good decision. I may choice other hotels to stay</span><span class=\"_1M-1YYJt\"> in the future.</span><span>…</span></q></div><div class=\"_36B4Vw6t\"><div class=\"XUVJZtom\" data-test-target=\"expand-review\"><span class=\"_3maEfNCR\">Read more</span><span class=\"ui_icon caret-down _3aUwQbpX\"></span></div></div></div><div class=\"_1O8E5N17\"><span class=\"_34Xs-BQm\"><span class=\"_355y0nZn\">Date of stay:</span> September 2020</span><span class=\"_1xJceS3A\"><span class=\"_2bVY3aT5\"><span class=\"trip_type_label\">Trip type: </span>Traveled solo</span></span></div><div class=\"_3d_mZXGr\"><span class=\"_3UnecFwl\"></span><div class=\"_3SZRHJHk\"><span class=\"_2lqOQqh3 _2n7CCN6U\"><span class=\"ui_icon thumbs-up Ak8Bi3Zf\"></span><span class=\"ui_link _1Dl3N9MC\">Helpful</span></span><span class=\"_331VZDkq\"><div><span><div class=\"_1k12Q93K _1k54sSqX\"><span><span class=\"ui_icon share _3g9oGli4 hu8pNNlN\"></span><span class=\"ui_link _3p1vOjv8 socialCTA\">Share<!-- --> </span></span></div></span></div></span></div></div><div class=\"XPYR1502\"><span class=\"_3x5_awTA ui_social_avatar small inline _3T1fhtvF\"><span class=\"ui_icon member-fill\"></span></span><div class=\"_204cKjWJ\"><div class=\"_1LYjNSEu\"><div class=\"overflow\"><span class=\"_3-zQ1eyd _3LR9XvrV\"><span class=\"_35pfga6W _2HBN-k68 _3LkX-HIr\"></span></span></div><span class=\"_3V8URHDq\"></span></div>Response from Hotel Management Alitra Macau, Other at Altira Macau<div class=\"_2lY-Jowi\" title=\"2020-09-21\">Responded 4 weeks ago</div></div><div class=\"_2f_ruteS _1bona3Pu _2WrHxPE9 _2uD5bLZZ\"><div class=\"cPQsENeY\" style=\"max-height:20px\"><span class=\"sT5TMxg3\"><span>Dear guest,  Thank you for your comment on TripAdvisor. Altira Macau shuttle bus service is exclusively for our customers and  we do apologize for inconveniences caused to you regarding boarding arrangement. Your valuable comments will be reflected to higher management for further consideration.  Once again, thank you for taking time to share your experience.  Yours sincerely,  Hotel Management Altira Macau </span></span></div><div class=\"_36B4Vw6t\"><div class=\"_13mc6vw_\"><span class=\"_3YPpduI5\">Read more</span><span class=\"ui_icon caret-down _1F1h5_rq\"></span></div></div></div></div></div></div>]"
      ]
     },
     "execution_count": 110,
     "metadata": {},
     "output_type": "execute_result"
    }
   ],
   "source": [
    "reviews"
   ]
  },
  {
   "cell_type": "code",
   "execution_count": 129,
   "metadata": {},
   "outputs": [
    {
     "name": "stdout",
     "output_type": "stream",
     "text": [
      "50\n",
      "10\n",
      "50\n",
      "10\n",
      "10\n"
     ]
    }
   ],
   "source": [
    "for review in reviews:\n",
    "    review1 = review.find('q').get_text()\n",
    "    #print(review)\n",
    "    rating = review.find('div', attrs = {'class' : 'nf9vGX55'})\n",
    "    number = rating.find('span')\n",
    "    number = re.findall(r'\\d+', str(number))\n",
    "        \n",
    "    print(number[0])\n",
    "#for rating in ratings:\n",
    "    #number = rating.find('span')\n",
    "    #number = re.findall(r'\\d+', str(number))\n",
    "    #print (number)"
   ]
  },
  {
   "cell_type": "code",
   "execution_count": null,
   "metadata": {},
   "outputs": [],
   "source": []
  },
  {
   "cell_type": "code",
   "execution_count": 9,
   "metadata": {},
   "outputs": [],
   "source": [
    "data = {}\n",
    "cnt = 0 \n",
    "for i in range(0, 5):#每一个url上面的review\n",
    "    data['Comment' + str(cnt)] = {}\n",
    "    review = reviews[i].find_all('span')\n",
    "    contents = []\n",
    "    for m in range (0, len(review)):\n",
    "        content = review[m].string\n",
    "        contents.append(content) #单个review\n",
    "    cnt = cnt + 1\n",
    "            "
   ]
  },
  {
   "cell_type": "code",
   "execution_count": 11,
   "metadata": {},
   "outputs": [
    {
     "data": {
      "text/plain": [
       "['today’s morning I need to go to the border gate for businesses issues. Therefore I waited for the shuttle bus, which is the basic service of the hotels in Macau. However, a lady wearing the hotel uniform came out and told me only the membership in your hotel could use that bus.Then she just stand beside me all over the time, and prohibited me to get on the bus although nobody wants to get the bus except me. I was really surprised, what a foolish policy! As I didn’t get any hotel membership, I have used many shuttle buses before and never get such a bad experience! Nowadays hotels and casinos need more support and advertise, but your hotel seems want to avoid as many customers as you can. As a hotelier I have to say that is not a good decision. I may choice other hotels to stay',\n",
       " ' in the future.',\n",
       " '…']"
      ]
     },
     "execution_count": 11,
     "metadata": {},
     "output_type": "execute_result"
    }
   ],
   "source": [
    "contents"
   ]
  },
  {
   "cell_type": "code",
   "execution_count": 5,
   "metadata": {
    "scrolled": true
   },
   "outputs": [
    {
     "ename": "IndexError",
     "evalue": "list index out of range",
     "output_type": "error",
     "traceback": [
      "\u001b[0;31m---------------------------------------------------------------------------\u001b[0m",
      "\u001b[0;31mIndexError\u001b[0m                                Traceback (most recent call last)",
      "\u001b[0;32m<ipython-input-5-ad9092f7033e>\u001b[0m in \u001b[0;36m<module>\u001b[0;34m\u001b[0m\n\u001b[1;32m     26\u001b[0m \u001b[0;31m#         ct_d.append(contents)\u001b[0m\u001b[0;34m\u001b[0m\u001b[0;34m\u001b[0m\u001b[0;34m\u001b[0m\u001b[0m\n\u001b[1;32m     27\u001b[0m         \u001b[0mdata\u001b[0m\u001b[0;34m[\u001b[0m\u001b[0;34m'Comment'\u001b[0m \u001b[0;34m+\u001b[0m \u001b[0mstr\u001b[0m\u001b[0;34m(\u001b[0m\u001b[0mcnt\u001b[0m\u001b[0;34m)\u001b[0m\u001b[0;34m]\u001b[0m\u001b[0;34m[\u001b[0m\u001b[0;34m'Content'\u001b[0m\u001b[0;34m]\u001b[0m \u001b[0;34m=\u001b[0m \u001b[0mcontents\u001b[0m\u001b[0;34m[\u001b[0m\u001b[0;36m0\u001b[0m\u001b[0;34m]\u001b[0m\u001b[0;34m\u001b[0m\u001b[0;34m\u001b[0m\u001b[0m\n\u001b[0;32m---> 28\u001b[0;31m         \u001b[0mrt\u001b[0m \u001b[0;34m=\u001b[0m \u001b[0mstr\u001b[0m\u001b[0;34m(\u001b[0m\u001b[0mlist\u001b[0m\u001b[0;34m(\u001b[0m\u001b[0mrating\u001b[0m\u001b[0;34m[\u001b[0m\u001b[0mi\u001b[0m\u001b[0;34m]\u001b[0m\u001b[0;34m.\u001b[0m\u001b[0mselect\u001b[0m\u001b[0;34m(\u001b[0m\u001b[0;34m'span'\u001b[0m\u001b[0;34m)\u001b[0m\u001b[0;34m)\u001b[0m\u001b[0;34m)\u001b[0m\u001b[0;34m\u001b[0m\u001b[0;34m\u001b[0m\u001b[0m\n\u001b[0m\u001b[1;32m     29\u001b[0m         \u001b[0mrtt\u001b[0m \u001b[0;34m=\u001b[0m \u001b[0mre\u001b[0m\u001b[0;34m.\u001b[0m\u001b[0mfindall\u001b[0m\u001b[0;34m(\u001b[0m\u001b[0;34mr'\\d+'\u001b[0m\u001b[0;34m,\u001b[0m \u001b[0mrt\u001b[0m\u001b[0;34m)\u001b[0m\u001b[0;34m\u001b[0m\u001b[0;34m\u001b[0m\u001b[0m\n\u001b[1;32m     30\u001b[0m         \u001b[0mrt2\u001b[0m \u001b[0;34m=\u001b[0m \u001b[0mint\u001b[0m\u001b[0;34m(\u001b[0m\u001b[0mrtt\u001b[0m\u001b[0;34m[\u001b[0m\u001b[0;36m0\u001b[0m\u001b[0;34m]\u001b[0m\u001b[0;34m)\u001b[0m \u001b[0;31m#单个rating\u001b[0m\u001b[0;34m\u001b[0m\u001b[0;34m\u001b[0m\u001b[0m\n",
      "\u001b[0;31mIndexError\u001b[0m: list index out of range"
     ]
    }
   ],
   "source": [
    "headers = {'User-Agent': 'Mozilla/5.0 (Macintosh; Intel Mac OS X 10_12_3) AppleWebKit/537.36 (KHTML, like Gecko) Chrome/58.0.3029.110 Safari/537.36'\n",
    "            }\n",
    "data = {}\n",
    "cnt = 1\n",
    "sub_ = []\n",
    "for n in range (0, 1):#url循环\n",
    "    \n",
    "    response = requests.get(url_list[n], headers=headers).text \n",
    "    soup = BeautifulSoup(response, 'html.parser')\n",
    "    reviews = soup.find_all('q', attrs={'class':re.compile('location-review-review-list-parts-ExpandableReview__reviewText--gOmRC|()')})\n",
    "    rating = soup.find_all('div',attrs= {'class' : 'location-review-review-list-parts-RatingLine__bubbles--GcJvM'})\n",
    "    location = soup.find_all('div',attrs= {'class' : 'social-member-MemberHeaderStats__event_info--30wFs'})\n",
    "    sub_rating = soup.find_all('div', attrs = {'class': 'hotels-community-tab-common-Card__card--ihfZB hotels-community-tab-common-Card__section--4r93H'})\n",
    "    for sub in sub_rating:#含有sub-rating的review筛选而出\n",
    "        st = sub.find_all('div', attrs = {'class': 'location-review-review-list-parts-AdditionalRatings__rating--1_G5W location-review-review-list-parts-AdditionalRatings__large--IOg2u'})\n",
    "        sub_.append(st)\n",
    "    for i in range(0, 5):#每一个url上面的review\n",
    "        \n",
    "        data['Comment' + str(cnt)] = {}\n",
    "        review = reviews[i].find_all('span')\n",
    "        contents = []\n",
    "        for m in range (0, len(review)):\n",
    "            content = review[m].string\n",
    "            contents.append(content) #单个review\n",
    "            \n",
    "#         ct_d.append(contents)\n",
    "        data['Comment' + str(cnt)]['Content'] = contents[0]\n",
    "        rt = str(list(rating[i].select('span')))\n",
    "        rtt = re.findall(r'\\d+', rt)\n",
    "        rt2 = int(rtt[0]) #单个rating\n",
    "        data['Comment' + str(cnt)]['Rating'] = rt2\n",
    "#         rts.append(rt2)#overall rating\n",
    "        \n",
    "        la = location[i].get_text()#location\n",
    "        data['Comment' + str(cnt)]['Location'] = la\n",
    "        \n",
    "        test1 = {}\n",
    "        for j in range(0, len(sub_[i])):\n",
    "            if len(sub_[i][j]) == 0:\n",
    "                continue\n",
    "            else:\n",
    "                test = {}\n",
    "                element = sub_[i][j].select('span') # \n",
    "#             print(element[-1].get_text())\n",
    "                mark = str(element[-2])  # \n",
    "#             print(re.findall(r'\\d+', mark))\n",
    "                mark = re.findall(r'\\d+', mark)\n",
    "                test[element[-1].get_text()] = int(mark[0])\n",
    "                test1 = {**test1, **test}\n",
    "            data['Comment' + str(cnt)]['Sub rating'] = test1\n",
    "            print(test)\n",
    "        cnt += 1\n",
    "    print('page%d' % (n + 1))\n"
   ]
  },
  {
   "cell_type": "code",
   "execution_count": 105,
   "metadata": {},
   "outputs": [],
   "source": [
    "st = sub_rating[0]"
   ]
  },
  {
   "cell_type": "code",
   "execution_count": 117,
   "metadata": {},
   "outputs": [],
   "source": [
    "sub_ = []\n",
    "response = requests.get(url_list[0], headers=headers).text \n",
    "soup = BeautifulSoup(response, 'html.parser')\n",
    "sub_rating = soup.find_all('div', attrs = {'class': 'hotels-community-tab-common-Card__card--ihfZB hotels-community-tab-common-Card__section--4r93H'})\n",
    "for sub in sub_rating:#含有sub-rating的review筛选而出\n",
    "    st = sub.find_all('div', attrs = {'class': 'location-review-review-list-parts-AdditionalRatings__rating--1_G5W location-review-review-list-parts-AdditionalRatings__large--IOg2u'})\n",
    "    sub_.append(st)"
   ]
  },
  {
   "cell_type": "code",
   "execution_count": 118,
   "metadata": {
    "collapsed": true
   },
   "outputs": [
    {
     "data": {
      "text/plain": [
       "<div class=\"hotels-community-tab-common-Card__card--ihfZB hotels-community-tab-common-Card__section--4r93H\" data-test-target=\"HR_CC_CARD\"><div class=\"social-member-event-MemberEventOnObjectBlock__member_event_block--1Kusx\"><a class=\"styleguide-avatar-Avatar__avatar--2NStU ui_social_avatar inline\" href=\"/Profile/keiziroi\" target=\"_self\"><img alt=\"\"/></a><div class=\"social-member-event-MemberEventOnObjectBlock__event_wrap--1YkeG\"><div class=\"social-member-event-MemberEventOnObjectBlock__member_actions--2uzIM\"><div class=\"overflow\"><span class=\"_3-zQ1eyd _3LR9XvrV\"><span class=\"_35pfga6W _2HBN-k68\"></span></span></div><span class=\"social-section-overflow-SectionOverflowMenu__float--3mJ5J\"></span></div><div class=\"social-member-event-MemberEventOnObjectBlock__event_type--3njyv\"><span><a class=\"ui_header_link social-member-event-MemberEventOnObjectBlock__member--35-jC\" href=\"/Profile/keiziroi\">keiziroi</a> wrote a review Apr 2020</span></div><div class=\"social-member-MemberHeaderStats__event_info--30wFs\"><span class=\"social-member-MemberHeaderStats__hometown_stat_item--231iN\"><span class=\"default social-member-common-MemberHometown__hometown--3kM9S small\"><span class=\"ui_icon map-pin-fill social-member-common-MemberHometown__icon--3WpeC\"></span>Shanghai Region, China</span></span><span class=\"social-member-MemberHeaderStats__stat_item--34E1r\"><span><span class=\"social-member-MemberHeaderStats__bold--3z3qh\">20</span> contributions</span></span><span class=\"social-member-MemberHeaderStats__stat_item--34E1r\"><span><span class=\"social-member-MemberHeaderStats__bold--3z3qh\">3</span> helpful votes</span></span></div></div></div><div class=\"location-review-review-list-parts-SingleReview__mainCol--1hApa\" data-reviewid=\"752762691\"><div class=\"location-review-review-list-parts-RatingLine__container--2bjtw\"><div class=\"location-review-review-list-parts-RatingLine__bubbles--GcJvM\" data-test-target=\"review-rating\"><span class=\"ui_bubble_rating bubble_50\"></span></div></div><div class=\"location-review-review-list-parts-ReviewTitle__reviewTitle--2GO9Z\" data-test-target=\"review-title\" dir=\"ltr\"><a class=\"location-review-review-list-parts-ReviewTitle__reviewTitleText--2tFRT\" href=\"/ShowUserReviews-g664891-d652912-r752762691-Altira_Macau-Macau.html\"><span><span>Everything of top standard</span></span></a></div><div class=\"location-review-review-list-parts-ExpandableReview__containerStyles--1G0AE\"><div class=\"_2f_ruteS _1bona3Pu _2uD5bLZZ\"><div class=\"cPQsENeY\" style=\"max-height:160px\"><q class=\"location-review-review-list-parts-ExpandableReview__reviewText--gOmRC\"><span>Excellent service, big room with very nice view, splendid swimming pool.  Every service I encountered was done professionally.  The only thing I felt weird was when delivering the newspaper in the morning, the staff rang the bell or notify me, which I though he could just put quietly at the door. </span></q></div><div class=\"_36B4Vw6t\"><div class=\"location-review-review-list-parts-ExpandableReview__ctaLine--24Qlb\" data-test-target=\"expand-review\"><span class=\"location-review-review-list-parts-ExpandableReview__cta--2mR2g\">Read more</span><span class=\"ui_icon caret-down location-review-review-list-parts-ExpandableReview__caret--3Ud_i\"></span></div></div></div><div class=\"location-review-review-list-parts-AttributionDisclaimer__disclaimer--1uI-6\">Review collected in partnership with this hotel<div class=\"location-review-review-list-parts-AttributionDisclaimer__question_wrapper--3RfcH\"><span class=\"ui_icon information-circle location-review-review-list-parts-AttributionDisclaimer__question---XsMg\"></span></div></div><div class=\"hotels-community-tab-reviews-ReviewsTabContent__footer--2FHIK\"><span class=\"location-review-review-list-parts-EventDate__event_date--1epHa\"><span class=\"location-review-review-list-parts-EventDate__bold--3b3PE\">Date of stay:</span> April 2020</span><span class=\"hotels-community-tab-reviews-ReviewsTabContent__hiddenReviewContent--FCrPr\"><div class=\"location-review-review-list-parts-AdditionalRatings__ratings--hIt-r\"><div class=\"location-review-review-list-parts-AdditionalRatings__rating--1_G5W location-review-review-list-parts-AdditionalRatings__large--IOg2u\"><span class=\"location-review-review-list-parts-AdditionalRatings__bubbleRating--2eoRT\"><span class=\"ui_bubble_rating bubble_50\"></span></span><span>Value</span></div><div class=\"location-review-review-list-parts-AdditionalRatings__rating--1_G5W location-review-review-list-parts-AdditionalRatings__large--IOg2u\"><span class=\"location-review-review-list-parts-AdditionalRatings__bubbleRating--2eoRT\"><span class=\"ui_bubble_rating bubble_50\"></span></span><span>Rooms</span></div><div class=\"location-review-review-list-parts-AdditionalRatings__rating--1_G5W location-review-review-list-parts-AdditionalRatings__large--IOg2u\"><span class=\"location-review-review-list-parts-AdditionalRatings__bubbleRating--2eoRT\"><span class=\"ui_bubble_rating bubble_40\"></span></span><span>Location</span></div><div class=\"location-review-review-list-parts-AdditionalRatings__rating--1_G5W location-review-review-list-parts-AdditionalRatings__large--IOg2u\"><span class=\"location-review-review-list-parts-AdditionalRatings__bubbleRating--2eoRT\"><span class=\"ui_bubble_rating bubble_50\"></span></span><span>Cleanliness</span></div><div class=\"location-review-review-list-parts-AdditionalRatings__rating--1_G5W location-review-review-list-parts-AdditionalRatings__large--IOg2u\"><span class=\"location-review-review-list-parts-AdditionalRatings__bubbleRating--2eoRT\"><span class=\"ui_bubble_rating bubble_50\"></span></span><span>Service</span></div><div class=\"location-review-review-list-parts-AdditionalRatings__rating--1_G5W location-review-review-list-parts-AdditionalRatings__large--IOg2u\"><span class=\"location-review-review-list-parts-AdditionalRatings__bubbleRating--2eoRT\"><span class=\"ui_bubble_rating bubble_50\"></span></span><span>Sleep Quality</span></div></div></span></div><div class=\"location-review-social-bar-SocialBar__bar--3YwG5\"><span class=\"social-statistics-bar-SocialStatisticsBar__bar--L8RDK social-statistics-bar-SocialStatisticsBar__brand_refresh--BBQf3\"></span><div class=\"social-actions-SocialActionBar__social_action_bar--2_j8Y\"><span class=\"social-actions-SocialAction__social_action--1RrZ- social-actions-SocialAction__cx_brand_refresh_phase2--oQHOH\"><span class=\"ui_icon thumbs-up-fill social-actions-SocialAction__icon--2WCF0\"></span><span class=\"ui_link social-actions-SocialAction__text--1yJuk\">Helpful</span></span><span class=\"social-actions-NestedSocialAction__nested_social_action--2mhpU\"><div><span><div class=\"public-share-cta-ShareCta__social_action--2yJtr public-share-cta-ShareCta__dark_icons--3I87q\"><span><span class=\"ui_icon share public-share-cta-ShareCta__icon--1Bvb0 public-share-cta-ShareCta__cx_brand_refresh_phase2--23uHd\"></span><span class=\"ui_link public-share-cta-ShareCta__text--1tWKH socialCTA\">Share<!-- --> </span></span></div></span></div></span></div></div><div class=\"location-review-review-list-parts-OwnerResponse__containerStyles--1wv-S\"><span class=\"styleguide-avatar-Avatar__avatar--2NStU ui_social_avatar small inline location-review-review-list-parts-OwnerResponse__ownerAvatar--3bb01\"><span class=\"ui_icon member-fill\"></span></span><div class=\"location-review-review-list-parts-OwnerResponse__header--2jRig\"><div class=\"location-review-review-list-parts-OwnerResponse__floatingMenu--20iPV\"><div class=\"overflow\"><span class=\"_3-zQ1eyd _3LR9XvrV\"><span class=\"_35pfga6W _2HBN-k68\"></span></span></div><span class=\"social-section-overflow-SectionOverflowMenu__float--3mJ5J\"></span></div>Response from Altira_Macau, Hotel Management  at Altira Macau<div class=\"location-review-review-list-parts-OwnerResponse__responseDate--4i8wE\" title=\"2020-04-20\">Responded Apr 19, 2020</div></div><div class=\"_2f_ruteS _1bona3Pu location-review-review-list-parts-OwnerResponse__responseReadMore--eB9_V _2uD5bLZZ\"><div class=\"cPQsENeY\" style=\"max-height:20px\"><span class=\"location-review-review-list-parts-OwnerResponse__reviewText--108-V\"><span>Dear Mr. Keiziroi,  Thank you for taking time to share the experience of your recent stay at Altira Macau.  We are pleased to learn that you were delighted with your stay . We apologize for inconveniences caused to you regarding the newspaper delivery. We will follow up with concerned department and corrective measures will be taken immediately.  Once again, thank you for your comment and we look forward to welcoming you back in the near future!  Yours sincerely,  Hotel Management Altira Macau </span></span></div><div class=\"_36B4Vw6t\"><div class=\"location-review-review-list-parts-OwnerResponse__ctaLine--2OxdB\"><span class=\"location-review-review-list-parts-OwnerResponse__cta--2QSGH\">Read more</span><span class=\"ui_icon caret-down location-review-review-list-parts-OwnerResponse__caret--1-bUW\"></span></div></div></div></div></div></div></div>"
      ]
     },
     "execution_count": 118,
     "metadata": {},
     "output_type": "execute_result"
    }
   ],
   "source": [
    "sub_rating[0]"
   ]
  },
  {
   "cell_type": "code",
   "execution_count": 116,
   "metadata": {
    "scrolled": true
   },
   "outputs": [
    {
     "data": {
      "text/plain": [
       "<div class=\"hotels-community-tab-common-Card__card--ihfZB hotels-community-tab-common-Card__section--4r93H\" data-test-target=\"HR_CC_CARD\"><div class=\"social-member-event-MemberEventOnObjectBlock__member_event_block--1Kusx\"><a class=\"styleguide-avatar-Avatar__avatar--2NStU ui_social_avatar inline\" href=\"/Profile/ichiyoraifuku\" target=\"_self\"><img alt=\"\"/></a><div class=\"social-member-event-MemberEventOnObjectBlock__event_wrap--1YkeG\"><div class=\"social-member-event-MemberEventOnObjectBlock__member_actions--2uzIM\"><div class=\"overflow\"><span class=\"_3-zQ1eyd _3LR9XvrV\"><span class=\"_35pfga6W _2HBN-k68\"></span></span></div><span class=\"social-section-overflow-SectionOverflowMenu__float--3mJ5J\"></span></div><div class=\"social-member-event-MemberEventOnObjectBlock__event_type--3njyv\"><span><a class=\"ui_header_link social-member-event-MemberEventOnObjectBlock__member--35-jC\" href=\"/Profile/ichiyoraifuku\">薩摩ドラゴン</a> wrote a review Jan 2020</span></div><div class=\"social-member-MemberHeaderStats__event_info--30wFs\"><span class=\"social-member-MemberHeaderStats__hometown_stat_item--231iN\"><span class=\"default social-member-common-MemberHometown__hometown--3kM9S small\"><span class=\"ui_icon map-pin-fill social-member-common-MemberHometown__icon--3WpeC\"></span>Kagoshima, Japan</span></span><span class=\"social-member-MemberHeaderStats__stat_item--34E1r\"><span><span class=\"social-member-MemberHeaderStats__bold--3z3qh\">6,301</span> contributions</span></span><span class=\"social-member-MemberHeaderStats__stat_item--34E1r\"><span><span class=\"social-member-MemberHeaderStats__bold--3z3qh\">736</span> helpful votes</span></span></div></div></div><div class=\"location-review-review-list-parts-SingleReview__mainCol--1hApa\" data-reviewid=\"739628186\"><div class=\"location-review-review-list-parts-RatingLine__container--2bjtw\"><div class=\"location-review-review-list-parts-RatingLine__bubbles--GcJvM\" data-test-target=\"review-rating\"><span class=\"ui_bubble_rating bubble_50\"></span></div></div><div class=\"location-review-review-list-parts-ReviewTitle__reviewTitle--2GO9Z\" data-test-target=\"review-title\" dir=\"ltr\"><a class=\"location-review-review-list-parts-ReviewTitle__reviewTitleText--2tFRT\" href=\"/ShowUserReviews-g664891-d652912-r739628186-Altira_Macau-Macau.html\"><span><span>Quite outstanding customer service</span></span></a></div><div class=\"location-review-review-list-parts-ExpandableReview__containerStyles--1G0AE\"><div class=\"_2f_ruteS _1bona3Pu _2uD5bLZZ\"><div class=\"cPQsENeY\" style=\"max-height:160px\"><q class=\"location-review-review-list-parts-ExpandableReview__reviewText--gOmRC\"><span>All staff and section customer service is quite good, so could enjoy hotel very much, especially guest service group is very polite and follow up is quite immediate and nice made me very satisfied , and All Concierge Team staff is quite polite and friendly and addressed me by name is quite good service and made me very happy!!</span></q></div><div class=\"_36B4Vw6t\"><div class=\"location-review-review-list-parts-ExpandableReview__ctaLine--24Qlb\" data-test-target=\"expand-review\"><span class=\"location-review-review-list-parts-ExpandableReview__cta--2mR2g\">Read more</span><span class=\"ui_icon caret-down location-review-review-list-parts-ExpandableReview__caret--3Ud_i\"></span></div></div></div><div class=\"location-review-review-list-parts-AttributionDisclaimer__disclaimer--1uI-6\">Review collected in partnership with this hotel<div class=\"location-review-review-list-parts-AttributionDisclaimer__question_wrapper--3RfcH\"><span class=\"ui_icon information-circle location-review-review-list-parts-AttributionDisclaimer__question---XsMg\"></span></div></div><div class=\"hotels-community-tab-reviews-ReviewsTabContent__footer--2FHIK\"><span class=\"location-review-review-list-parts-EventDate__event_date--1epHa\"><span class=\"location-review-review-list-parts-EventDate__bold--3b3PE\">Date of stay:</span> January 2020</span></div><div class=\"location-review-social-bar-SocialBar__bar--3YwG5\"><span class=\"social-statistics-bar-SocialStatisticsBar__bar--L8RDK social-statistics-bar-SocialStatisticsBar__brand_refresh--BBQf3\"></span><div class=\"social-actions-SocialActionBar__social_action_bar--2_j8Y\"><span class=\"social-actions-SocialAction__social_action--1RrZ- social-actions-SocialAction__cx_brand_refresh_phase2--oQHOH\"><span class=\"ui_icon thumbs-up-fill social-actions-SocialAction__icon--2WCF0\"></span><span class=\"ui_link social-actions-SocialAction__text--1yJuk\">Helpful</span></span><span class=\"social-actions-NestedSocialAction__nested_social_action--2mhpU\"><div><span><div class=\"public-share-cta-ShareCta__social_action--2yJtr public-share-cta-ShareCta__dark_icons--3I87q\"><span><span class=\"ui_icon share public-share-cta-ShareCta__icon--1Bvb0 public-share-cta-ShareCta__cx_brand_refresh_phase2--23uHd\"></span><span class=\"ui_link public-share-cta-ShareCta__text--1tWKH socialCTA\">Share<!-- --> </span></span></div></span></div></span></div></div><div class=\"location-review-review-list-parts-OwnerResponse__containerStyles--1wv-S\"><span class=\"styleguide-avatar-Avatar__avatar--2NStU ui_social_avatar small inline location-review-review-list-parts-OwnerResponse__ownerAvatar--3bb01\"><span class=\"ui_icon member-fill\"></span></span><div class=\"location-review-review-list-parts-OwnerResponse__header--2jRig\"><div class=\"location-review-review-list-parts-OwnerResponse__floatingMenu--20iPV\"><div class=\"overflow\"><span class=\"_3-zQ1eyd _3LR9XvrV\"><span class=\"_35pfga6W _2HBN-k68\"></span></span></div><span class=\"social-section-overflow-SectionOverflowMenu__float--3mJ5J\"></span></div>Response from Altira_Macau, Hotel Management  at Altira Macau<div class=\"location-review-review-list-parts-OwnerResponse__responseDate--4i8wE\" title=\"2020-01-21\">Responded Jan 20, 2020</div></div><div class=\"_2f_ruteS _1bona3Pu location-review-review-list-parts-OwnerResponse__responseReadMore--eB9_V _2uD5bLZZ\"><div class=\"cPQsENeY\" style=\"max-height:20px\"><span class=\"location-review-review-list-parts-OwnerResponse__reviewText--108-V\"><span>Dear FellowTraveler803262,  Thank you very much for your comments. We are delighted to learn that you had enjoyed your stay with us. Please rest assured that we will share your kind comments to respective departments and your feedback is indeed very motivating and rewarding.  Thank you again for sharing your experience. We look forward to welcoming you back for another wonderful stay at Altira Macau soon.   Yours sincerely,   Hotel Management Altira Macau  </span></span></div><div class=\"_36B4Vw6t\"><div class=\"location-review-review-list-parts-OwnerResponse__ctaLine--2OxdB\"><span class=\"location-review-review-list-parts-OwnerResponse__cta--2QSGH\">Read more</span><span class=\"ui_icon caret-down location-review-review-list-parts-OwnerResponse__caret--1-bUW\"></span></div></div></div></div></div></div></div>"
      ]
     },
     "execution_count": 116,
     "metadata": {},
     "output_type": "execute_result"
    }
   ],
   "source": [
    "sub_rating[0]"
   ]
  },
  {
   "cell_type": "code",
   "execution_count": 110,
   "metadata": {},
   "outputs": [
    {
     "data": {
      "text/plain": [
       "'https://www.tripadvisor.com/Hotel_Review-g664891-d652912-Reviews-or5-Altira_Macau-Macau.html'"
      ]
     },
     "execution_count": 110,
     "metadata": {},
     "output_type": "execute_result"
    }
   ],
   "source": [
    "url_list[1]"
   ]
  },
  {
   "cell_type": "code",
   "execution_count": 109,
   "metadata": {
    "collapsed": true
   },
   "outputs": [
    {
     "data": {
      "text/plain": [
       "[[<div class=\"location-review-review-list-parts-AdditionalRatings__rating--1_G5W location-review-review-list-parts-AdditionalRatings__large--IOg2u\"><span class=\"location-review-review-list-parts-AdditionalRatings__bubbleRating--2eoRT\"><span class=\"ui_bubble_rating bubble_50\"></span></span><span>Value</span></div>,\n",
       "  <div class=\"location-review-review-list-parts-AdditionalRatings__rating--1_G5W location-review-review-list-parts-AdditionalRatings__large--IOg2u\"><span class=\"location-review-review-list-parts-AdditionalRatings__bubbleRating--2eoRT\"><span class=\"ui_bubble_rating bubble_50\"></span></span><span>Rooms</span></div>,\n",
       "  <div class=\"location-review-review-list-parts-AdditionalRatings__rating--1_G5W location-review-review-list-parts-AdditionalRatings__large--IOg2u\"><span class=\"location-review-review-list-parts-AdditionalRatings__bubbleRating--2eoRT\"><span class=\"ui_bubble_rating bubble_40\"></span></span><span>Location</span></div>,\n",
       "  <div class=\"location-review-review-list-parts-AdditionalRatings__rating--1_G5W location-review-review-list-parts-AdditionalRatings__large--IOg2u\"><span class=\"location-review-review-list-parts-AdditionalRatings__bubbleRating--2eoRT\"><span class=\"ui_bubble_rating bubble_50\"></span></span><span>Cleanliness</span></div>,\n",
       "  <div class=\"location-review-review-list-parts-AdditionalRatings__rating--1_G5W location-review-review-list-parts-AdditionalRatings__large--IOg2u\"><span class=\"location-review-review-list-parts-AdditionalRatings__bubbleRating--2eoRT\"><span class=\"ui_bubble_rating bubble_50\"></span></span><span>Service</span></div>,\n",
       "  <div class=\"location-review-review-list-parts-AdditionalRatings__rating--1_G5W location-review-review-list-parts-AdditionalRatings__large--IOg2u\"><span class=\"location-review-review-list-parts-AdditionalRatings__bubbleRating--2eoRT\"><span class=\"ui_bubble_rating bubble_50\"></span></span><span>Sleep Quality</span></div>],\n",
       " [],\n",
       " [],\n",
       " [],\n",
       " [<div class=\"location-review-review-list-parts-AdditionalRatings__rating--1_G5W location-review-review-list-parts-AdditionalRatings__large--IOg2u\"><span class=\"location-review-review-list-parts-AdditionalRatings__bubbleRating--2eoRT\"><span class=\"ui_bubble_rating bubble_50\"></span></span><span>Value</span></div>,\n",
       "  <div class=\"location-review-review-list-parts-AdditionalRatings__rating--1_G5W location-review-review-list-parts-AdditionalRatings__large--IOg2u\"><span class=\"location-review-review-list-parts-AdditionalRatings__bubbleRating--2eoRT\"><span class=\"ui_bubble_rating bubble_50\"></span></span><span>Service</span></div>,\n",
       "  <div class=\"location-review-review-list-parts-AdditionalRatings__rating--1_G5W location-review-review-list-parts-AdditionalRatings__large--IOg2u\"><span class=\"location-review-review-list-parts-AdditionalRatings__bubbleRating--2eoRT\"><span class=\"ui_bubble_rating bubble_50\"></span></span><span>Sleep Quality</span></div>]]"
      ]
     },
     "execution_count": 109,
     "metadata": {},
     "output_type": "execute_result"
    }
   ],
   "source": [
    "sub_"
   ]
  },
  {
   "cell_type": "code",
   "execution_count": 107,
   "metadata": {
    "scrolled": true
   },
   "outputs": [
    {
     "data": {
      "text/plain": [
       "{'Comment1': {'Content': 'Excellent service, big room with very nice view, splendid swimming pool.  Every service I encountered was done professionally.  The only thing I felt weird was when delivering the newspaper in the morning, the staff rang the bell or notify me, which I though he could just put quietly at the door. ',\n",
       "  'Rating': 50,\n",
       "  'Location': 'Shanghai Region, China20 contributions3 helpful votes',\n",
       "  'Sub rating': {'Value': 50,\n",
       "   'Rooms': 50,\n",
       "   'Location': 40,\n",
       "   'Cleanliness': 50,\n",
       "   'Service': 50,\n",
       "   'Sleep Quality': 50}},\n",
       " 'Comment2': {'Content': 'Check-in and check-out were really efficient  Staff in general are really polite and friendly.   Room - size is really good. The room was really beautiful and elegant.   Facilities- the indoor pool is really great during winter. There are sauna and jacuzzi in the changing room. The gym is well-equipped too.   The only thing one may criticize is its location for not being that close to Galaxy and Venetian. As a non gambler, it fits me really well. Actually the hotel itself has a casino.   ',\n",
       "  'Rating': 50,\n",
       "  'Location': 'Hong Kong, China206 contributions80 helpful votes'},\n",
       " 'Comment3': {'Content': 'Had a relaxing stay at the waterfront king room. the panoramic view was perfect overlooking the macau/taipa bridge especially at night. The room was larger compared to most hotel rooms in Macau. The pool and the service were excellent! Front office staff were nice and informative. would definitely return ',\n",
       "  'Rating': 50,\n",
       "  'Location': 'Macau, China72 contributions13 helpful votes'},\n",
       " 'Comment4': {'Content': 'I would like to say thank you to the whole Altira team as they made an excellent job in making their guests meet beyond their every expectations even at this time.  To Michael from Front Office who surprised me with the customized luggage tag. Thank You! No wonder Altira is a Forbes 5 Star Hotel. Excellent staff like him deserves to be appreciated. Thank you for being kind and approachable   The the one from In room dining who arrange my breakfast (sorry I didn’t get your name) Thank you for your excellent service!   To Bella also from front office who arranged my check out Thank you for your patience as I have so many questions.   ',\n",
       "  'Rating': 50,\n",
       "  'Location': 'Macau, China7 contributions1 helpful vote'},\n",
       " 'Comment5': {'Content': 'We have stayed at Altira for 2 nights and really enjoyed it. The rooms overlooking Macao are very nice, large, having a cozy seating area, big bathroom and overall luxury bath supplies and amenities. And they stock many complimentary water bottles in a room so you never get thirsty. You also get a fresh fruit and complimentary soda drinks/beer from the in-room bar. The hotel has multiple Michelin and Forbes recognized restaurant but we only hit the lounge on 38th floor. It is beautifully decorated, you feel like you are in the movie! They serve yummy cocktails, live music, and you could even play pool there. Really relaxing atmosphere and a grand view towards Macao over the bay. The service is also very attentive, they literally walked us from the check-in counter to the room',\n",
       "  'Rating': 40,\n",
       "  'Location': 'Hong Kong, China298 contributions153 helpful votes',\n",
       "  'Sub rating': {'Value': 50, 'Service': 50, 'Sleep Quality': 50}}}"
      ]
     },
     "execution_count": 107,
     "metadata": {},
     "output_type": "execute_result"
    }
   ],
   "source": [
    "data"
   ]
  },
  {
   "cell_type": "code",
   "execution_count": 94,
   "metadata": {},
   "outputs": [
    {
     "data": {
      "text/plain": [
       "[]"
      ]
     },
     "execution_count": 94,
     "metadata": {},
     "output_type": "execute_result"
    }
   ],
   "source": [
    "st.find_all('div', attrs = {'class': 'location-review-review-list-parts-AdditionalRatings__rating--1_G5W location-review-review-list-parts-AdditionalRatings__large--IOg2u'})"
   ]
  },
  {
   "cell_type": "code",
   "execution_count": 72,
   "metadata": {},
   "outputs": [
    {
     "data": {
      "text/plain": [
       "'https://www.tripadvisor.com/Hotel_Review-g664891-d652912-Reviews-or5-Altira_Macau-Macau.html'"
      ]
     },
     "execution_count": 72,
     "metadata": {},
     "output_type": "execute_result"
    }
   ],
   "source": [
    "url_list[1]"
   ]
  },
  {
   "cell_type": "code",
   "execution_count": null,
   "metadata": {},
   "outputs": [],
   "source": []
  },
  {
   "cell_type": "code",
   "execution_count": 44,
   "metadata": {},
   "outputs": [
    {
     "data": {
      "text/html": [
       "<div>\n",
       "<style scoped>\n",
       "    .dataframe tbody tr th:only-of-type {\n",
       "        vertical-align: middle;\n",
       "    }\n",
       "\n",
       "    .dataframe tbody tr th {\n",
       "        vertical-align: top;\n",
       "    }\n",
       "\n",
       "    .dataframe thead th {\n",
       "        text-align: right;\n",
       "    }\n",
       "</style>\n",
       "<table border=\"1\" class=\"dataframe\">\n",
       "  <thead>\n",
       "    <tr style=\"text-align: right;\">\n",
       "      <th></th>\n",
       "      <th>content</th>\n",
       "      <th>rating</th>\n",
       "      <th>location</th>\n",
       "    </tr>\n",
       "  </thead>\n",
       "  <tbody>\n",
       "    <tr>\n",
       "      <th>0</th>\n",
       "      <td>[Excellent service, big room with very nice vi...</td>\n",
       "      <td>50</td>\n",
       "      <td>Shanghai Region, China20 contributions3 helpfu...</td>\n",
       "    </tr>\n",
       "    <tr>\n",
       "      <th>1</th>\n",
       "      <td>[Check-in and check-out were really efficient ...</td>\n",
       "      <td>50</td>\n",
       "      <td>Hong Kong, China206 contributions80 helpful votes</td>\n",
       "    </tr>\n",
       "    <tr>\n",
       "      <th>2</th>\n",
       "      <td>[Had a relaxing stay at the waterfront king ro...</td>\n",
       "      <td>50</td>\n",
       "      <td>Macau, China72 contributions13 helpful votes</td>\n",
       "    </tr>\n",
       "    <tr>\n",
       "      <th>3</th>\n",
       "      <td>[I would like to say thank you to the whole Al...</td>\n",
       "      <td>50</td>\n",
       "      <td>Macau, China7 contributions1 helpful vote</td>\n",
       "    </tr>\n",
       "    <tr>\n",
       "      <th>4</th>\n",
       "      <td>[We have stayed at Altira for 2 nights and rea...</td>\n",
       "      <td>40</td>\n",
       "      <td>Hong Kong, China298 contributions153 helpful v...</td>\n",
       "    </tr>\n",
       "    <tr>\n",
       "      <th>...</th>\n",
       "      <td>...</td>\n",
       "      <td>...</td>\n",
       "      <td>...</td>\n",
       "    </tr>\n",
       "    <tr>\n",
       "      <th>0</th>\n",
       "      <td>[In november 2007 I spent 2 nights at The Crow...</td>\n",
       "      <td>50</td>\n",
       "      <td>Abcoude, The Netherlands123 contributions28 he...</td>\n",
       "    </tr>\n",
       "    <tr>\n",
       "      <th>1</th>\n",
       "      <td>[My husband and I stayed at the Crown Macau fo...</td>\n",
       "      <td>40</td>\n",
       "      <td>Hong Kong, China71 contributions140 helpful votes</td>\n",
       "    </tr>\n",
       "    <tr>\n",
       "      <th>2</th>\n",
       "      <td>[This was my second trip to Macau for business...</td>\n",
       "      <td>50</td>\n",
       "      <td>Greenwich, Connecticut78 contributions82 helpf...</td>\n",
       "    </tr>\n",
       "    <tr>\n",
       "      <th>3</th>\n",
       "      <td>[If you are looking for a luxury hotel in Maca...</td>\n",
       "      <td>40</td>\n",
       "      <td>410 contributions309 helpful votes</td>\n",
       "    </tr>\n",
       "    <tr>\n",
       "      <th>4</th>\n",
       "      <td>[my sister and i went to Macau for a three day...</td>\n",
       "      <td>40</td>\n",
       "      <td>Oldwick, NJ27 contributions21 helpful votes</td>\n",
       "    </tr>\n",
       "  </tbody>\n",
       "</table>\n",
       "<p>225 rows × 3 columns</p>\n",
       "</div>"
      ],
      "text/plain": [
       "                                              content rating  \\\n",
       "0   [Excellent service, big room with very nice vi...     50   \n",
       "1   [Check-in and check-out were really efficient ...     50   \n",
       "2   [Had a relaxing stay at the waterfront king ro...     50   \n",
       "3   [I would like to say thank you to the whole Al...     50   \n",
       "4   [We have stayed at Altira for 2 nights and rea...     40   \n",
       "..                                                ...    ...   \n",
       "0   [In november 2007 I spent 2 nights at The Crow...     50   \n",
       "1   [My husband and I stayed at the Crown Macau fo...     40   \n",
       "2   [This was my second trip to Macau for business...     50   \n",
       "3   [If you are looking for a luxury hotel in Maca...     40   \n",
       "4   [my sister and i went to Macau for a three day...     40   \n",
       "\n",
       "                                             location  \n",
       "0   Shanghai Region, China20 contributions3 helpfu...  \n",
       "1   Hong Kong, China206 contributions80 helpful votes  \n",
       "2        Macau, China72 contributions13 helpful votes  \n",
       "3           Macau, China7 contributions1 helpful vote  \n",
       "4   Hong Kong, China298 contributions153 helpful v...  \n",
       "..                                                ...  \n",
       "0   Abcoude, The Netherlands123 contributions28 he...  \n",
       "1   Hong Kong, China71 contributions140 helpful votes  \n",
       "2   Greenwich, Connecticut78 contributions82 helpf...  \n",
       "3                  410 contributions309 helpful votes  \n",
       "4         Oldwick, NJ27 contributions21 helpful votes  \n",
       "\n",
       "[225 rows x 3 columns]"
      ]
     },
     "execution_count": 44,
     "metadata": {},
     "output_type": "execute_result"
    }
   ],
   "source": [
    "data"
   ]
  },
  {
   "cell_type": "code",
   "execution_count": 45,
   "metadata": {},
   "outputs": [],
   "source": [
    "data.to_csv('TripAdvisor_Altira.csv', encoding='utf-8-sig', index = None)"
   ]
  },
  {
   "cell_type": "code",
   "execution_count": 288,
   "metadata": {},
   "outputs": [],
   "source": [
    "reviews = soup.find_all('q', attrs={'location-review-review-list-parts-ExpandableReview__reviewText--gOmRC'})"
   ]
  },
  {
   "cell_type": "code",
   "execution_count": 218,
   "metadata": {},
   "outputs": [],
   "source": [
    "df = pd.DataFrame(data=[contents,rts,lc]).T\n",
    "df.columns = ['content','rating','location']\n",
    "df.to_csv('TripAdvisor_hotel.csv', encoding='utf-8-sig', index = None)"
   ]
  },
  {
   "cell_type": "code",
   "execution_count": 252,
   "metadata": {},
   "outputs": [],
   "source": [
    "#获取某一页review中的rating \n",
    "rating = soup.find_all('div',attrs= {'class' : 'location-review-review-list-parts-RatingLine__bubbles--GcJvM'})"
   ]
  },
  {
   "cell_type": "code",
   "execution_count": 206,
   "metadata": {},
   "outputs": [],
   "source": [
    "#获取某一页review中的rating \n",
    "import re\n",
    "rts = []\n",
    "for m in range (0,5):\n",
    "    rt = str(list(rating[m].select('span')))\n",
    "    rtt = re.findall(r'\\d+', rt)\n",
    "    rts.append(rtt)"
   ]
  },
  {
   "cell_type": "code",
   "execution_count": 212,
   "metadata": {},
   "outputs": [],
   "source": [
    "rt2 = rtt[0]"
   ]
  },
  {
   "cell_type": "code",
   "execution_count": 250,
   "metadata": {},
   "outputs": [],
   "source": [
    "location = soup.find_all('div',attrs= {'class' : 'social-member-MemberHeaderStats__event_info--30wFs'})"
   ]
  },
  {
   "cell_type": "code",
   "execution_count": 251,
   "metadata": {},
   "outputs": [
    {
     "data": {
      "text/plain": [
       "[<div class=\"social-member-MemberHeaderStats__event_info--30wFs\"></div>,\n",
       " <div class=\"social-member-MemberHeaderStats__event_info--30wFs\"></div>,\n",
       " <div class=\"social-member-MemberHeaderStats__event_info--30wFs\"><span class=\"social-member-MemberHeaderStats__hometown_stat_item--231iN\"><span class=\"default social-member-common-MemberHometown__hometown--3kM9S small\"><span class=\"ui_icon map-pin-fill social-member-common-MemberHometown__icon--3WpeC\"></span>香港</span></span></div>,\n",
       " <div class=\"social-member-MemberHeaderStats__event_info--30wFs\"></div>,\n",
       " <div class=\"social-member-MemberHeaderStats__event_info--30wFs\"></div>]"
      ]
     },
     "execution_count": 251,
     "metadata": {},
     "output_type": "execute_result"
    }
   ],
   "source": [
    "location"
   ]
  },
  {
   "cell_type": "code",
   "execution_count": 176,
   "metadata": {},
   "outputs": [],
   "source": [
    "la = location[0].get_text()"
   ]
  },
  {
   "cell_type": "code",
   "execution_count": 369,
   "metadata": {},
   "outputs": [],
   "source": [
    "# reviews = soup.find_all('q', attrs={'class':'location-review-review-list-parts-ExpandableRev)iew__reviewText--gOmRC'})\n",
    "i = 0 #把一页的review全部放入一个list中\n",
    "contents = []\n",
    "review = list(reviews)\n",
    "for i in range(0, 5):\n",
    "    content =  review[i].string\n",
    "    contents.append(content)\n",
    "    i = i + 1"
   ]
  },
  {
   "cell_type": "code",
   "execution_count": null,
   "metadata": {},
   "outputs": [],
   "source": [
    "location-review-review-list-parts-AdditionalRatings__ratings--hIt-r"
   ]
  },
  {
   "cell_type": "code",
   "execution_count": 51,
   "metadata": {},
   "outputs": [],
   "source": [
    "sub_rating = soup.find_all('div', attrs = {'class': 'hotels-community-tab-common-Card__card--ihfZB hotels-community-tab-common-Card__section--4r93H'})"
   ]
  },
  {
   "cell_type": "code",
   "execution_count": 112,
   "metadata": {},
   "outputs": [
    {
     "data": {
      "text/plain": [
       "5"
      ]
     },
     "execution_count": 112,
     "metadata": {},
     "output_type": "execute_result"
    }
   ],
   "source": [
    "len(sub_rating)"
   ]
  },
  {
   "cell_type": "code",
   "execution_count": 82,
   "metadata": {
    "scrolled": true
   },
   "outputs": [
    {
     "data": {
      "text/plain": [
       "bs4.element.Tag"
      ]
     },
     "execution_count": 82,
     "metadata": {},
     "output_type": "execute_result"
    }
   ],
   "source": [
    "sub"
   ]
  },
  {
   "cell_type": "code",
   "execution_count": 137,
   "metadata": {
    "collapsed": true
   },
   "outputs": [
    {
     "data": {
      "text/plain": [
       "[<div class=\"hotels-community-tab-common-Card__card--ihfZB hotels-community-tab-common-Card__section--4r93H\" data-test-target=\"HR_CC_CARD\"><div class=\"social-member-event-MemberEventOnObjectBlock__member_event_block--1Kusx\"><a class=\"styleguide-avatar-Avatar__avatar--2NStU ui_social_avatar inline\" href=\"/Profile/keiziroi\" target=\"_self\"><img alt=\"\"/></a><div class=\"social-member-event-MemberEventOnObjectBlock__event_wrap--1YkeG\"><div class=\"social-member-event-MemberEventOnObjectBlock__member_actions--2uzIM\"><div class=\"overflow\"><span class=\"_3-zQ1eyd _3LR9XvrV\"><span class=\"_35pfga6W _2HBN-k68\"></span></span></div><span class=\"social-section-overflow-SectionOverflowMenu__float--3mJ5J\"></span></div><div class=\"social-member-event-MemberEventOnObjectBlock__event_type--3njyv\"><span><a class=\"ui_header_link social-member-event-MemberEventOnObjectBlock__member--35-jC\" href=\"/Profile/keiziroi\">keiziroi</a> wrote a review Apr 2020</span></div><div class=\"social-member-MemberHeaderStats__event_info--30wFs\"><span class=\"social-member-MemberHeaderStats__hometown_stat_item--231iN\"><span class=\"default social-member-common-MemberHometown__hometown--3kM9S small\"><span class=\"ui_icon map-pin-fill social-member-common-MemberHometown__icon--3WpeC\"></span>Shanghai Region, China</span></span><span class=\"social-member-MemberHeaderStats__stat_item--34E1r\"><span><span class=\"social-member-MemberHeaderStats__bold--3z3qh\">20</span> contributions</span></span><span class=\"social-member-MemberHeaderStats__stat_item--34E1r\"><span><span class=\"social-member-MemberHeaderStats__bold--3z3qh\">3</span> helpful votes</span></span></div></div></div><div class=\"location-review-review-list-parts-SingleReview__mainCol--1hApa\" data-reviewid=\"752762691\"><div class=\"location-review-review-list-parts-RatingLine__container--2bjtw\"><div class=\"location-review-review-list-parts-RatingLine__bubbles--GcJvM\" data-test-target=\"review-rating\"><span class=\"ui_bubble_rating bubble_50\"></span></div></div><div class=\"location-review-review-list-parts-ReviewTitle__reviewTitle--2GO9Z\" data-test-target=\"review-title\" dir=\"ltr\"><a class=\"location-review-review-list-parts-ReviewTitle__reviewTitleText--2tFRT\" href=\"/ShowUserReviews-g664891-d652912-r752762691-Altira_Macau-Macau.html\"><span><span>Everything of top standard</span></span></a></div><div class=\"location-review-review-list-parts-ExpandableReview__containerStyles--1G0AE\"><div class=\"_2f_ruteS _1bona3Pu _2uD5bLZZ\"><div class=\"cPQsENeY\" style=\"max-height:160px\"><q class=\"location-review-review-list-parts-ExpandableReview__reviewText--gOmRC\"><span>Excellent service, big room with very nice view, splendid swimming pool.  Every service I encountered was done professionally.  The only thing I felt weird was when delivering the newspaper in the morning, the staff rang the bell or notify me, which I though he could just put quietly at the door. </span></q></div><div class=\"_36B4Vw6t\"><div class=\"location-review-review-list-parts-ExpandableReview__ctaLine--24Qlb\" data-test-target=\"expand-review\"><span class=\"location-review-review-list-parts-ExpandableReview__cta--2mR2g\">Read more</span><span class=\"ui_icon caret-down location-review-review-list-parts-ExpandableReview__caret--3Ud_i\"></span></div></div></div><div class=\"location-review-review-list-parts-AttributionDisclaimer__disclaimer--1uI-6\">Review collected in partnership with this hotel<div class=\"location-review-review-list-parts-AttributionDisclaimer__question_wrapper--3RfcH\"><span class=\"ui_icon information-circle location-review-review-list-parts-AttributionDisclaimer__question---XsMg\"></span></div></div><div class=\"hotels-community-tab-reviews-ReviewsTabContent__footer--2FHIK\"><span class=\"location-review-review-list-parts-EventDate__event_date--1epHa\"><span class=\"location-review-review-list-parts-EventDate__bold--3b3PE\">Date of stay:</span> April 2020</span><span class=\"hotels-community-tab-reviews-ReviewsTabContent__hiddenReviewContent--FCrPr\"><div class=\"location-review-review-list-parts-AdditionalRatings__ratings--hIt-r\"><div class=\"location-review-review-list-parts-AdditionalRatings__rating--1_G5W location-review-review-list-parts-AdditionalRatings__large--IOg2u\"><span class=\"location-review-review-list-parts-AdditionalRatings__bubbleRating--2eoRT\"><span class=\"ui_bubble_rating bubble_50\"></span></span><span>Value</span></div><div class=\"location-review-review-list-parts-AdditionalRatings__rating--1_G5W location-review-review-list-parts-AdditionalRatings__large--IOg2u\"><span class=\"location-review-review-list-parts-AdditionalRatings__bubbleRating--2eoRT\"><span class=\"ui_bubble_rating bubble_50\"></span></span><span>Rooms</span></div><div class=\"location-review-review-list-parts-AdditionalRatings__rating--1_G5W location-review-review-list-parts-AdditionalRatings__large--IOg2u\"><span class=\"location-review-review-list-parts-AdditionalRatings__bubbleRating--2eoRT\"><span class=\"ui_bubble_rating bubble_40\"></span></span><span>Location</span></div><div class=\"location-review-review-list-parts-AdditionalRatings__rating--1_G5W location-review-review-list-parts-AdditionalRatings__large--IOg2u\"><span class=\"location-review-review-list-parts-AdditionalRatings__bubbleRating--2eoRT\"><span class=\"ui_bubble_rating bubble_50\"></span></span><span>Cleanliness</span></div><div class=\"location-review-review-list-parts-AdditionalRatings__rating--1_G5W location-review-review-list-parts-AdditionalRatings__large--IOg2u\"><span class=\"location-review-review-list-parts-AdditionalRatings__bubbleRating--2eoRT\"><span class=\"ui_bubble_rating bubble_50\"></span></span><span>Service</span></div><div class=\"location-review-review-list-parts-AdditionalRatings__rating--1_G5W location-review-review-list-parts-AdditionalRatings__large--IOg2u\"><span class=\"location-review-review-list-parts-AdditionalRatings__bubbleRating--2eoRT\"><span class=\"ui_bubble_rating bubble_50\"></span></span><span>Sleep Quality</span></div></div></span></div><div class=\"location-review-social-bar-SocialBar__bar--3YwG5\"><span class=\"social-statistics-bar-SocialStatisticsBar__bar--L8RDK social-statistics-bar-SocialStatisticsBar__brand_refresh--BBQf3\"></span><div class=\"social-actions-SocialActionBar__social_action_bar--2_j8Y\"><span class=\"social-actions-SocialAction__social_action--1RrZ- social-actions-SocialAction__cx_brand_refresh_phase2--oQHOH\"><span class=\"ui_icon thumbs-up-fill social-actions-SocialAction__icon--2WCF0\"></span><span class=\"ui_link social-actions-SocialAction__text--1yJuk\">Helpful</span></span><span class=\"social-actions-NestedSocialAction__nested_social_action--2mhpU\"><div><span><div class=\"public-share-cta-ShareCta__social_action--2yJtr public-share-cta-ShareCta__dark_icons--3I87q\"><span><span class=\"ui_icon share public-share-cta-ShareCta__icon--1Bvb0 public-share-cta-ShareCta__cx_brand_refresh_phase2--23uHd\"></span><span class=\"ui_link public-share-cta-ShareCta__text--1tWKH socialCTA\">Share<!-- --> </span></span></div></span></div></span></div></div><div class=\"location-review-review-list-parts-OwnerResponse__containerStyles--1wv-S\"><span class=\"styleguide-avatar-Avatar__avatar--2NStU ui_social_avatar small inline location-review-review-list-parts-OwnerResponse__ownerAvatar--3bb01\"><span class=\"ui_icon member-fill\"></span></span><div class=\"location-review-review-list-parts-OwnerResponse__header--2jRig\"><div class=\"location-review-review-list-parts-OwnerResponse__floatingMenu--20iPV\"><div class=\"overflow\"><span class=\"_3-zQ1eyd _3LR9XvrV\"><span class=\"_35pfga6W _2HBN-k68\"></span></span></div><span class=\"social-section-overflow-SectionOverflowMenu__float--3mJ5J\"></span></div>Response from Altira_Macau, Hotel Management  at Altira Macau<div class=\"location-review-review-list-parts-OwnerResponse__responseDate--4i8wE\" title=\"2020-04-20\">Responded Apr 19, 2020</div></div><div class=\"_2f_ruteS _1bona3Pu location-review-review-list-parts-OwnerResponse__responseReadMore--eB9_V _2uD5bLZZ\"><div class=\"cPQsENeY\" style=\"max-height:20px\"><span class=\"location-review-review-list-parts-OwnerResponse__reviewText--108-V\"><span>Dear Mr. Keiziroi,  Thank you for taking time to share the experience of your recent stay at Altira Macau.  We are pleased to learn that you were delighted with your stay . We apologize for inconveniences caused to you regarding the newspaper delivery. We will follow up with concerned department and corrective measures will be taken immediately.  Once again, thank you for your comment and we look forward to welcoming you back in the near future!  Yours sincerely,  Hotel Management Altira Macau </span></span></div><div class=\"_36B4Vw6t\"><div class=\"location-review-review-list-parts-OwnerResponse__ctaLine--2OxdB\"><span class=\"location-review-review-list-parts-OwnerResponse__cta--2QSGH\">Read more</span><span class=\"ui_icon caret-down location-review-review-list-parts-OwnerResponse__caret--1-bUW\"></span></div></div></div></div></div></div></div>,\n",
       " <div class=\"hotels-community-tab-common-Card__card--ihfZB hotels-community-tab-common-Card__section--4r93H\" data-test-target=\"HR_CC_CARD\"><div class=\"social-member-event-MemberEventOnObjectBlock__member_event_block--1Kusx\"><a class=\"styleguide-avatar-Avatar__avatar--2NStU ui_social_avatar inline\" href=\"/Profile/miraclen\" target=\"_self\"><img alt=\"\"/></a><div class=\"social-member-event-MemberEventOnObjectBlock__event_wrap--1YkeG\"><div class=\"social-member-event-MemberEventOnObjectBlock__member_actions--2uzIM\"><div class=\"overflow\"><span class=\"_3-zQ1eyd _3LR9XvrV\"><span class=\"_35pfga6W _2HBN-k68\"></span></span></div><span class=\"social-section-overflow-SectionOverflowMenu__float--3mJ5J\"></span></div><div class=\"social-member-event-MemberEventOnObjectBlock__event_type--3njyv\"><span><a class=\"ui_header_link social-member-event-MemberEventOnObjectBlock__member--35-jC\" href=\"/Profile/miraclen\">miraclen</a> wrote a review Mar 2020</span></div><div class=\"social-member-MemberHeaderStats__event_info--30wFs\"><span class=\"social-member-MemberHeaderStats__hometown_stat_item--231iN\"><span class=\"default social-member-common-MemberHometown__hometown--3kM9S small\"><span class=\"ui_icon map-pin-fill social-member-common-MemberHometown__icon--3WpeC\"></span>Hong Kong, China</span></span><span class=\"social-member-MemberHeaderStats__stat_item--34E1r\"><span><span class=\"social-member-MemberHeaderStats__bold--3z3qh\">206</span> contributions</span></span><span class=\"social-member-MemberHeaderStats__stat_item--34E1r\"><span><span class=\"social-member-MemberHeaderStats__bold--3z3qh\">80</span> helpful votes</span></span></div></div></div><div class=\"location-review-review-list-parts-SingleReview__mainCol--1hApa\" data-reviewid=\"751544916\"><div class=\"location-review-review-list-parts-RatingLine__container--2bjtw\"><div class=\"location-review-review-list-parts-RatingLine__bubbles--GcJvM\" data-test-target=\"review-rating\"><span class=\"ui_bubble_rating bubble_50\"></span></div></div><div class=\"location-review-review-list-parts-ReviewTitle__reviewTitle--2GO9Z\" data-test-target=\"review-title\" dir=\"ltr\"><a class=\"location-review-review-list-parts-ReviewTitle__reviewTitleText--2tFRT\" href=\"/ShowUserReviews-g664891-d652912-r751544916-Altira_Macau-Macau.html\"><span><span>Excellent service and room</span></span></a></div><div class=\"location-review-review-list-parts-ExpandableReview__containerStyles--1G0AE\"><div class=\"_2f_ruteS _1bona3Pu _2uD5bLZZ\"><div class=\"cPQsENeY\" style=\"max-height:160px\"><q class=\"location-review-review-list-parts-ExpandableReview__reviewText--gOmRC\"><span>Check-in and check-out were really efficient  Staff in general are really polite and friendly.   Room - size is really good. The room was really beautiful and elegant.   Facilities- the indoor pool is really great during winter. There are sauna and jacuzzi in the changing room. The gym is well-equipped too.   The only thing one may criticize is its location for not being that close to Galaxy and Venetian. As a non gambler, it fits me really well. Actually the hotel itself has a casino.   </span></q></div><div class=\"_36B4Vw6t\"><div class=\"location-review-review-list-parts-ExpandableReview__ctaLine--24Qlb\" data-test-target=\"expand-review\"><span class=\"location-review-review-list-parts-ExpandableReview__cta--2mR2g\">Read more</span><span class=\"ui_icon caret-down location-review-review-list-parts-ExpandableReview__caret--3Ud_i\"></span></div></div></div><div class=\"hotels-community-tab-reviews-ReviewsTabContent__footer--2FHIK\"><span class=\"location-review-review-list-parts-EventDate__event_date--1epHa\"><span class=\"location-review-review-list-parts-EventDate__bold--3b3PE\">Date of stay:</span> March 2020</span><span class=\"hotels-community-tab-reviews-ReviewsTabContent__hiddenReviewContent--FCrPr\"><span class=\"location-review-review-list-parts-TripType__trip_type--3w17i\"><span class=\"trip_type_label\">Trip type: </span>Traveled as a couple</span></span></div><div class=\"location-review-social-bar-SocialBar__bar--3YwG5\"><span class=\"social-statistics-bar-SocialStatisticsBar__bar--L8RDK social-statistics-bar-SocialStatisticsBar__brand_refresh--BBQf3\"></span><div class=\"social-actions-SocialActionBar__social_action_bar--2_j8Y\"><span class=\"social-actions-SocialAction__social_action--1RrZ- social-actions-SocialAction__cx_brand_refresh_phase2--oQHOH\"><span class=\"ui_icon thumbs-up-fill social-actions-SocialAction__icon--2WCF0\"></span><span class=\"ui_link social-actions-SocialAction__text--1yJuk\">Helpful</span></span><span class=\"social-actions-NestedSocialAction__nested_social_action--2mhpU\"><div><span><div class=\"public-share-cta-ShareCta__social_action--2yJtr public-share-cta-ShareCta__dark_icons--3I87q\"><span><span class=\"ui_icon share public-share-cta-ShareCta__icon--1Bvb0 public-share-cta-ShareCta__cx_brand_refresh_phase2--23uHd\"></span><span class=\"ui_link public-share-cta-ShareCta__text--1tWKH socialCTA\">Share<!-- --> </span></span></div></span></div></span></div></div><div class=\"location-review-review-list-parts-OwnerResponse__containerStyles--1wv-S\"><span class=\"styleguide-avatar-Avatar__avatar--2NStU ui_social_avatar small inline location-review-review-list-parts-OwnerResponse__ownerAvatar--3bb01\"><span class=\"ui_icon member-fill\"></span></span><div class=\"location-review-review-list-parts-OwnerResponse__header--2jRig\"><div class=\"location-review-review-list-parts-OwnerResponse__floatingMenu--20iPV\"><div class=\"overflow\"><span class=\"_3-zQ1eyd _3LR9XvrV\"><span class=\"_35pfga6W _2HBN-k68\"></span></span></div><span class=\"social-section-overflow-SectionOverflowMenu__float--3mJ5J\"></span></div>Response from Altira_Macau, Hotel Management  at Altira Macau<div class=\"location-review-review-list-parts-OwnerResponse__responseDate--4i8wE\" title=\"2020-03-23\">Responded Mar 22, 2020</div></div><div class=\"_2f_ruteS _1bona3Pu location-review-review-list-parts-OwnerResponse__responseReadMore--eB9_V _2uD5bLZZ\"><div class=\"cPQsENeY\" style=\"max-height:20px\"><span class=\"location-review-review-list-parts-OwnerResponse__reviewText--108-V\"><span>Dear Miraclen,   Thank you very much for your comments. We are delighted to learn that you had enjoyed your stay with us. Please rest assured that we will share your kind comments to respective departments and your feedback is indeed very motivating and rewarding.   Thank you again for sharing your experience. We look forward to welcoming you back for another wonderful stay at Altira Macau soon.   Yours sincerely,  Hotel Management  Altira Macau </span></span></div><div class=\"_36B4Vw6t\"><div class=\"location-review-review-list-parts-OwnerResponse__ctaLine--2OxdB\"><span class=\"location-review-review-list-parts-OwnerResponse__cta--2QSGH\">Read more</span><span class=\"ui_icon caret-down location-review-review-list-parts-OwnerResponse__caret--1-bUW\"></span></div></div></div></div></div></div></div>,\n",
       " <div class=\"hotels-community-tab-common-Card__card--ihfZB hotels-community-tab-common-Card__section--4r93H\" data-test-target=\"HR_CC_CARD\"><div class=\"social-member-event-MemberEventOnObjectBlock__member_event_block--1Kusx\"><a class=\"styleguide-avatar-Avatar__avatar--2NStU ui_social_avatar inline\" href=\"/Profile/khalel1030\" target=\"_self\"><img alt=\"\"/></a><div class=\"social-member-event-MemberEventOnObjectBlock__event_wrap--1YkeG\"><div class=\"social-member-event-MemberEventOnObjectBlock__member_actions--2uzIM\"><div class=\"overflow\"><span class=\"_3-zQ1eyd _3LR9XvrV\"><span class=\"_35pfga6W _2HBN-k68\"></span></span></div><span class=\"social-section-overflow-SectionOverflowMenu__float--3mJ5J\"></span></div><div class=\"social-member-event-MemberEventOnObjectBlock__event_type--3njyv\"><span><a class=\"ui_header_link social-member-event-MemberEventOnObjectBlock__member--35-jC\" href=\"/Profile/khalel1030\">khalel1030</a> wrote a review Mar 2020</span></div><div class=\"social-member-MemberHeaderStats__event_info--30wFs\"><span class=\"social-member-MemberHeaderStats__hometown_stat_item--231iN\"><span class=\"default social-member-common-MemberHometown__hometown--3kM9S small\"><span class=\"ui_icon map-pin-fill social-member-common-MemberHometown__icon--3WpeC\"></span>Macau, China</span></span><span class=\"social-member-MemberHeaderStats__stat_item--34E1r\"><span><span class=\"social-member-MemberHeaderStats__bold--3z3qh\">72</span> contributions</span></span><span class=\"social-member-MemberHeaderStats__stat_item--34E1r\"><span><span class=\"social-member-MemberHeaderStats__bold--3z3qh\">13</span> helpful votes</span></span></div></div></div><div class=\"location-review-review-list-parts-SectionThumbnails__flex_grid--3KNhz\"><div class=\"location-review-review-list-parts-SectionThumbnails__flex_item--3NOi_ location-review-review-list-parts-SectionThumbnails__use3x1--2USRM\"><div class=\"ZVAUHZqh\" style=\"background-image:none;background-size:cover;height:128px;width:100%\"></div></div><div class=\"location-review-review-list-parts-SectionThumbnails__flex_item--3NOi_ location-review-review-list-parts-SectionThumbnails__use3x1--2USRM\"><div class=\"ZVAUHZqh\" style=\"background-image:none;background-size:cover;height:128px;width:100%\"></div></div><div class=\"location-review-review-list-parts-SectionThumbnails__flex_item--3NOi_ location-review-review-list-parts-SectionThumbnails__use3x1--2USRM\"><div class=\"ZVAUHZqh\" style=\"background-image:none;background-size:cover;height:128px;width:100%\"></div></div></div><div class=\"location-review-review-list-parts-SingleReview__mainCol--1hApa\" data-reviewid=\"751531913\"><div class=\"location-review-review-list-parts-RatingLine__container--2bjtw\"><div class=\"location-review-review-list-parts-RatingLine__bubbles--GcJvM\" data-test-target=\"review-rating\"><span class=\"ui_bubble_rating bubble_50\"></span></div></div><div class=\"location-review-review-list-parts-ReviewTitle__reviewTitle--2GO9Z\" data-test-target=\"review-title\" dir=\"ltr\"><a class=\"location-review-review-list-parts-ReviewTitle__reviewTitleText--2tFRT\" href=\"/ShowUserReviews-g664891-d652912-r751531913-Altira_Macau-Macau.html\"><span><span>great stay</span></span></a></div><div class=\"location-review-review-list-parts-ExpandableReview__containerStyles--1G0AE\"><div class=\"_2f_ruteS _1bona3Pu _2uD5bLZZ\"><div class=\"cPQsENeY\" style=\"max-height:160px\"><q class=\"location-review-review-list-parts-ExpandableReview__reviewText--gOmRC\"><span>Had a relaxing stay at the waterfront king room. the panoramic view was perfect overlooking the macau/taipa bridge especially at night. The room was larger compared to most hotel rooms in Macau. The pool and the service were excellent! Front office staff were nice and informative. would definitely return </span></q></div><div class=\"_36B4Vw6t\"><div class=\"location-review-review-list-parts-ExpandableReview__ctaLine--24Qlb\" data-test-target=\"expand-review\"><span class=\"location-review-review-list-parts-ExpandableReview__cta--2mR2g\">Read more</span><span class=\"ui_icon caret-down location-review-review-list-parts-ExpandableReview__caret--3Ud_i\"></span></div></div></div><div class=\"hotels-community-tab-reviews-ReviewsTabContent__footer--2FHIK\"><span class=\"location-review-review-list-parts-EventDate__event_date--1epHa\"><span class=\"location-review-review-list-parts-EventDate__bold--3b3PE\">Date of stay:</span> January 2020</span><span class=\"hotels-community-tab-reviews-ReviewsTabContent__hiddenReviewContent--FCrPr\"><span class=\"location-review-review-list-parts-TripType__trip_type--3w17i\"><span class=\"trip_type_label\">Trip type: </span>Traveled as a couple</span></span></div><div class=\"location-review-social-bar-SocialBar__bar--3YwG5\"><span class=\"social-statistics-bar-SocialStatisticsBar__bar--L8RDK social-statistics-bar-SocialStatisticsBar__brand_refresh--BBQf3\"></span><div class=\"social-actions-SocialActionBar__social_action_bar--2_j8Y\"><span class=\"social-actions-SocialAction__social_action--1RrZ- social-actions-SocialAction__cx_brand_refresh_phase2--oQHOH\"><span class=\"ui_icon thumbs-up-fill social-actions-SocialAction__icon--2WCF0\"></span><span class=\"ui_link social-actions-SocialAction__text--1yJuk\">Helpful</span></span><span class=\"social-actions-NestedSocialAction__nested_social_action--2mhpU\"><div><span><div class=\"public-share-cta-ShareCta__social_action--2yJtr public-share-cta-ShareCta__dark_icons--3I87q\"><span><span class=\"ui_icon share public-share-cta-ShareCta__icon--1Bvb0 public-share-cta-ShareCta__cx_brand_refresh_phase2--23uHd\"></span><span class=\"ui_link public-share-cta-ShareCta__text--1tWKH socialCTA\">Share<!-- --> </span></span></div></span></div></span></div></div><div class=\"location-review-review-list-parts-OwnerResponse__containerStyles--1wv-S\"><span class=\"styleguide-avatar-Avatar__avatar--2NStU ui_social_avatar small inline location-review-review-list-parts-OwnerResponse__ownerAvatar--3bb01\"><span class=\"ui_icon member-fill\"></span></span><div class=\"location-review-review-list-parts-OwnerResponse__header--2jRig\"><div class=\"location-review-review-list-parts-OwnerResponse__floatingMenu--20iPV\"><div class=\"overflow\"><span class=\"_3-zQ1eyd _3LR9XvrV\"><span class=\"_35pfga6W _2HBN-k68\"></span></span></div><span class=\"social-section-overflow-SectionOverflowMenu__float--3mJ5J\"></span></div>Response from Altira_Macau, Hotel Management  at Altira Macau<div class=\"location-review-review-list-parts-OwnerResponse__responseDate--4i8wE\" title=\"2020-03-23\">Responded Mar 22, 2020</div></div><div class=\"_2f_ruteS _1bona3Pu location-review-review-list-parts-OwnerResponse__responseReadMore--eB9_V _2uD5bLZZ\"><div class=\"cPQsENeY\" style=\"max-height:20px\"><span class=\"location-review-review-list-parts-OwnerResponse__reviewText--108-V\"><span>Dear Khalel1030,  Thank you very much for your comments. We are delighted to learn that you had enjoyed your stay with us. Please rest assured that we will share your kind comments to respective departments and your feedback is indeed very motivating and rewarding.   Thank you again for sharing your experience. We look forward to welcoming you back for another wonderful stay at Altira Macau soon.   Yours sincerely,  Hotel Management  Altira Macau </span></span></div><div class=\"_36B4Vw6t\"><div class=\"location-review-review-list-parts-OwnerResponse__ctaLine--2OxdB\"><span class=\"location-review-review-list-parts-OwnerResponse__cta--2QSGH\">Read more</span><span class=\"ui_icon caret-down location-review-review-list-parts-OwnerResponse__caret--1-bUW\"></span></div></div></div></div></div></div></div>,\n",
       " <div class=\"hotels-community-tab-common-Card__card--ihfZB hotels-community-tab-common-Card__section--4r93H\" data-test-target=\"HR_CC_CARD\"><div class=\"social-member-event-MemberEventOnObjectBlock__member_event_block--1Kusx\"><a class=\"styleguide-avatar-Avatar__avatar--2NStU ui_social_avatar inline\" href=\"/Profile/bonxsaludares\" target=\"_self\"><img alt=\"\"/></a><div class=\"social-member-event-MemberEventOnObjectBlock__event_wrap--1YkeG\"><div class=\"social-member-event-MemberEventOnObjectBlock__member_actions--2uzIM\"><div class=\"overflow\"><span class=\"_3-zQ1eyd _3LR9XvrV\"><span class=\"_35pfga6W _2HBN-k68\"></span></span></div><span class=\"social-section-overflow-SectionOverflowMenu__float--3mJ5J\"></span></div><div class=\"social-member-event-MemberEventOnObjectBlock__event_type--3njyv\"><span><a class=\"ui_header_link social-member-event-MemberEventOnObjectBlock__member--35-jC\" href=\"/Profile/bonxsaludares\">bonxsaludares</a> wrote a review Mar 2020</span></div><div class=\"social-member-MemberHeaderStats__event_info--30wFs\"><span class=\"social-member-MemberHeaderStats__hometown_stat_item--231iN\"><span class=\"default social-member-common-MemberHometown__hometown--3kM9S small\"><span class=\"ui_icon map-pin-fill social-member-common-MemberHometown__icon--3WpeC\"></span>Macau, China</span></span><span class=\"social-member-MemberHeaderStats__stat_item--34E1r\"><span><span class=\"social-member-MemberHeaderStats__bold--3z3qh\">7</span> contributions</span></span><span class=\"social-member-MemberHeaderStats__stat_item--34E1r\"><span><span class=\"social-member-MemberHeaderStats__bold--3z3qh\">1</span> helpful vote</span></span></div></div></div><div class=\"location-review-review-list-parts-SectionThumbnails__flex_grid--3KNhz\"><div class=\"location-review-review-list-parts-SectionThumbnails__flex_item--3NOi_ location-review-review-list-parts-SectionThumbnails__use2x1--2lYx-\"><div class=\"ZVAUHZqh\" style=\"background-image:none;background-size:cover;height:128px;width:100%\"></div></div><div class=\"location-review-review-list-parts-SectionThumbnails__flex_item--3NOi_ location-review-review-list-parts-SectionThumbnails__use2x1--2lYx-\"><div class=\"ZVAUHZqh\" style=\"background-image:none;background-size:cover;height:128px;width:100%\"></div></div></div><div class=\"location-review-review-list-parts-SingleReview__mainCol--1hApa\" data-reviewid=\"751452946\"><div class=\"location-review-review-list-parts-RatingLine__container--2bjtw\"><div class=\"location-review-review-list-parts-RatingLine__bubbles--GcJvM\" data-test-target=\"review-rating\"><span class=\"ui_bubble_rating bubble_50\"></span></div></div><div class=\"location-review-review-list-parts-ReviewTitle__reviewTitle--2GO9Z\" data-test-target=\"review-title\" dir=\"ltr\"><a class=\"location-review-review-list-parts-ReviewTitle__reviewTitleText--2tFRT\" href=\"/ShowUserReviews-g664891-d652912-r751452946-Altira_Macau-Macau.html\"><span><span>Unforgettable Stay</span></span></a></div><div class=\"location-review-review-list-parts-ExpandableReview__containerStyles--1G0AE\"><div class=\"_2f_ruteS _1bona3Pu _2uD5bLZZ\"><div class=\"cPQsENeY\" style=\"max-height:160px\"><q class=\"location-review-review-list-parts-ExpandableReview__reviewText--gOmRC\"><span>I would like to say thank you to the whole Altira team as they made an excellent job in making their guests meet beyond their every expectations even at this time.  To Michael from Front Office who surprised me with the customized luggage tag. Thank You! No wonder Altira is a Forbes 5 Star Hotel. Excellent staff like him deserves to be appreciated. Thank you for being kind and approachable   The the one from In room dining who arrange my breakfast (sorry I didn’t get your name) Thank you for your excellent service!   To Bella also from front office who arranged my check out Thank you for your patience as I have so many questions.   </span></q></div><div class=\"_36B4Vw6t\"><div class=\"location-review-review-list-parts-ExpandableReview__ctaLine--24Qlb\" data-test-target=\"expand-review\"><span class=\"location-review-review-list-parts-ExpandableReview__cta--2mR2g\">Read more</span><span class=\"ui_icon caret-down location-review-review-list-parts-ExpandableReview__caret--3Ud_i\"></span></div></div></div><div class=\"hotels-community-tab-reviews-ReviewsTabContent__footer--2FHIK\"><span class=\"location-review-review-list-parts-EventDate__event_date--1epHa\"><span class=\"location-review-review-list-parts-EventDate__bold--3b3PE\">Date of stay:</span> March 2020</span><span class=\"hotels-community-tab-reviews-ReviewsTabContent__hiddenReviewContent--FCrPr\"><span class=\"location-review-review-list-parts-TripType__trip_type--3w17i\"><span class=\"trip_type_label\">Trip type: </span>Traveled with friends</span></span></div><div class=\"location-review-social-bar-SocialBar__bar--3YwG5\"><span class=\"social-statistics-bar-SocialStatisticsBar__bar--L8RDK social-statistics-bar-SocialStatisticsBar__brand_refresh--BBQf3\"></span><div class=\"social-actions-SocialActionBar__social_action_bar--2_j8Y\"><span class=\"social-actions-SocialAction__social_action--1RrZ- social-actions-SocialAction__cx_brand_refresh_phase2--oQHOH\"><span class=\"ui_icon thumbs-up-fill social-actions-SocialAction__icon--2WCF0\"></span><span class=\"ui_link social-actions-SocialAction__text--1yJuk\">Helpful</span></span><span class=\"social-actions-NestedSocialAction__nested_social_action--2mhpU\"><div><span><div class=\"public-share-cta-ShareCta__social_action--2yJtr public-share-cta-ShareCta__dark_icons--3I87q\"><span><span class=\"ui_icon share public-share-cta-ShareCta__icon--1Bvb0 public-share-cta-ShareCta__cx_brand_refresh_phase2--23uHd\"></span><span class=\"ui_link public-share-cta-ShareCta__text--1tWKH socialCTA\">Share<!-- --> </span></span></div></span></div></span></div></div><div class=\"location-review-review-list-parts-OwnerResponse__containerStyles--1wv-S\"><span class=\"styleguide-avatar-Avatar__avatar--2NStU ui_social_avatar small inline location-review-review-list-parts-OwnerResponse__ownerAvatar--3bb01\"><span class=\"ui_icon member-fill\"></span></span><div class=\"location-review-review-list-parts-OwnerResponse__header--2jRig\"><div class=\"location-review-review-list-parts-OwnerResponse__floatingMenu--20iPV\"><div class=\"overflow\"><span class=\"_3-zQ1eyd _3LR9XvrV\"><span class=\"_35pfga6W _2HBN-k68\"></span></span></div><span class=\"social-section-overflow-SectionOverflowMenu__float--3mJ5J\"></span></div>Response from Altira_Macau, Hotel Management  at Altira Macau<div class=\"location-review-review-list-parts-OwnerResponse__responseDate--4i8wE\" title=\"2020-03-20\">Responded Mar 19, 2020</div></div><div class=\"_2f_ruteS _1bona3Pu location-review-review-list-parts-OwnerResponse__responseReadMore--eB9_V _2uD5bLZZ\"><div class=\"cPQsENeY\" style=\"max-height:20px\"><span class=\"location-review-review-list-parts-OwnerResponse__reviewText--108-V\"><span>Dear guest,  Thank you very much for your comments on TripAdvisor. We are delighted to learn that you had enjoyed your stay with us. Please rest assured that we will share your valuable comments to respective departments and your feedback is indeed very motivating and rewarding.   Thank you again for sharing your experience. We look forward to welcoming you back for another wonderful stay at Altira Macau soon.  Yours sincerely, Hotel Management Altira Macau</span></span></div><div class=\"_36B4Vw6t\"><div class=\"location-review-review-list-parts-OwnerResponse__ctaLine--2OxdB\"><span class=\"location-review-review-list-parts-OwnerResponse__cta--2QSGH\">Read more</span><span class=\"ui_icon caret-down location-review-review-list-parts-OwnerResponse__caret--1-bUW\"></span></div></div></div></div></div></div></div>,\n",
       " <div class=\"hotels-community-tab-common-Card__card--ihfZB hotels-community-tab-common-Card__section--4r93H\" data-test-target=\"HR_CC_CARD\"><div class=\"social-member-event-MemberEventOnObjectBlock__member_event_block--1Kusx\"><a class=\"styleguide-avatar-Avatar__avatar--2NStU ui_social_avatar inline\" href=\"/Profile/ProudCat\" target=\"_self\"><img alt=\"\"/></a><div class=\"social-member-event-MemberEventOnObjectBlock__event_wrap--1YkeG\"><div class=\"social-member-event-MemberEventOnObjectBlock__member_actions--2uzIM\"><div class=\"overflow\"><span class=\"_3-zQ1eyd _3LR9XvrV\"><span class=\"_35pfga6W _2HBN-k68\"></span></span></div><span class=\"social-section-overflow-SectionOverflowMenu__float--3mJ5J\"></span></div><div class=\"social-member-event-MemberEventOnObjectBlock__event_type--3njyv\"><span><a class=\"ui_header_link social-member-event-MemberEventOnObjectBlock__member--35-jC\" href=\"/Profile/ProudCat\">ProudCat</a> wrote a review Jan 2020</span></div><div class=\"social-member-MemberHeaderStats__event_info--30wFs\"><span class=\"social-member-MemberHeaderStats__hometown_stat_item--231iN\"><span class=\"default social-member-common-MemberHometown__hometown--3kM9S small\"><span class=\"ui_icon map-pin-fill social-member-common-MemberHometown__icon--3WpeC\"></span>Hong Kong, China</span></span><span class=\"social-member-MemberHeaderStats__stat_item--34E1r\"><span><span class=\"social-member-MemberHeaderStats__bold--3z3qh\">298</span> contributions</span></span><span class=\"social-member-MemberHeaderStats__stat_item--34E1r\"><span><span class=\"social-member-MemberHeaderStats__bold--3z3qh\">153</span> helpful votes</span></span></div></div></div><div class=\"location-review-review-list-parts-SectionThumbnails__flex_grid--3KNhz\"><div class=\"location-review-review-list-parts-SectionThumbnails__flex_item--3NOi_ location-review-review-list-parts-SectionThumbnails__use3x1--2USRM\"><div class=\"ZVAUHZqh\" style=\"background-image:none;background-size:cover;height:128px;width:100%\"></div></div><div class=\"location-review-review-list-parts-SectionThumbnails__flex_item--3NOi_ location-review-review-list-parts-SectionThumbnails__use3x1--2USRM\"><div class=\"ZVAUHZqh\" style=\"background-image:none;background-size:cover;height:128px;width:100%\"></div></div><div class=\"location-review-review-list-parts-SectionThumbnails__flex_item--3NOi_ location-review-review-list-parts-SectionThumbnails__use3x1--2USRM\"><div class=\"ZVAUHZqh\" style=\"background-image:none;background-size:cover;height:128px;width:100%\"></div></div></div><div class=\"location-review-review-list-parts-SingleReview__mainCol--1hApa\" data-reviewid=\"741912890\"><div class=\"location-review-review-list-parts-RatingLine__container--2bjtw\"><div class=\"location-review-review-list-parts-RatingLine__bubbles--GcJvM\" data-test-target=\"review-rating\"><span class=\"ui_bubble_rating bubble_40\"></span></div></div><div class=\"location-review-review-list-parts-ReviewTitle__reviewTitle--2GO9Z\" data-test-target=\"review-title\" dir=\"ltr\"><a class=\"location-review-review-list-parts-ReviewTitle__reviewTitleText--2tFRT\" href=\"/ShowUserReviews-g664891-d652912-r741912890-Altira_Macau-Macau.html\"><span><span>Upscale experience</span></span></a></div><div class=\"location-review-review-list-parts-ExpandableReview__containerStyles--1G0AE\"><div class=\"_2f_ruteS _1bona3Pu _2uD5bLZZ\"><div class=\"cPQsENeY\" style=\"max-height:160px\"><q class=\"location-review-review-list-parts-ExpandableReview__reviewText--gOmRC\"><span>We have stayed at Altira for 2 nights and really enjoyed it. The rooms overlooking Macao are very nice, large, having a cozy seating area, big bathroom and overall luxury bath supplies and amenities. And they stock many complimentary water bottles in a room so you never get thirsty. You also get a fresh fruit and complimentary soda drinks/beer from the in-room bar. The hotel has multiple Michelin and Forbes recognized restaurant but we only hit the lounge on 38th floor. It is beautifully decorated, you feel like you are in the movie! They serve yummy cocktails, live music, and you could even play pool there. Really relaxing atmosphere and a grand view towards Macao over the bay. The service is also very attentive, they literally walked us from the check-in counter to the room</span><span class=\"location-review-review-list-parts-ExpandableReview__cutReviewText--Y-gas\"> and have shown all the room amenities. Our first room smelled like someone smoked in there so they have apologized and switched our room immediately. BTW, the hotel of course has a casino and VIP lounge area. Almost forgot - we checked out their infinity pool , it is indoors and very clean and relaxing with some seating area outdoors and you could even order a fresh juice or smoothie on the spot :-) The only downside the hotel is standalone so you have to take a shuttle to Galaxy or City of Dreams (or take a taxi) in order to get closer to action. On the other hand, you could watch fireworks from the hotel or even walk to the public fireworks area where you could light your own firecrackers/fireworks for CNY!</span><span>…</span></q></div><div class=\"_36B4Vw6t\"><div class=\"location-review-review-list-parts-ExpandableReview__ctaLine--24Qlb\" data-test-target=\"expand-review\"><span class=\"location-review-review-list-parts-ExpandableReview__cta--2mR2g\">Read more</span><span class=\"ui_icon caret-down location-review-review-list-parts-ExpandableReview__caret--3Ud_i\"></span></div></div></div><div class=\"hotels-community-tab-reviews-ReviewsTabContent__footer--2FHIK\"><span class=\"location-review-review-list-parts-EventDate__event_date--1epHa\"><span class=\"location-review-review-list-parts-EventDate__bold--3b3PE\">Date of stay:</span> January 2020</span><span class=\"hotels-community-tab-reviews-ReviewsTabContent__hiddenReviewContent--FCrPr\"><div class=\"location-review-review-list-parts-AdditionalRatings__ratings--hIt-r\"><div class=\"location-review-review-list-parts-AdditionalRatings__rating--1_G5W location-review-review-list-parts-AdditionalRatings__large--IOg2u\"><span class=\"location-review-review-list-parts-AdditionalRatings__bubbleRating--2eoRT\"><span class=\"ui_bubble_rating bubble_50\"></span></span><span>Value</span></div><div class=\"location-review-review-list-parts-AdditionalRatings__rating--1_G5W location-review-review-list-parts-AdditionalRatings__large--IOg2u\"><span class=\"location-review-review-list-parts-AdditionalRatings__bubbleRating--2eoRT\"><span class=\"ui_bubble_rating bubble_50\"></span></span><span>Service</span></div><div class=\"location-review-review-list-parts-AdditionalRatings__rating--1_G5W location-review-review-list-parts-AdditionalRatings__large--IOg2u\"><span class=\"location-review-review-list-parts-AdditionalRatings__bubbleRating--2eoRT\"><span class=\"ui_bubble_rating bubble_50\"></span></span><span>Sleep Quality</span></div></div></span></div><div class=\"location-review-social-bar-SocialBar__bar--3YwG5\"><span class=\"social-statistics-bar-SocialStatisticsBar__bar--L8RDK social-statistics-bar-SocialStatisticsBar__brand_refresh--BBQf3\"></span><div class=\"social-actions-SocialActionBar__social_action_bar--2_j8Y\"><span class=\"social-actions-SocialAction__social_action--1RrZ- social-actions-SocialAction__cx_brand_refresh_phase2--oQHOH\"><span class=\"ui_icon thumbs-up-fill social-actions-SocialAction__icon--2WCF0\"></span><span class=\"ui_link social-actions-SocialAction__text--1yJuk\">Helpful</span></span><span class=\"social-actions-NestedSocialAction__nested_social_action--2mhpU\"><div><span><div class=\"public-share-cta-ShareCta__social_action--2yJtr public-share-cta-ShareCta__dark_icons--3I87q\"><span><span class=\"ui_icon share public-share-cta-ShareCta__icon--1Bvb0 public-share-cta-ShareCta__cx_brand_refresh_phase2--23uHd\"></span><span class=\"ui_link public-share-cta-ShareCta__text--1tWKH socialCTA\">Share<!-- --> </span></span></div></span></div></span></div></div><div class=\"location-review-review-list-parts-OwnerResponse__containerStyles--1wv-S\"><span class=\"styleguide-avatar-Avatar__avatar--2NStU ui_social_avatar small inline location-review-review-list-parts-OwnerResponse__ownerAvatar--3bb01\"><span class=\"ui_icon member-fill\"></span></span><div class=\"location-review-review-list-parts-OwnerResponse__header--2jRig\"><div class=\"location-review-review-list-parts-OwnerResponse__floatingMenu--20iPV\"><div class=\"overflow\"><span class=\"_3-zQ1eyd _3LR9XvrV\"><span class=\"_35pfga6W _2HBN-k68\"></span></span></div><span class=\"social-section-overflow-SectionOverflowMenu__float--3mJ5J\"></span></div>Response from Altira_Macau, Hotel Management  at Altira Macau<div class=\"location-review-review-list-parts-OwnerResponse__responseDate--4i8wE\" title=\"2020-02-06\">Responded Feb 5, 2020</div></div><div class=\"_2f_ruteS _1bona3Pu location-review-review-list-parts-OwnerResponse__responseReadMore--eB9_V _2uD5bLZZ\"><div class=\"cPQsENeY\" style=\"max-height:20px\"><span class=\"location-review-review-list-parts-OwnerResponse__reviewText--108-V\"><span>Dear guest,   Thank you very much for your comments. We are delighted to learn that you had enjoyed your stay with us. Please rest assured that we will share your kind comments to respective departments and your feedback is indeed very motivating and rewarding. Thank you again for sharing your experience. We look forward to welcoming you back for another wonderful stay at Altira Macau soon.   Yours sincerely,   Hotel Management Altira Macau </span></span></div><div class=\"_36B4Vw6t\"><div class=\"location-review-review-list-parts-OwnerResponse__ctaLine--2OxdB\"><span class=\"location-review-review-list-parts-OwnerResponse__cta--2QSGH\">Read more</span><span class=\"ui_icon caret-down location-review-review-list-parts-OwnerResponse__caret--1-bUW\"></span></div></div></div></div></div></div></div>]"
      ]
     },
     "execution_count": 137,
     "metadata": {},
     "output_type": "execute_result"
    }
   ],
   "source": [
    "sub_rating"
   ]
  },
  {
   "cell_type": "code",
   "execution_count": 23,
   "metadata": {
    "scrolled": true
   },
   "outputs": [
    {
     "name": "stdout",
     "output_type": "stream",
     "text": [
      "第1篇review\n",
      "{'Value': ['50']}\n",
      "{'Rooms': ['50']}\n",
      "{'Location': ['40']}\n",
      "{'Cleanliness': ['50']}\n",
      "{'Service': ['50']}\n",
      "{'Sleep Quality': ['50']}\n",
      "第2篇review\n",
      "第3篇review\n",
      "第4篇review\n",
      "第5篇review\n",
      "{'Value': ['50']}\n",
      "{'Service': ['50']}\n",
      "{'Sleep Quality': ['50']}\n"
     ]
    }
   ],
   "source": [
    "sub_ = []\n",
    "sub_rating = soup.find_all('div', attrs = {'class': 'hotels-community-tab-common-Card__card--ihfZB hotels-community-tab-common-Card__section--4r93H'})\n",
    "for sub in sub_rating:#含有sub-rating的review筛选而出\n",
    "    st = sub.find_all('div', attrs = {'class': 'location-review-review-list-parts-AdditionalRatings__rating--1_G5W location-review-review-list-parts-AdditionalRatings__large--IOg2u'})\n",
    "    sub_.append(st)\n",
    "# print(len(sub_))\n",
    "for i in range (0, 5):\n",
    "    print('第%d篇review' % (i + 1))\n",
    "    for j in range(0, len(sub_[i])):\n",
    "        if len(sub_[i][j]) == 0:\n",
    "            continue\n",
    "        else:\n",
    "            test = {}\n",
    "            element = sub_[i][j].select('span') # \n",
    "#             print(element[-1].get_text())\n",
    "            mark = str(element[-2])  # \n",
    "#             print(re.findall(r'\\d+', mark))\n",
    "            test[element[-1].get_text()] = re.findall(r'\\d+', mark)\n",
    "            print(test)\n",
    "        \n",
    "        \n",
    "        \n",
    "#     print(len(sub_[sbb]))\n",
    "#     sttt = list(sub_[sbb].select('span'))\n",
    "#     sttt[-1].get_text()\n",
    "#     sbb = str(sttt[-2])\n",
    "#     re.findall(r'\\d+', sbb)\n",
    "    \n",
    "    \n",
    "        \n",
    "#         for stt in st:\n",
    "#         sttt = list(stt.select('span'))\n",
    "#         print (sttt)\n",
    "#         for sb in sttt:\n",
    "#             print (sb)\n",
    "# #         rating = sttt[-1].get_text()\n",
    "#         print (rating)\n",
    "#         sbb = str(sttt[-2])\n",
    "#         re.findall(r'\\d+', sbb)\n",
    "    \n",
    "    "
   ]
  },
  {
   "cell_type": "code",
   "execution_count": 6,
   "metadata": {},
   "outputs": [
    {
     "data": {
      "text/plain": [
       "0"
      ]
     },
     "execution_count": 6,
     "metadata": {},
     "output_type": "execute_result"
    }
   ],
   "source": [
    "print()"
   ]
  },
  {
   "cell_type": "code",
   "execution_count": 18,
   "metadata": {},
   "outputs": [],
   "source": [
    "import re"
   ]
  },
  {
   "cell_type": "code",
   "execution_count": 4,
   "metadata": {
    "scrolled": true
   },
   "outputs": [
    {
     "data": {
      "text/plain": [
       "6"
      ]
     },
     "execution_count": 4,
     "metadata": {},
     "output_type": "execute_result"
    }
   ],
   "source": [
    "len(sub_[0])"
   ]
  },
  {
   "cell_type": "code",
   "execution_count": 186,
   "metadata": {},
   "outputs": [
    {
     "name": "stdout",
     "output_type": "stream",
     "text": [
      "<div class=\"location-review-review-list-parts-AdditionalRatings__rating--1_G5W location-review-review-list-parts-AdditionalRatings__large--IOg2u\"><span class=\"location-review-review-list-parts-AdditionalRatings__bubbleRating--2eoRT\"><span class=\"ui_bubble_rating bubble_50\"></span></span><span>Value</span></div>\n"
     ]
    }
   ],
   "source": [
    "stt = st[0]\n",
    "print (stt)"
   ]
  },
  {
   "cell_type": "code",
   "execution_count": 181,
   "metadata": {},
   "outputs": [
    {
     "name": "stdout",
     "output_type": "stream",
     "text": [
      "[<span class=\"location-review-review-list-parts-AdditionalRatings__bubbleRating--2eoRT\"><span class=\"ui_bubble_rating bubble_50\"></span></span>, <span class=\"ui_bubble_rating bubble_50\"></span>, <span>Value</span>]\n",
      "3\n"
     ]
    }
   ],
   "source": [
    "sttt = list(stt.select('span'))\n",
    "print (sttt)\n",
    "print (len(sttt))"
   ]
  },
  {
   "cell_type": "code",
   "execution_count": 182,
   "metadata": {},
   "outputs": [
    {
     "data": {
      "text/plain": [
       "'Value'"
      ]
     },
     "execution_count": 182,
     "metadata": {},
     "output_type": "execute_result"
    }
   ],
   "source": [
    "sttt[-1].get_text()"
   ]
  },
  {
   "cell_type": "code",
   "execution_count": 183,
   "metadata": {},
   "outputs": [
    {
     "data": {
      "text/plain": [
       "['50']"
      ]
     },
     "execution_count": 183,
     "metadata": {},
     "output_type": "execute_result"
    }
   ],
   "source": [
    "sbb = str(sttt[-2])\n",
    "re.findall(r'\\d+', sbb)"
   ]
  },
  {
   "cell_type": "code",
   "execution_count": 140,
   "metadata": {},
   "outputs": [
    {
     "name": "stdout",
     "output_type": "stream",
     "text": [
      "[<span class=\"location-review-review-list-parts-AdditionalRatings__bubbleRating--2eoRT\"><span class=\"ui_bubble_rating bubble_50\"></span></span>, <span class=\"ui_bubble_rating bubble_50\"></span>, <span>Value</span>]\n",
      "[<span class=\"location-review-review-list-parts-AdditionalRatings__bubbleRating--2eoRT\"><span class=\"ui_bubble_rating bubble_50\"></span></span>, <span class=\"ui_bubble_rating bubble_50\"></span>, <span>Service</span>]\n",
      "[<span class=\"location-review-review-list-parts-AdditionalRatings__bubbleRating--2eoRT\"><span class=\"ui_bubble_rating bubble_50\"></span></span>, <span class=\"ui_bubble_rating bubble_50\"></span>, <span>Sleep Quality</span>]\n"
     ]
    }
   ],
   "source": [
    "for stt in st:#有的st里面是有sub_rating;但是有的里面是空的\n",
    "    sttt = list(stt.select('span'))\n",
    "    print(sttt)"
   ]
  },
  {
   "cell_type": "code",
   "execution_count": 154,
   "metadata": {},
   "outputs": [
    {
     "data": {
      "text/plain": [
       "3"
      ]
     },
     "execution_count": 154,
     "metadata": {},
     "output_type": "execute_result"
    }
   ],
   "source": [
    "len(sttt)"
   ]
  },
  {
   "cell_type": "code",
   "execution_count": 155,
   "metadata": {
    "scrolled": true
   },
   "outputs": [
    {
     "name": "stdout",
     "output_type": "stream",
     "text": [
      "<span class=\"location-review-review-list-parts-AdditionalRatings__bubbleRating--2eoRT\"><span class=\"ui_bubble_rating bubble_50\"></span></span>\n",
      "<span class=\"ui_bubble_rating bubble_50\"></span>\n",
      "<span>Value</span>\n"
     ]
    }
   ],
   "source": [
    "for sb in sttt:\n",
    "    print (sb)"
   ]
  },
  {
   "cell_type": "code",
   "execution_count": 157,
   "metadata": {},
   "outputs": [
    {
     "data": {
      "text/plain": [
       "'Value'"
      ]
     },
     "execution_count": 157,
     "metadata": {},
     "output_type": "execute_result"
    }
   ],
   "source": [
    "sttt[-1].get_text()"
   ]
  },
  {
   "cell_type": "code",
   "execution_count": 162,
   "metadata": {},
   "outputs": [],
   "source": [
    "sbb = str(sttt[-2])\n",
    "re.findall(r'\\d+', sbb)"
   ]
  },
  {
   "cell_type": "code",
   "execution_count": 163,
   "metadata": {},
   "outputs": [
    {
     "data": {
      "text/plain": [
       "['50']"
      ]
     },
     "execution_count": 163,
     "metadata": {},
     "output_type": "execute_result"
    }
   ],
   "source": []
  },
  {
   "cell_type": "code",
   "execution_count": null,
   "metadata": {},
   "outputs": [],
   "source": []
  },
  {
   "cell_type": "code",
   "execution_count": 146,
   "metadata": {},
   "outputs": [],
   "source": [
    "sttttt = sttt[1]"
   ]
  },
  {
   "cell_type": "code",
   "execution_count": 147,
   "metadata": {},
   "outputs": [],
   "source": [
    "stttttr = re.findall(r'\\d+', rt)"
   ]
  },
  {
   "cell_type": "code",
   "execution_count": 148,
   "metadata": {},
   "outputs": [
    {
     "data": {
      "text/plain": [
       "['40']"
      ]
     },
     "execution_count": 148,
     "metadata": {},
     "output_type": "execute_result"
    }
   ],
   "source": [
    "stttttr"
   ]
  },
  {
   "cell_type": "code",
   "execution_count": 149,
   "metadata": {},
   "outputs": [
    {
     "data": {
      "text/plain": [
       "''"
      ]
     },
     "execution_count": 149,
     "metadata": {},
     "output_type": "execute_result"
    }
   ],
   "source": [
    "sttt[1].get_text()"
   ]
  },
  {
   "cell_type": "code",
   "execution_count": 113,
   "metadata": {},
   "outputs": [
    {
     "name": "stdout",
     "output_type": "stream",
     "text": [
      "\n",
      "Sleep Quality\n"
     ]
    }
   ],
   "source": [
    "for sttt in stt:\n",
    "    print(sttt.get_text())\n",
    "  "
   ]
  },
  {
   "cell_type": "code",
   "execution_count": 91,
   "metadata": {},
   "outputs": [
    {
     "data": {
      "text/plain": [
       "[]"
      ]
     },
     "execution_count": 91,
     "metadata": {},
     "output_type": "execute_result"
    }
   ],
   "source": [
    "stt[1].select('span')"
   ]
  },
  {
   "cell_type": "code",
   "execution_count": null,
   "metadata": {},
   "outputs": [],
   "source": [
    "rt = str(list(rating[i].select('span')))\n",
    "        rtt = re.findall(r'\\d+', rt)"
   ]
  },
  {
   "cell_type": "code",
   "execution_count": 61,
   "metadata": {},
   "outputs": [
    {
     "data": {
      "text/plain": [
       "bs4.element.ResultSet"
      ]
     },
     "execution_count": 61,
     "metadata": {},
     "output_type": "execute_result"
    }
   ],
   "source": [
    "type(sub_rating)"
   ]
  },
  {
   "cell_type": "code",
   "execution_count": 60,
   "metadata": {},
   "outputs": [
    {
     "data": {
      "text/plain": [
       "bs4.element.Tag"
      ]
     },
     "execution_count": 60,
     "metadata": {},
     "output_type": "execute_result"
    }
   ],
   "source": [
    "type(st)"
   ]
  },
  {
   "cell_type": "code",
   "execution_count": 80,
   "metadata": {},
   "outputs": [
    {
     "data": {
      "text/plain": [
       "'ValueServiceSleep Quality'"
      ]
     },
     "execution_count": 80,
     "metadata": {},
     "output_type": "execute_result"
    }
   ],
   "source": [
    "st.get_text()"
   ]
  },
  {
   "cell_type": "code",
   "execution_count": 64,
   "metadata": {},
   "outputs": [],
   "source": [
    "taglist = soup.find_all('tr', attrs={'class': re.compile(\"(odd)|()\")})\n",
    "for trtag in taglist:\n",
    "    tdlist = trtag.find_all('td')  #在每个tr标签下,查找所有的td标签\n",
    "    print tdlist[1].string   #这里提取IP值\n",
    "    print tdlist[2].string \n",
    "————————————————\n",
    "版权声明：本文为CSDN博主「Willib」的原创文章，遵循CC 4.0 BY-SA版权协议，转载请附上原文出处链接及本声明。\n",
    "原文链接：https://blog.csdn.net/willib/java/article/details/52246086"
   ]
  },
  {
   "cell_type": "code",
   "execution_count": null,
   "metadata": {},
   "outputs": [],
   "source": [
    " for i in range(0, 5):#每一个url上面的review\n",
    "        data['Comment' + str(cnt)] = {}\n",
    "        review = reviews[i].find_all('span')\n",
    "        contents = []\n",
    "        for m in range (0, len(review)):\n",
    "            content = review[m].string\n",
    "            contents.append(content) #单个review\n",
    "            \n",
    "#         ct_d.append(contents)\n",
    "        data['Comment' + str(cnt)]['Content'] = contents[0]\n",
    "        rt = str(list(rating[i].select('span')))\n",
    "        rtt = re.findall(r'\\d+', rt)\n",
    "        rt2 = rtt[0] #单个rating\n",
    "        data['Comment' + str(cnt)]['Rating'] = rt2\n",
    "#         rts.append(rt2)#overall rating\n",
    "        \n",
    "        la = location[i].get_text()#location\n",
    "        data['Comment' + str(cnt)]['Location'] = la\n",
    "        cnt += 1\n",
    "    \n",
    "#         lc.append(la)\n",
    "#         df = pd.DataFrame(data=[ct_d, rts, lc]).T\n",
    "#         df.columns = ['content','rating','location']\n",
    "    print('page%d' % (n + 1))"
   ]
  },
  {
   "cell_type": "code",
   "execution_count": 1,
   "metadata": {},
   "outputs": [],
   "source": [
    "import pandas as pd"
   ]
  },
  {
   "cell_type": "code",
   "execution_count": 2,
   "metadata": {},
   "outputs": [],
   "source": [
    "TripAdvisor_Altira = pd.read_csv ('TripAdvisor_Altira.csv')"
   ]
  },
  {
   "cell_type": "code",
   "execution_count": 3,
   "metadata": {},
   "outputs": [],
   "source": [
    "TripAdvisor_Broadway = pd.read_csv ('TripAdvisor_Broadway.csv')\n",
    "TripAdvisor_conrad_macao = pd.read_csv ('TripAdvisor_conrad_macao.csv')\n",
    "TripAdvisor_four_seasons = pd.read_csv ('TripAdvisor_four_seasons.csv')\n",
    "TripAdvisor_grand_hytta = pd.read_csv ('TripAdvisor_grand_hytta.csv')\n",
    "TripAdvisor_hotel_MGM_cotai = pd.read_csv ('TripAdvisor_hotel_MGM_cotai.csv')\n",
    "TripAdvisor_hotel_Sheraton_cotaistrip = pd.read_csv ('TripAdvisor_hotel_Sheraton_cotaistrip.csv')\n",
    "TripAdvisor_JW_MARRIOTT = pd.read_csv ('TripAdvisor_JW_MARRIOTT.csv')\n",
    "TripAdvisor_parisian = pd.read_csv ('TripAdvisor_parisian.csv')\n",
    "TripAdvisor_Sofitel = pd.read_csv ('TripAdvisor_Sofitel.csv')\n",
    "TripAdvisor_studio_city = pd.read_csv ('TripAdvisor_studio_city.csv')\n",
    "TripAdvisor_venetian = pd.read_csv ('TripAdvisor_venetian.csv')"
   ]
  },
  {
   "cell_type": "code",
   "execution_count": 4,
   "metadata": {},
   "outputs": [],
   "source": [
    "review_all = pd.concat([TripAdvisor_Broadway, TripAdvisor_conrad_macao, TripAdvisor_four_seasons, \\\n",
    "        TripAdvisor_grand_hytta, TripAdvisor_hotel_MGM_cotai,TripAdvisor_hotel_Sheraton_cotaistrip, \\\n",
    "          TripAdvisor_JW_MARRIOTT, TripAdvisor_parisian, TripAdvisor_Sofitel, \\\n",
    "          TripAdvisor_studio_city, TripAdvisor_venetian])"
   ]
  },
  {
   "cell_type": "code",
   "execution_count": 6,
   "metadata": {},
   "outputs": [],
   "source": [
    "review_all.to_csv('review_all.csv', encoding='utf-8-sig', index = None)"
   ]
  },
  {
   "cell_type": "code",
   "execution_count": 166,
   "metadata": {},
   "outputs": [],
   "source": [
    "review_random = review_all.sample(n=100,random_state=1)"
   ]
  },
  {
   "cell_type": "code",
   "execution_count": 167,
   "metadata": {},
   "outputs": [],
   "source": [
    "review_random.to_csv ('review_random.csv')"
   ]
  },
  {
   "cell_type": "code",
   "execution_count": 168,
   "metadata": {},
   "outputs": [],
   "source": [
    "review_random_positive = review_random[review_random['rating']>30]"
   ]
  },
  {
   "cell_type": "code",
   "execution_count": 177,
   "metadata": {},
   "outputs": [],
   "source": [
    "r_p = review_random_positive['content']\n",
    "r_p = r_p.apply(lambda x: x.strip('['))"
   ]
  },
  {
   "cell_type": "code",
   "execution_count": 179,
   "metadata": {},
   "outputs": [],
   "source": [
    "r_p = r_p.apply(lambda x: x.strip(']'))"
   ]
  },
  {
   "cell_type": "code",
   "execution_count": 181,
   "metadata": {},
   "outputs": [
    {
     "ename": "SyntaxError",
     "evalue": "EOF while scanning triple-quoted string literal (<ipython-input-181-dbbad63eeb0e>, line 1)",
     "output_type": "error",
     "traceback": [
      "\u001b[0;36m  File \u001b[0;32m\"<ipython-input-181-dbbad63eeb0e>\"\u001b[0;36m, line \u001b[0;32m1\u001b[0m\n\u001b[0;31m    r_p = r_p.apply(lambda x: x.strip('''))\u001b[0m\n\u001b[0m                                           ^\u001b[0m\n\u001b[0;31mSyntaxError\u001b[0m\u001b[0;31m:\u001b[0m EOF while scanning triple-quoted string literal\n"
     ]
    }
   ],
   "source": []
  },
  {
   "cell_type": "code",
   "execution_count": 180,
   "metadata": {},
   "outputs": [],
   "source": [
    "import numpy as np\n",
    "np.savetxt('positive.txt', r_p.values, fmt='%s')"
   ]
  },
  {
   "cell_type": "code",
   "execution_count": 158,
   "metadata": {},
   "outputs": [],
   "source": [
    "a = review_random_positive['content']"
   ]
  },
  {
   "cell_type": "code",
   "execution_count": 138,
   "metadata": {},
   "outputs": [],
   "source": [
    "review_random_positive = review_random_positive.loc[:,['content','rating']] "
   ]
  },
  {
   "cell_type": "code",
   "execution_count": 146,
   "metadata": {},
   "outputs": [],
   "source": [
    "review_random_positive.to_csv('review_random_positive.csv', index = None)"
   ]
  },
  {
   "cell_type": "code",
   "execution_count": 141,
   "metadata": {},
   "outputs": [],
   "source": [
    "review_random_negative = review_random[review_random['rating']<40]"
   ]
  },
  {
   "cell_type": "code",
   "execution_count": 143,
   "metadata": {},
   "outputs": [],
   "source": [
    "review_random_negative = review_random_negative.loc[:,['content','rating']] "
   ]
  },
  {
   "cell_type": "code",
   "execution_count": 147,
   "metadata": {},
   "outputs": [],
   "source": [
    "review_random_negative.to_csv('review_random_negative.csv', index = None)"
   ]
  },
  {
   "cell_type": "code",
   "execution_count": 164,
   "metadata": {},
   "outputs": [],
   "source": [
    "import numpy as np\n",
    "np.savetxt('positive.txt', a.values, fmt='%s')"
   ]
  },
  {
   "cell_type": "code",
   "execution_count": 182,
   "metadata": {},
   "outputs": [],
   "source": [
    "import json as js"
   ]
  },
  {
   "cell_type": "code",
   "execution_count": 183,
   "metadata": {},
   "outputs": [],
   "source": [
    "with open('project_2_labels.json', 'r') as f:\n",
    "    data = json.load(f)"
   ]
  },
  {
   "cell_type": "code",
   "execution_count": 184,
   "metadata": {},
   "outputs": [
    {
     "data": {
      "text/plain": [
       "[{'id': 3,\n",
       "  'text': 'hotel',\n",
       "  'prefix_key': None,\n",
       "  'suffix_key': None,\n",
       "  'background_color': '#B6FF00',\n",
       "  'text_color': '#ffffff'},\n",
       " {'id': 4,\n",
       "  'text': 'size',\n",
       "  'prefix_key': None,\n",
       "  'suffix_key': None,\n",
       "  'background_color': '#FF0000',\n",
       "  'text_color': '#ffffff'},\n",
       " {'id': 5,\n",
       "  'text': 'front desk',\n",
       "  'prefix_key': None,\n",
       "  'suffix_key': None,\n",
       "  'background_color': '#03A9F4',\n",
       "  'text_color': '#ffffff'},\n",
       " {'id': 6,\n",
       "  'text': 'experience',\n",
       "  'prefix_key': None,\n",
       "  'suffix_key': None,\n",
       "  'background_color': '#F06292',\n",
       "  'text_color': '#ffffff'},\n",
       " {'id': 7,\n",
       "  'text': 'entertainment',\n",
       "  'prefix_key': None,\n",
       "  'suffix_key': None,\n",
       "  'background_color': '#A21645',\n",
       "  'text_color': '#ffffff'},\n",
       " {'id': 8,\n",
       "  'text': 'facility',\n",
       "  'prefix_key': None,\n",
       "  'suffix_key': None,\n",
       "  'background_color': '#26A69A',\n",
       "  'text_color': '#ffffff'},\n",
       " {'id': 9,\n",
       "  'text': 'price',\n",
       "  'prefix_key': None,\n",
       "  'suffix_key': None,\n",
       "  'background_color': '#66BB6A',\n",
       "  'text_color': '#ffffff'},\n",
       " {'id': 10,\n",
       "  'text': 'activity',\n",
       "  'prefix_key': None,\n",
       "  'suffix_key': None,\n",
       "  'background_color': '#FF0000',\n",
       "  'text_color': '#ffffff'},\n",
       " {'id': 11,\n",
       "  'text': 'room',\n",
       "  'prefix_key': None,\n",
       "  'suffix_key': None,\n",
       "  'background_color': '#FFA726',\n",
       "  'text_color': '#ffffff'},\n",
       " {'id': 12,\n",
       "  'text': 'design',\n",
       "  'prefix_key': None,\n",
       "  'suffix_key': None,\n",
       "  'background_color': '#A56262',\n",
       "  'text_color': '#ffffff'},\n",
       " {'id': 13,\n",
       "  'text': 'bed',\n",
       "  'prefix_key': None,\n",
       "  'suffix_key': None,\n",
       "  'background_color': '#9CCC65',\n",
       "  'text_color': '#ffffff'},\n",
       " {'id': 14,\n",
       "  'text': 'bathroom',\n",
       "  'prefix_key': None,\n",
       "  'suffix_key': None,\n",
       "  'background_color': '#B39DDB',\n",
       "  'text_color': '#ffffff'},\n",
       " {'id': 15,\n",
       "  'text': 'check in',\n",
       "  'prefix_key': None,\n",
       "  'suffix_key': None,\n",
       "  'background_color': '#FF0000',\n",
       "  'text_color': '#ffffff'},\n",
       " {'id': 16,\n",
       "  'text': 'hotel interior',\n",
       "  'prefix_key': None,\n",
       "  'suffix_key': None,\n",
       "  'background_color': '#FB8C00',\n",
       "  'text_color': '#ffffff'},\n",
       " {'id': 17,\n",
       "  'text': 'living area',\n",
       "  'prefix_key': None,\n",
       "  'suffix_key': None,\n",
       "  'background_color': '#00BCD4',\n",
       "  'text_color': '#ffffff'},\n",
       " {'id': 18,\n",
       "  'text': 'view',\n",
       "  'prefix_key': None,\n",
       "  'suffix_key': None,\n",
       "  'background_color': '#00D7FF',\n",
       "  'text_color': '#ffffff'},\n",
       " {'id': 19,\n",
       "  'text': 'staff',\n",
       "  'prefix_key': None,\n",
       "  'suffix_key': None,\n",
       "  'background_color': '#B39DDB',\n",
       "  'text_color': '#ffffff'},\n",
       " {'id': 20,\n",
       "  'text': 'lounge',\n",
       "  'prefix_key': None,\n",
       "  'suffix_key': None,\n",
       "  'background_color': '#81D4FA',\n",
       "  'text_color': '#ffffff'},\n",
       " {'id': 21,\n",
       "  'text': 'dining room',\n",
       "  'prefix_key': None,\n",
       "  'suffix_key': None,\n",
       "  'background_color': '#EF5350',\n",
       "  'text_color': '#ffffff'},\n",
       " {'id': 22,\n",
       "  'text': 'entertainment room',\n",
       "  'prefix_key': None,\n",
       "  'suffix_key': None,\n",
       "  'background_color': '#D81B60',\n",
       "  'text_color': '#ffffff'},\n",
       " {'id': 23,\n",
       "  'text': 'decoration',\n",
       "  'prefix_key': None,\n",
       "  'suffix_key': None,\n",
       "  'background_color': '#26C6DA',\n",
       "  'text_color': '#ffffff'},\n",
       " {'id': 24,\n",
       "  'text': 'space',\n",
       "  'prefix_key': None,\n",
       "  'suffix_key': None,\n",
       "  'background_color': '#64B5F6',\n",
       "  'text_color': '#ffffff'},\n",
       " {'id': 25,\n",
       "  'text': 'mattress',\n",
       "  'prefix_key': None,\n",
       "  'suffix_key': None,\n",
       "  'background_color': '#81C784',\n",
       "  'text_color': '#ffffff'}]"
      ]
     },
     "execution_count": 184,
     "metadata": {},
     "output_type": "execute_result"
    }
   ],
   "source": [
    "data"
   ]
  },
  {
   "cell_type": "code",
   "execution_count": 186,
   "metadata": {},
   "outputs": [
    {
     "ename": "JSONDecodeError",
     "evalue": "Extra data: line 2 column 1 (char 880)",
     "output_type": "error",
     "traceback": [
      "\u001b[0;31m---------------------------------------------------------------------------\u001b[0m",
      "\u001b[0;31mJSONDecodeError\u001b[0m                           Traceback (most recent call last)",
      "\u001b[0;32m<ipython-input-186-6c09139fc84e>\u001b[0m in \u001b[0;36m<module>\u001b[0;34m\u001b[0m\n\u001b[1;32m      1\u001b[0m \u001b[0;32mwith\u001b[0m \u001b[0mopen\u001b[0m\u001b[0;34m(\u001b[0m\u001b[0;34m'file.json'\u001b[0m\u001b[0;34m,\u001b[0m \u001b[0;34m'r'\u001b[0m\u001b[0;34m)\u001b[0m \u001b[0;32mas\u001b[0m \u001b[0mf\u001b[0m\u001b[0;34m:\u001b[0m\u001b[0;34m\u001b[0m\u001b[0;34m\u001b[0m\u001b[0m\n\u001b[0;32m----> 2\u001b[0;31m     \u001b[0mdata1\u001b[0m \u001b[0;34m=\u001b[0m \u001b[0mjson\u001b[0m\u001b[0;34m.\u001b[0m\u001b[0mload\u001b[0m\u001b[0;34m(\u001b[0m\u001b[0mf\u001b[0m\u001b[0;34m)\u001b[0m\u001b[0;34m\u001b[0m\u001b[0;34m\u001b[0m\u001b[0m\n\u001b[0m",
      "\u001b[0;32m/Applications/anaconda3/lib/python3.7/json/__init__.py\u001b[0m in \u001b[0;36mload\u001b[0;34m(fp, cls, object_hook, parse_float, parse_int, parse_constant, object_pairs_hook, **kw)\u001b[0m\n\u001b[1;32m    294\u001b[0m         \u001b[0mcls\u001b[0m\u001b[0;34m=\u001b[0m\u001b[0mcls\u001b[0m\u001b[0;34m,\u001b[0m \u001b[0mobject_hook\u001b[0m\u001b[0;34m=\u001b[0m\u001b[0mobject_hook\u001b[0m\u001b[0;34m,\u001b[0m\u001b[0;34m\u001b[0m\u001b[0;34m\u001b[0m\u001b[0m\n\u001b[1;32m    295\u001b[0m         \u001b[0mparse_float\u001b[0m\u001b[0;34m=\u001b[0m\u001b[0mparse_float\u001b[0m\u001b[0;34m,\u001b[0m \u001b[0mparse_int\u001b[0m\u001b[0;34m=\u001b[0m\u001b[0mparse_int\u001b[0m\u001b[0;34m,\u001b[0m\u001b[0;34m\u001b[0m\u001b[0;34m\u001b[0m\u001b[0m\n\u001b[0;32m--> 296\u001b[0;31m         parse_constant=parse_constant, object_pairs_hook=object_pairs_hook, **kw)\n\u001b[0m\u001b[1;32m    297\u001b[0m \u001b[0;34m\u001b[0m\u001b[0m\n\u001b[1;32m    298\u001b[0m \u001b[0;34m\u001b[0m\u001b[0m\n",
      "\u001b[0;32m/Applications/anaconda3/lib/python3.7/json/__init__.py\u001b[0m in \u001b[0;36mloads\u001b[0;34m(s, encoding, cls, object_hook, parse_float, parse_int, parse_constant, object_pairs_hook, **kw)\u001b[0m\n\u001b[1;32m    346\u001b[0m             \u001b[0mparse_int\u001b[0m \u001b[0;32mis\u001b[0m \u001b[0;32mNone\u001b[0m \u001b[0;32mand\u001b[0m \u001b[0mparse_float\u001b[0m \u001b[0;32mis\u001b[0m \u001b[0;32mNone\u001b[0m \u001b[0;32mand\u001b[0m\u001b[0;34m\u001b[0m\u001b[0;34m\u001b[0m\u001b[0m\n\u001b[1;32m    347\u001b[0m             parse_constant is None and object_pairs_hook is None and not kw):\n\u001b[0;32m--> 348\u001b[0;31m         \u001b[0;32mreturn\u001b[0m \u001b[0m_default_decoder\u001b[0m\u001b[0;34m.\u001b[0m\u001b[0mdecode\u001b[0m\u001b[0;34m(\u001b[0m\u001b[0ms\u001b[0m\u001b[0;34m)\u001b[0m\u001b[0;34m\u001b[0m\u001b[0;34m\u001b[0m\u001b[0m\n\u001b[0m\u001b[1;32m    349\u001b[0m     \u001b[0;32mif\u001b[0m \u001b[0mcls\u001b[0m \u001b[0;32mis\u001b[0m \u001b[0;32mNone\u001b[0m\u001b[0;34m:\u001b[0m\u001b[0;34m\u001b[0m\u001b[0;34m\u001b[0m\u001b[0m\n\u001b[1;32m    350\u001b[0m         \u001b[0mcls\u001b[0m \u001b[0;34m=\u001b[0m \u001b[0mJSONDecoder\u001b[0m\u001b[0;34m\u001b[0m\u001b[0;34m\u001b[0m\u001b[0m\n",
      "\u001b[0;32m/Applications/anaconda3/lib/python3.7/json/decoder.py\u001b[0m in \u001b[0;36mdecode\u001b[0;34m(self, s, _w)\u001b[0m\n\u001b[1;32m    338\u001b[0m         \u001b[0mend\u001b[0m \u001b[0;34m=\u001b[0m \u001b[0m_w\u001b[0m\u001b[0;34m(\u001b[0m\u001b[0ms\u001b[0m\u001b[0;34m,\u001b[0m \u001b[0mend\u001b[0m\u001b[0;34m)\u001b[0m\u001b[0;34m.\u001b[0m\u001b[0mend\u001b[0m\u001b[0;34m(\u001b[0m\u001b[0;34m)\u001b[0m\u001b[0;34m\u001b[0m\u001b[0;34m\u001b[0m\u001b[0m\n\u001b[1;32m    339\u001b[0m         \u001b[0;32mif\u001b[0m \u001b[0mend\u001b[0m \u001b[0;34m!=\u001b[0m \u001b[0mlen\u001b[0m\u001b[0;34m(\u001b[0m\u001b[0ms\u001b[0m\u001b[0;34m)\u001b[0m\u001b[0;34m:\u001b[0m\u001b[0;34m\u001b[0m\u001b[0;34m\u001b[0m\u001b[0m\n\u001b[0;32m--> 340\u001b[0;31m             \u001b[0;32mraise\u001b[0m \u001b[0mJSONDecodeError\u001b[0m\u001b[0;34m(\u001b[0m\u001b[0;34m\"Extra data\"\u001b[0m\u001b[0;34m,\u001b[0m \u001b[0ms\u001b[0m\u001b[0;34m,\u001b[0m \u001b[0mend\u001b[0m\u001b[0;34m)\u001b[0m\u001b[0;34m\u001b[0m\u001b[0;34m\u001b[0m\u001b[0m\n\u001b[0m\u001b[1;32m    341\u001b[0m         \u001b[0;32mreturn\u001b[0m \u001b[0mobj\u001b[0m\u001b[0;34m\u001b[0m\u001b[0;34m\u001b[0m\u001b[0m\n\u001b[1;32m    342\u001b[0m \u001b[0;34m\u001b[0m\u001b[0m\n",
      "\u001b[0;31mJSONDecodeError\u001b[0m: Extra data: line 2 column 1 (char 880)"
     ]
    }
   ],
   "source": [
    "with open('file.json', 'r') as f:\n",
    "    data1 = json.load(f)"
   ]
  },
  {
   "cell_type": "code",
   "execution_count": 188,
   "metadata": {},
   "outputs": [
    {
     "name": "stdout",
     "output_type": "stream",
     "text": [
      "{'id': 188, 'text': \"'Very nice room, huge Royale suit, much too big in actual fact. Make me feel lost!! But then one is in Macau for other reasons and not just just admiring the room decor and having a bath every hour! Yes, the bed was very comfortable and the bathroom was very nice. The carpet was spotless and there were even two television sets in the room. However, I could not sleep well, even in one of the best hotel I have stayed in Macau or in my travels! The humming noise from the air-conditioning vent was too noisy to ignore. Maybe I got a bad room??  The other thing is simply, the Venetian is too big!! One can get lost easily in the maze.  On the plus side, checking in was very efficient, once you locate the check in reception in the huge maze. Check out was very good too and the management', '…'\", 'annotations': [], 'meta': {}, 'annotation_approver': None}\n",
      "{'id': 189, 'text': \"'Just spent a good couple of days at the Sheraton on the club level over the holiday weekend. I would recommend this hotel due to good customer service overall especially the club lounge set up. They were without exception courteous, friendly and very helpful. A good breakfast served and 2 hour happy hour from 5.30 to 7.30 with outside seating if required. They also have some nibbles and sandwiches available at lunch time. The hotel is centrally located on the strip and is joined to the Venetian centre by a walk way. There is a cheap and cheerful food court on the 3rd floor as an alternative to restaurants. shops and casino on the lower levels. Free coach transfers from and to the ferry and airport terminals that run about every 15 mins. The only fail was with the house keeping', '…'\", 'annotations': [], 'meta': {}, 'annotation_approver': None}\n",
      "{'id': 190, 'text': '\"We had an awesome night staying in Venetian. Room was so big and clean, bed was so comfortable. Anyway, be careful of taxis in Macau, they will charge you a lot (not using meter). You have ask them to start the meter before going, or just left the taxi if they refuse. I was charged HKD$200 from Venetian hotel to Senado Square. Second time, when we wanted to go to Macau Taipa Ferry terminal, taxi driver also charged us HKD$200 (it\\'s very near, only 5-10 mins driving!!) and I asked the driver to stop in the middle way. Thankfully, we were still in Venetian area, and one of the staff of Venetian Hotel saw us stepped down from the taxi with lots of luggages, and he helped us to find free shuttle bus to Macau Taipa Ferry Terminal.  I\\'m so thankful for the staffs here, staffs are very\", \\'…\\'', 'annotations': [], 'meta': {}, 'annotation_approver': None}\n",
      "{'id': 191, 'text': \"'One of the best hotels we have stayed at. All elements refined in detail, we felt like a Royal Family. I am convinced that we will return to Macao and the Conrad Macao Hotel which I’m sure is the best. We are Thank you to the staff for a great stay.'\", 'annotations': [], 'meta': {}, 'annotation_approver': None}\n",
      "{'id': 192, 'text': \"'The building is very nice! The tower is looks gorgeous at night. We stayed in the hotel last year November and was given free tickets for the tower. It was cold but the feeling is good when we are at the top of the tower. The room is good too. But the casino is disappointing. The service in the casino is good but the winning rate of the slots machines is very low. I had been to the casino a few times with my friend, family and relatives, and we ended up losing all the times. We already blacklisted this casino and Venetian casino. Do gamblers please take note of this.'\", 'annotations': [], 'meta': {}, 'annotation_approver': None}\n",
      "{'id': 193, 'text': '\"We stayed here as part of a trip for my Husband\\'s 50th birthday. The hotel provided a lovely little cake for his birthday, sent up at a time prearranged with reception, which was a lovely touch. It\\'s an easy walk to Senado Square and St. Paul\\'s. We didn\\'t use the shuttle bus on our way to the hotel, as we travelled with a new service by TurboJet, but we did use the shuttle back to the ferry terminal which proved easy and well organised. The room was a lovely size and very clean. There was even a tv for viewing in the bath! Our view was of the city, not the prettiest, bit shabby, but interesting. I like it when the hotel provide an iron and board in your room and this was the case here. Breakfast was good with plenty of choice. We didn\\'t use the pool as we only stayed 2 nights,\", \\'…\\'', 'annotations': [], 'meta': {}, 'annotation_approver': None}\n",
      "{'id': 194, 'text': \"'First trip to Macau and we all had a great time. Our rooms were gorgeous. Staff were amazing from the minute we got out of our taxi. Check-in easy and no issues. Buffet breakfasts were amazing. The pool is incredible. All staff so very helpful if we asked something or had to get somewhere. A great trip and lots of happy memories at this hotel. '\", 'annotations': [], 'meta': {}, 'annotation_approver': None}\n",
      "{'id': 195, 'text': \"'excellent resort to spend time with your family. huge casino, great rooms and excellent service. the shuttle to ferry terminal was excellent and food was also good. in room dining includes few indian main course dishes and was nice. overall an excellent hotel with an excellent food court and shopping mall inside the hotel. an excellent experience.'\", 'annotations': [], 'meta': {}, 'annotation_approver': None}\n",
      "{'id': 221, 'text': '\"The hotel was with awesome facilities !!! If some loves casino this hotel is Mecca for him easily connected with other hotels .. not miss it\\'s cuisine Resturant special golden peacock hotel but the only thing which pisses you off is check inn process which really slow!!\"', 'annotations': [], 'meta': {}, 'annotation_approver': None}\n",
      "{'id': 185, 'text': \"'The room was perfect. We were upgraded to a suite, the living area is comfortable, the view is great, and the bathroom is the best, especially the big bath tub. The staff in the lounge is very very good and helpful. We really had a wonderful stay there. Thank you. 房間很棒，我們被安排到套房，客廳很寬敞舒適，浴室很棒，特別是有一個豪華浴缸。酒廊的服務人員非常棒，非常貼心，讓我們感受溫暖。'\", 'annotations': [{'label': 11, 'start_offset': 5, 'end_offset': 9, 'user': 1}, {'label': 17, 'start_offset': 56, 'end_offset': 67, 'user': 1}, {'label': 17, 'start_offset': 71, 'end_offset': 82, 'user': 1}, {'label': 18, 'start_offset': 88, 'end_offset': 92, 'user': 1}, {'label': 18, 'start_offset': 96, 'end_offset': 101, 'user': 1}, {'label': 14, 'start_offset': 111, 'end_offset': 120, 'user': 1}, {'label': 14, 'start_offset': 127, 'end_offset': 131, 'user': 1}, {'label': 14, 'start_offset': 148, 'end_offset': 160, 'user': 1}, {'label': 19, 'start_offset': 166, 'end_offset': 171, 'user': 1}, {'label': 20, 'start_offset': 179, 'end_offset': 185, 'user': 1}, {'label': 19, 'start_offset': 199, 'end_offset': 203, 'user': 1}, {'label': 19, 'start_offset': 208, 'end_offset': 215, 'user': 1}, {'label': 6, 'start_offset': 233, 'end_offset': 247, 'user': 1}, {'label': 3, 'start_offset': 255, 'end_offset': 264, 'user': 1}], 'meta': {}, 'annotation_approver': 'admin'}\n",
      "{'id': 186, 'text': \"'Was staying in a suites with 2 room. Huge living room, huge dining room and entertainment room.2 bathroom with 4 LCD TV in it. Bvlgari Toiletries are provided. deep bath tub with jacuzzi. High ceiling. Nicely decorated.Huge Space.'\", 'annotations': [{'label': 17, 'start_offset': 38, 'end_offset': 42, 'user': 1}, {'label': 17, 'start_offset': 42, 'end_offset': 54, 'user': 1}, {'label': 21, 'start_offset': 61, 'end_offset': 72, 'user': 1}, {'label': 21, 'start_offset': 56, 'end_offset': 60, 'user': 1}, {'label': 22, 'start_offset': 77, 'end_offset': 95, 'user': 1}, {'label': 23, 'start_offset': 210, 'end_offset': 219, 'user': 1}, {'label': 24, 'start_offset': 225, 'end_offset': 230, 'user': 1}, {'label': 24, 'start_offset': 220, 'end_offset': 224, 'user': 1}], 'meta': {}, 'annotation_approver': 'admin'}\n",
      "{'id': 187, 'text': '\\'Spacious rooms with comfortable beds. The mattresses are soft but offer enough support for the spine.  The rooms are very clean, but the decorations feels a bit odd, perhaps it is the colour that are used. Never the less a great stay in this hotel with professional hospitality.  Overall a great experience. For those who like to have a great buffet dinner, please visit \"spotlight\" (see my review about \"Spotlight\" on my profile page).\\'', 'annotations': [{'label': 24, 'start_offset': 1, 'end_offset': 15, 'user': 1}, {'label': 13, 'start_offset': 33, 'end_offset': 37, 'user': 1}, {'label': 25, 'start_offset': 43, 'end_offset': 53, 'user': 1}, {'label': 25, 'start_offset': 58, 'end_offset': 62, 'user': 1}, {'label': 11, 'start_offset': 108, 'end_offset': 113, 'user': 1}, {'label': 11, 'start_offset': 123, 'end_offset': 128, 'user': 1}, {'label': 23, 'start_offset': 138, 'end_offset': 149, 'user': 1}, {'label': 23, 'start_offset': 162, 'end_offset': 165, 'user': 1}, {'label': 6, 'start_offset': 224, 'end_offset': 234, 'user': 1}, {'label': 6, 'start_offset': 291, 'end_offset': 307, 'user': 1}], 'meta': {}, 'annotation_approver': 'admin'}\n",
      "{'id': 196, 'text': '\"The reviews are accurate and the hotel is amazing. I felt like a king in this castle. Each room is a suite with a living room, master bedroom, and beautifully designed bathrooms. The amenities were terrific, i love the large towels, and free bottles of water. Additionally breakfast is served everything morning and is very good. Staff on hand are very nice, helpful, and knowledgeable. Some speak limited English, but there is always someone on hand to help.   Would highly recommend to stay here for anyone looking for a good place to stay in Macau, even if it can be a little pricey, it\\'s worth it! \"', 'annotations': [], 'meta': {}, 'annotation_approver': None}\n",
      "{'id': 197, 'text': '\"OMG, what a great resort, the rooms are fabulous, the service is excellent and the food is good all over the resort, from the Food Court to the Breakfast included and do not miss the Seafood Buffet at Bambu, it is to die for - fresh, fresh sashimi and sushi, a variety of cooked fish and meat dishes, salad bar, great desserts.  The casino is the biggest you will find anywhere - and there is a great poker room.  It\\'s a great place to spend a few days in Asia on your next business trip to Hong Kong (and just a jet ferry ride away from HK or the HK Int\\'l Airport)\"', 'annotations': [], 'meta': {}, 'annotation_approver': None}\n",
      "{'id': 198, 'text': \"'Stayed for a night on our family trip few days ago, everything was great from check-in through skip check-out. The room on SPG 23rd floor was clean, comfortable and well decoration. Well equipped swimming pool with jacuzzi. The location was great with easily access to nearby attractions and also Macau city. Best of all, the service-minded of staff is excellence where they are always able to help us.'\", 'annotations': [], 'meta': {}, 'annotation_approver': None}\n",
      "{'id': 199, 'text': '\"We only spent a night in Macau and the Venetian looked like a nice option having spent time in the Venetian in Vegas. Getting from Hong Kong to Macau via the water jet was fine, quick and efficient and getting through customs in Macau was really quick, we then got on a free curtesy bus to the Venetian which was all very efficient, so that part was all good.      When we got to the hotel however we got stuck in a check in queue that must have taken the best part of an hour, I think we made the mistake of arriving just after the standard check-in time and that place gets very busy, the staff try to be nice offering water and sweets whilst you wait, but I\\'d rather they got behind the counter and reduced the check-in queue, but that\\'s logic for you.     The room itself was very nice\", \\'…\\'', 'annotations': [], 'meta': {}, 'annotation_approver': None}\n",
      "{'id': 200, 'text': \"'The location for discovering the old city is perfect either by foot or by bus. Direct buses run also to the big casinos like The Venetian and Wynn Palace on Taipa island or to the village of Coloane. Hotel shuttle to the Hong Kong ferry for free or direct buses(number 26 or MT4) to/from the airport.  The rooms facing the river are quiet and big. We got a superior room with a free smartphone which was very handy for visiting the city or looking for a restaurant.  The beds are confortable and you can pick up the kind of pillow you like from their pillow menu.  We loved to take our breakfast by the pool side in the nice breeze. The service was quick and they even kept in mind what kind of tea we like. The breakfast choice is fine: western, Chinese, a little corner for gluten free', '…'\", 'annotations': [], 'meta': {}, 'annotation_approver': None}\n",
      "{'id': 201, 'text': '\"I had 3 nights there. 2days of normal and 1day of upgraded room. Upgraded rooms are perfect, so big and with lot of extras. Normal rooms are avg., bit poor comparing to upgraded. The mall and hotel is huge, hard to find places you want. In the middle, there is the casino. That\\'s cool, but my GF is 18yo, and can\\'t go trough. Thats why, going to our suite was hard and loong... This is not really good...\"', 'annotations': [], 'meta': {}, 'annotation_approver': None}\n",
      "{'id': 202, 'text': '\\'We stayed a week in a King size room with Executive Lounge access.  The room and bed were very and the hotel facilities including the pool were excellent.  The lounge staff were very friendly, helpful and  welcoming. A great range of choices is provided in the lounge for breakfast each morning. In the evening cocktails and \"canapes\" are actually enough for an evening meal! We loved the hotel and would gladly stay again should we return to Macau.\\'', 'annotations': [], 'meta': {}, 'annotation_approver': None}\n",
      "{'id': 203, 'text': \"'It was a prefect getaway trip to Macau and special thanks to great service and arrangement by Peter Jung from FO! It won’t be that prefect without you! For sure will choose Sheraton again if visit next time'\", 'annotations': [], 'meta': {}, 'annotation_approver': None}\n",
      "{'id': 204, 'text': '\"The Sheraton is part of a giant megaplex of hotels and shopping including the Venetian, Conrad, etc. Any hotel a part of this complex is essentially the same as you can get from one to the next without stepping outdoors. The rooms are standard Sheraton quality. The staff was very nice and friendly. The breakfast was actually really great.   You\\'re in Macao so you\\'re not likely to be spending much time in your room. Therefore the Sheraton is an excellent and economical choice.\"', 'annotations': [], 'meta': {}, 'annotation_approver': None}\n",
      "{'id': 205, 'text': \"'Macau generally is a funny place, its all Chinese fake. The Venetian hotel is HUGE! It took us around 20 minutes to walk from the hotel lobby to our room, later we discovered that there are separate lifts , to bring the guests to the rooms faster. But then we changed the room and got lost again.  The rooms are spacious. The quality of amenities and all the furniture although is not that good. You can hear very well what is happening in the bathroom.  I would definitely recommend this place because it gives you experience.  Just slightly disappointed that they do not dress up that much for dinners and casinos . We were well dressed, tall, Northern Europeans so everyone stared at us. Not complaining, it was fun anyway. '\", 'annotations': [], 'meta': {}, 'annotation_approver': None}\n",
      "{'id': 206, 'text': \"'great hotel with wonderful location, ambiance, and surrounding. will pay some visit at my next trip in here again. i stayed at the club room. the room was perfect, the staff was polite, and you can play at casino if you bored in room. wifi works well. thanks'\", 'annotations': [], 'meta': {}, 'annotation_approver': None}\n",
      "{'id': 207, 'text': '\"I think this review will only be redundant, nevertheless I\\'m gonna write this for The Parisian Macau. Every inch of this hotel hosts something luxurious. The rooms are not super large, but definitely manageable. We had a double bed room facing the Eiffel tower  and really loved the experience. The hotel is connected to the Venetian and you can find almost all cuisines and all sorts of brand showrooms in Parisian/Venetian.   A very pleasant and happy place to stay on a trip to Macau.\"', 'annotations': [], 'meta': {}, 'annotation_approver': None}\n",
      "{'id': 208, 'text': '\"There are already a million reviews on this hotel, but the hotel deserves them. But to really make the most of it, at least stay for 3 nights and then you\\'d enjoy the gambling, shops and the food. What surprised me was the in-room dining.It was really fast, firstly I was surprised to see some Indian dishes on the menu, and when I ordered some food I was sure it\\'d take a lot of time. But I was wrong, and the service was really quick. The only down-side, so to speak, is that the hotel lies on the other side of the city. Everything else, kinda, lies on the other half of the city. So if you\\'re staying at the Venetian, you gotta take cabs (or may be bus) to get to the other side.\"', 'annotations': [], 'meta': {}, 'annotation_approver': None}\n",
      "{'id': 209, 'text': '\"My partner and I only stayed for 1 night but we had a truly memorable experience. From the in room check in, to the outstanding four seasons signature massage in the spa to the genuine smiles from the team this stay met and exceeded our expectations consistently.  We stayed on the \\'stay and play\\' package, which included breakfast, money towards spa treatments and a voucher to play in the Plaza. I think the only thing that let the stay down was the affiliation with the Plaza, which is quite dingy compared to the Venetian playing floor, but we managed to double our original stake, so we weren\\'t too bothered.  I think the highlight was the Signature Massage in the spa - June was my therapist and I was really impressed with her technique and attention to making sure that I enjoyed\", \\'…\\'', 'annotations': [], 'meta': {}, 'annotation_approver': None}\n",
      "{'id': 210, 'text': '\"As an expat family living in mainland China, every once in a while, we just want to get away to something a little more Western and a little more familiar. Our one-night getaway did that and a LOT more. This hotel costs a little bit more than I usually pay for a hotel stay, but I was swayed by the online photos of the adorable famille suite with bunk beds, and the lovely pool, and the Paris-like atmosphere.   The hotel began exceeding my expectations immediately after booking, when I received a personalized email from a member of guest services inviting me to check in at the VIP lounge when I arrive. It also asked for details about my kids, their ages, etc. Lovely, I thought, but didn\\'t consider much beyond that. Imagine my surprise when we arrived to check in and found that the\", \\'…\\'', 'annotations': [], 'meta': {}, 'annotation_approver': None}\n",
      "{'id': 211, 'text': \"'Like every other hotel located in cotai, Sheraton has shuttle bus to the ferry terminal. This hotel is always busy especially at the check in counter. The room is spacious with comfortable bed and big bathroom. Everything is comfortable and luxurious, the staffs are friendly. Such a great experience, no complaint at all.'\", 'annotations': [], 'meta': {}, 'annotation_approver': None}\n",
      "{'id': 212, 'text': \"'Just came back after a 4-night stay in Conrad Macau. Service was exactly what I read and expected - Excellent! From prompt responses to pre-stay queries by Nathan Kung and Herbert Leung, to personalised attention from Chandran Morgan and Edmund Tan during our stay there, it was truly a fabulous stay. Checking  in and out was a breeze and the rooms were lovely and spacious, and equipped with full amenities. Our special request for rooms nearer to the lift lobby were well noted and our old folks  really appreciated the shorter walk. Conrad also provided complimentary wheelchair (upon request).  All these personal touch points from the hotel made our family vacation a great and memorable experience. Truly impressive service and I will definitely stay here for my next visit!'\", 'annotations': [], 'meta': {}, 'annotation_approver': None}\n",
      "{'id': 213, 'text': \"'Stayed at Macau Sofitel in Feb 2010 for 3 nights - our first stop on 10 night Macau/Hongkong holiday.  Sofitel Macau was fantastic - beautiful room - luxurious marble theme, not overdone, just exudes luxury.  Bed was great - the chocolate special was to die for!!!  jet lagged eating chocolate treats at 4am -  watching the night lights and dawn rise while lying in the bath - through the glass wall of the beautiful bathroom, through to the river views and border with China from our huge glass windows.  The Hotel casino is unobtrusive - would not even know it was there unless specifically go looking for it.  Service in the Hotel is great - from the moment you arrive.   Free Hotel pick up mini bus at the ferry terminal is excellent  and easy to find.  Only pay for standard fare on', '…'\", 'annotations': [], 'meta': {}, 'annotation_approver': None}\n",
      "{'id': 214, 'text': \"'This is one of 2 hotels we stayed at in the Sands Cotai Central complex and we were very impressed. The staff were so helpful, we barely had to touch our bags as they were transported to and from our room and even through to the next hotel we stayed in. The standard of the room itself was great and although all the facilities such as the gym, pools, sauna and even the room were very similar to the sister hotels; the Sheraton touch made it feel so much more luxurious. If this is the level of service and facilities I can expect from every Sheraton hotel then I shall definitely look to using their hotels in the future!'\", 'annotations': [], 'meta': {}, 'annotation_approver': None}\n",
      "{'id': 215, 'text': '\"We stayed for 3 nights on the 29th nov - 02 Dec.   The reason I said it was a bad start to our stay was because I booked via Hotelclub.com.  When we checked in I asked them just to make sure I was on the 75th anniversary package which in included daily breakfast/lunch, ferry tickets back to Hong Kong and sheratons anniversary gift but I was told no I was on a room only tariff.  I def booked the anniversary package and was told by mouth by a representative that I was on the anniversary package.  Also because I was staying for more than 2 nights that I should hAve got a free upgrade to the clubroom.  I was told by the reception that I wasn\\'t the only guest who had this problem that they had a few guests who thought they had booked the same as me but it wasn\\'t showing on their\", \\'…\\'', 'annotations': [], 'meta': {}, 'annotation_approver': None}\n",
      "{'id': 216, 'text': '\"My wife and I stayed here for a night over Valentine\\'s Day.  The hotel is located on the Peninsula side of Macau, away from the glitz and glamour that characterises the Taipa/Cotai Strip area towards the south.  However, this location is excellent for people who wish to sightsee among the historical sites of Macau.  Most are in easy each of the hotel, and can be accessed by foot.  The hotel lobby is grand and opulent, but not appearing pretentious.  At check-in we were warmly greeted by Joanna, who dealt with our numerous questions with ease.  Joanna was well informed and even wished us a happy anniversary.  We were directed to our deluxe room, facing the sea, with a fantastic view of China.  The room itself was very tastefully decorated, and well lit.  The bathroom was\", \\'…\\'', 'annotations': [], 'meta': {}, 'annotation_approver': None}\n",
      "{'id': 217, 'text': '\"I have travelled a to to Macau and I have stayed in many Grand Hyatts in Asia. It\\'s always a pleasure for me to stay at the GH in Macau: great location (close to the casions, the shows and good restaurants - but away from the (cheap) mass-tourism. The hotel is not in the city center (Cotai), but you can easily get to the city by bus (take a free casion shuttle, a public bus or a taxi for less than 10 USD). The rooms are very spacious (especially in the \\'Club\\' tower) and clean. Room service and house keeping is perfect. The breakfast buffet offers anything you like. The gym is often empty but top-notch. The pool is heated so you can take a swim late night, surrounded by the gittering neon-facads of the casinos.   The poorly organized check-in that other reviewers experienced is\", \\'…\\'', 'annotations': [], 'meta': {}, 'annotation_approver': None}\n",
      "{'id': 218, 'text': \"' Overall is good but at the lobby I understand it near casino  so there are many smoking smell. But the room is good big room , big bed.  Good view I happy with this hotel.  If I have a time will come to this hotel again'\", 'annotations': [], 'meta': {}, 'annotation_approver': None}\n",
      "{'id': 219, 'text': \"'The Venetian Macao I think is a over rated property. The ambience is gud but the Gondola ride is not worth the money spent. The interior and the decor is extraordinary glitzy and golden everywhere, Visiting there as a tourist spot is better than staying in it.'\", 'annotations': [], 'meta': {}, 'annotation_approver': None}\n",
      "{'id': 220, 'text': \"'已經住過幾次了 現在所有房間也有提供免費手提電話，住客可以免費打電話和帶出去上網用，很方便 下次會再來 I have stayed in this hotel for several times It is good as always and they make it even better by providing a handy phone for local calls and wifi, which is good for tourists to walk around in Macau Will stay again!'\", 'annotations': [], 'meta': {}, 'annotation_approver': None}\n",
      "{'id': 222, 'text': '\"Had the good fortune to experience a stay in this hotel last Nov 24-26. We stayed in the Royal Suite, which was 72 sq.m. in size! I particularly noticed the split-level floor that separates the bed area from the living area (which overlooks either the mini-golf course in the middle of the property or the water view depending on which side you\\'re on).  The room featured a very comfortable king-sized bed with overhead drapes, 2 tvs, a minibar, office table, living room with dining table, a huge bathroom with separate shower enclosure, bathtub and water closet room, his and hers lavatory and a dresser.  The hotel is at par with its counterpart in Las Vegas. There\\'s about 100 rooms PER floor, but we rarely bumped into other guests while at the hallway or the elevator. There\\'s a big\", \\'…\\'', 'annotations': [], 'meta': {}, 'annotation_approver': None}\n",
      "{'id': 223, 'text': \"'Nice hotel. Stayed many times. We went on a public holiday and it was a bit chaotic at lobby reception area. Check-in speed seemed to be exceedingly slow.  We were upgraded to 17/F executive level with river views. Not bad as has Hermes toiletries etc. Got really nice welcome drinks.  Overall, OK and we have stayed at Sofitel Macau many times before. '\", 'annotations': [], 'meta': {}, 'annotation_approver': None}\n",
      "{'id': 224, 'text': \"'I was travel with my girlfriend for the first time to stay in this hotel. Front desk staffs are nice and helpful. The room that they arranged is tidy and cleanliness. And the view was really nice which is facing to founrain. I was proud of the whole team of the preparation for our experience. We are highly recommend to stay in this hotel.'\", 'annotations': [], 'meta': {}, 'annotation_approver': None}\n",
      "{'id': 225, 'text': \"'The Venetian is a man made beautiful creation for luxury and comfort. From outside it look like simple, but as soon once entered into the hotel, it very difficult to locate the suits without help of map of hotel which available at every counters. The check in are very warm and welcoming with very clear and desk is helpful polite. There is a nice facility of Express check out if bills to be paid by Credit Card at the entry point to suits. Suits are designed and decorated very subtly keeping in view of unique style of Venetian and filled with all modern amenities. The location beautiful in the small island Taipa,,, from any point of entry , viz. Airport, Taipa Ferry, Macau Maritimo Venetian facilitated complementary shuttle buses in intervals. Also they have paid limo service. For', '…'\", 'annotations': [], 'meta': {}, 'annotation_approver': None}\n",
      "{'id': 226, 'text': '\"It\\'s difficult for me to point out anything bad for the hotel review. Everything was wonderful for me. The staff are super helpful. The hotel is in the walking distance to Senado square and good local restaurants. As the member of Accor Advantage Plus, I got the upgraded room which is AWESOME! The room is clean. The bed is thick and soft, you will have a good sleep!\"', 'annotations': [], 'meta': {}, 'annotation_approver': None}\n",
      "{'id': 227, 'text': \"'One of the best hotel resorts i have ever come across.A place worth to be visited by anyone.Awesome ambience awesome food.Very friendly staff with great hospitality.Given to me a chance i would love to come back to this marvelous property again.'\", 'annotations': [], 'meta': {}, 'annotation_approver': None}\n",
      "{'id': 228, 'text': \"'I always knew Macau to be gambling place. Four seasons now made me realise that it is a great place to discuss strategy and business plans also. I was there for a summit meeting and loved the facilities and very very friendly staffs. The concierege actually could get us a name of indian hotel in flat 3 minutes ( with 2 options). Anything you wnat and the guys will get you that. The food was international- and very tasty. The internet was also good-- and the convention room was very good... not stuffy- so could conduct business meeting at peace.'\", 'annotations': [], 'meta': {}, 'annotation_approver': None}\n",
      "{'id': 229, 'text': \"'nice big rooms and bathrooms plus good view. good location in the center of the casino and entertainment strip. staff were courteous and professional all the time. will definitely stay here again if able next time.'\", 'annotations': [], 'meta': {}, 'annotation_approver': None}\n",
      "{'id': 230, 'text': '\"The Sofitel is perfectly located just walking distance away from the Largo do Senado (and of course the Church of St Dominic and ruins of St Paul\\'s Cathedral). There is a casino on ground level but the lobby is on level 1 away from the madding crowd. The hotel staff are quick, efficient and quite helpful (even calling our tour company for us). The rooms are beautifully furnished, amenities are L\\'Occitaine, the breakfast spread is varied (more on the Asian side) and the fitness center well-equipped with new machines.  Note though that the hotel does not have a shuttle to the ferry or airport like most of the larger hotels do.  Otherwise, this is a lovely hotel, a repeat stay for me, and I would definitely stay here if I came to Macau again.\"', 'annotations': [], 'meta': {}, 'annotation_approver': None}\n",
      "{'id': 231, 'text': \"'Absolutely amazing place, stayed with young children, even though it took more than an hour to prepare the rooms for us the rooms were great, good view of the pools down below, we were given interconnecting adjacent rooms which was very good. Kids had a whale of a time playing in the pools. Mall is good too.'\", 'annotations': [], 'meta': {}, 'annotation_approver': None}\n",
      "{'id': 232, 'text': '\"The value of great staff to a hotel is just unquantifiable . The hotel is ok, rooms a bit dated , amenities fantastic ( Occitane) but this trip was memorable for me - just because of one man . - the head concierge Osborn Dong. He went out of his way to help me with my ferry tickets and drop me to the terminal , as I had leg cramps. He on his off day , came to drop me , organized a wheel chair n even contacted the next hotel I was going to . The best amongst the golden key concierges- an asset to any hotel 👍🏻👍🏻👍🏻I\\'ll come back to this hotel - only for this guy !\"', 'annotations': [], 'meta': {}, 'annotation_approver': None}\n",
      "{'id': 233, 'text': '\"Perfect location to visit the Old Town of Macao ! For all the rest of Macau : use the hotel\\'s free shuttle to connect with other free shuttles that will take you to most places you might want to visit... ! PS : Very good restaurant on the 18th floor !\"', 'annotations': [], 'meta': {}, 'annotation_approver': None}\n",
      "{'id': 234, 'text': \"'The staff were excellent especially Vincente and his staff in the dining room on 6th Floor.  Room was very clean and the meals were great.  Got to the casinos by going on the free hotel shuttle to the ferry terminal then catching whichever casino shuttle bus we wanted.  Once there, there are free shuttle buses to all the other casinos.'\", 'annotations': [], 'meta': {}, 'annotation_approver': None}\n",
      "{'id': 235, 'text': \"'me and my friends came from mainland china and are first time travelling to macau to experience the thriving gaminh industry. and i want to say it is a smart choice to stay in mgm cotai where i can enjoy gaming and very fine accomodations. thank Jason and luke for the assistant. hope to see you guys soon.'\", 'annotations': [], 'meta': {}, 'annotation_approver': None}\n",
      "{'id': 236, 'text': \"'Last night we had a wonderful night party with our friends. The room was so cleanly when we check-in to the room. The view location was so perfect. Thank you Miguel FO department who so so friendly and helpful for our requests to fully fill our party night perfectly.  If we have the next activity party once, MGM will be our top list.  Regards, สาวๆไทยในไทปา-มาเก๊า❤️'\", 'annotations': [], 'meta': {}, 'annotation_approver': None}\n",
      "{'id': 237, 'text': \"'I was staying there for 3 nights as to attend a conference from 7 to 10 July 2015. Sheraton is a brand that I am familiar with.  I booked my stay through SPG website and paid higher rate. I received few emails sent to me prior to my stay, checking on our preferences/special requests. Good! They accommodated all my requests except for a free room upgrade (just kidding).  Check in process was fast due to it was an early check in at 11.00am and of course through SPG member counter. Our room (Deluxe Twin Double) in 23rd floor of Sky Tower is ready and it is located near by the elevator as requested.  As usual the room is clean and comfortable. Washroom is equipped with all the necessary amenities. I think all these are just a must for being a luxury hotel. Housekeeping staff came at', '…'\", 'annotations': [], 'meta': {}, 'annotation_approver': None}\n",
      "{'id': 238, 'text': \"'We stayed here on a weekend trip to Macau. The room was huge. Loads of space. The bathroom was lovely - great bath.  The hotel has everything you need with restaurants and shops on your doorstep.  Service was fantastic too.'\", 'annotations': [], 'meta': {}, 'annotation_approver': None}\n",
      "{'id': 239, 'text': \"'30 minutes from airport, Stayed in junior suite, dining room, living room bedroom, there was nothing lacking. Service, room service, laundry/dry cleaning with not a close second. Shopping, gambling, shows just steps away. Windows restaurant is a great meeting place in the lobby for food drinks with outside dining, Four Seasons is just above and beyond!'\", 'annotations': [], 'meta': {}, 'annotation_approver': None}\n",
      "{'id': 240, 'text': \"'Greatest and grand, the makers of this site gave it a shot and nailed it. For a quick visit, we felt the hospitality of the staff, very good food from the brassiere and most of all the view of the tower. Must visit!'\", 'annotations': [], 'meta': {}, 'annotation_approver': None}\n",
      "{'id': 241, 'text': '\"Finally we are home!Our Asian tour is over. We spent the last moment of our journey at Macau. My parents decided to stay at Sheraton hotel. So far everything went smooth. Checking in  is a breeze. No crazy long line and front desk personnel are accommodating unlike in Singapore. It was sunny when we got there so me and my mom decided to plunge to one of their pool on the afternoon. The pool was great but one thing I noticed, not enough staff around. Good thing somebody approach us and offer some drinks. We badly needed it anyway so we ordered.. Thanks to Rosalie for being prompt to our needs. She even enrolled my mom to SPG since I\\'m already a member. It was sunny afternoon and we are so relaxed thinking we are about to go home. Two thumbs up foe Sheraton Macau!\"', 'annotations': [], 'meta': {}, 'annotation_approver': None}\n",
      "{'id': 242, 'text': \"'We stayed here for 2N and it was amazing. The Service was great the staff were amazing. I felt i was royality. The Room was a bit out dated and need a bit of touch up but room  was big ver big. The view was good and Breakfast was so varied and wonderfull. Could not help eating so much and then had to burn it off with long walks around the malls.'\", 'annotations': [], 'meta': {}, 'annotation_approver': None}\n",
      "{'id': 243, 'text': '\"We had lots of fun in Parisian Macao. Kids doesn\\'t feel boring too good thing we bring them on celebration of our with my husband\\'s Anniversary. Recreational for kids is very good. Restaurant selection is nice too. Thank you for all the staff which are very friendly and gave us anniversary special gift.\"', 'annotations': [], 'meta': {}, 'annotation_approver': None}\n",
      "{'id': 244, 'text': \"'Spent 2 very comfortable nights in this luxurious hotel/resort.  We have seldom experienced such space and classy ambience in similar hotels!  A good choice for families with kids, as the Festiva Food Court on Level 3 offers a wide selection and reasonably-priced dining option for everybody.  '\", 'annotations': [], 'meta': {}, 'annotation_approver': None}\n",
      "{'id': 245, 'text': \"'Great location on the Cotai strip connected to other hotels and shopping. Only 5 minute walk to City of Dreams for the Dancing Water show there. They have shuttle buses from ferry terminal to hotel free of charge.   Service from front desk to housekeeping was quick and friendly. When requesting amenities from housekeeping it was very fast. The gym was nice and quiet too with many machines available. '\", 'annotations': [], 'meta': {}, 'annotation_approver': None}\n",
      "{'id': 246, 'text': '\\'This hotel is located in the Cotai area which in my opinion is great since it offers more entertainment and shopping for those who don\\\\\\'t gamble and the ambience is more touristy. The hotel offers a complimentary shuttle from the ferry terminal but its a little confusing to find and be very forewarned the service of these buses are awful, they do not assist you with your luggage, the drivers don\\\\\\'t smile and they want you off their buses ASAP. Since this hotel is enormous there are many different check in counters/desks, the bus dropped us off at the east check in counter/desk which no one greeted us at the door or open the door nor did anyone help us with our luggage.  The silver lining was the check in process, the gentleman helping me spoke \"okay\" English but he was great since\\', \\'…\\'', 'annotations': [], 'meta': {}, 'annotation_approver': None}\n",
      "{'id': 247, 'text': '\"We stayed one night last week.The location is convenient to anywhere. The room is clean and comfortable. For a HHonors member is good. You can stay three more hours. The view of the room is good. The restaurant\\'s food is pretty  good. \"', 'annotations': [], 'meta': {}, 'annotation_approver': None}\n",
      "{'id': 248, 'text': '\"what an awesome stay!! beautiful resort and magnificant city. So much to do, see, visit, explore..huhhh..had been to Venetian Macau in Nov, visiting macau and not staying in venetian is a crime. we stayed there for 3 days and trust me these 3 days were not enough to explore the whole resort properly. It has a huge casino inside and u can surly try ur luck on any f the games.gondola ride was once in a lifetime experience.There were many options of restaurants,coffee shops and bars inside the resort where u can choose to redeem ur voucher for drinks,snacks,breakfast,lunch and dinner. The resort also provided free shuttle services to many of the happening destinations in Macau.  so many things to write..but in short a must visit place when in Macau.. don\\'t miss!!\"', 'annotations': [], 'meta': {}, 'annotation_approver': None}\n",
      "{'id': 249, 'text': \"'This was my first stay in Macau as I had some free time and it is located very close to Hong Kong. While I Macau did not meet my expectations compared to the glitz of Las Vegas, the Sheraton is located well and the hotel provides 5-star luxury accommodations.  The rooms are large, the hotel is walking distance to several other 5-star properties and close to the World of Dreams that has the Water Show.  Restaurants are available although not Las Vegas style in terms of the varied selection.  If I were to come back to Macau (which is doubtful), I would select the Sheraton again.'\", 'annotations': [], 'meta': {}, 'annotation_approver': None}\n",
      "{'id': 250, 'text': \"'We just hopped over to Macau for a night and to try out the Robuchon a Galera and decided to stay at the Sofitel.  On arrival we upgraded to the Club Floor, which was good value and included club facilities, happy hour, internet and breakfast for MOP/HKD460 for the two of us.  We had some work to do so sat on the club floor with a glass of wine in hand.  The staff were exceptionally friendly and attentive and really looked out for us.  One small issue was the room was not available when we checked in but the staff more than made up for that through settling us in.   We will definitely be back!'\", 'annotations': [], 'meta': {}, 'annotation_approver': None}\n",
      "{'id': 251, 'text': \"'We stayed at the Sofitel in Macau in January and had a great stay.We were given a complimentary upgrade on arrival from city view to ocean view .The room was clean and very comfortable.The view of the ocean was great .All the staff were very helpful.The shuttle bus from the Ferry is great and ran about every 15 mins and is free.You can use this to get to the other end of town if you like..You can also use this shuttle to take you to other casino like the venetian.All the big 7 hotel/ casinos have free buses that leave from the ferry as well..most tourist attractions like the ruins, square  and fortresses are a 10 min walk from hotel..everything about the hotel was great and would recommend it.The breakfast was amazing as you could order off the menu or buffet or do both.lots of', '…'\", 'annotations': [], 'meta': {}, 'annotation_approver': None}\n",
      "{'id': 252, 'text': \"'Sofitel Ponte16 is situated away from better-known peers in Cotai and Central Macau but given the compactness of Macau, it is within walking distance to most tourist sites like St Paul Ruins and Senado Square (go to Guia Lighthouse which gives a splendid view of waterfront Macau than from Macau Museum) and shopping areas. Sofitel Ponte16 has a classic feel as it is situated in a lesser congested area-and the rooms have sea view of Zhuhai from across the sea.  We were awokened on all mornings by enthusiastic gamblers who patronised the casinos on lower floors eagerly.  The gym is located on sixth floor, same level as western restaurant.'\", 'annotations': [], 'meta': {}, 'annotation_approver': None}\n",
      "{'id': 253, 'text': \"'Pleasant stay. Every guest has different experiences. Maybe room upgrade, maybe some cakes, basket of fruit, or another things for their celebration. So enjoy your own stay. Thanks to Mr Tony Wang for gave us the best view & nice view from room during stay, show & explain to us about the room. Polite, kindness, helpful, friendly hotel staff. Clean room. Good location. Good hotel amenities.'\", 'annotations': [], 'meta': {}, 'annotation_approver': None}\n",
      "{'id': 254, 'text': \"'I agree with the previous reviews. A magnificent hotel. Unbelievable that they can cope with 4,000 guests. No complaints at all. This Sheraton has a private check in area for SPG Gold members. Very useful - especially when when really busy.  I can not fault this hotel in any way and I will return.'\", 'annotations': [], 'meta': {}, 'annotation_approver': None}\n",
      "{'id': 255, 'text': \"'Wonderful stay, together with my group... My Team Members enjoyed this unforgettable experience. We would like to go back someday. The hotel service is excellent. No wonder there is a long queue in the lobby while registering.'\", 'annotations': [], 'meta': {}, 'annotation_approver': None}\n",
      "{'id': 256, 'text': '\"This is my second time stay in Sheraton Macao after a disappointing stay last year. I  decided to give it the second chance to stay during the Easter holiday at a promotional rate, and surprisingly much better than I expected, especially during the tourist-flooded Easter peak.   Thumb up to the FO at the SPG member reception which all I\\'ve encountered were very helpful and efficient. Special thanks to Gladys Wang who made my stay perfect by suggesting us to upgrade to the Shrek-themed family room. The well-appointed connecting rooms were both spacious and stocked with kids\\' amenities (even a Xbox!) at the kid\\'s side. As far as I know this is the only hotel that offered a kid-themed family room and that would be the perfect choice for family with kids - except you may need to\", \\'…\\'', 'annotations': [], 'meta': {}, 'annotation_approver': None}\n",
      "{'id': 257, 'text': \"'I have spend 2 nights in Parisian, which new open casino in macau, the hotel is very big have south and north wing, and easy get lost in the mall, which is connect with the hotel and casino with a lot of shops and restaurants.  the Parisian have free wifi and the mall, casino and the hotel room, the signal is great and fast.   The room smaller then Venetian, but is it still nice, the room size is comfortable, and clean, but the pillow is very bad, I have very bad sleep in these 2 days, too low and soft like sleeping on a paper.'\", 'annotations': [], 'meta': {}, 'annotation_approver': None}\n",
      "{'id': 258, 'text': \"'I have experienced a fantastic trip during my stay in the Parisian Macao last month.  I accommodated at a deluxe room with a king-sized bed and a big TV.  Despite the room was not very spacious, the facilities in the room were quite sufficient.  The most important thing was the room fare was not very high and the hotel provided a lot of free activities such as aquatic world, visit of the tower, free lunch, etc.  '\", 'annotations': [], 'meta': {}, 'annotation_approver': None}\n",
      "{'id': 259, 'text': \"'This hotel was amazing, the club lounge membership was definitely worth the upgrade (AUD60 per person) The high tea and breakfast which was included in the upgrade was worth atleast AUD120 plus we received unlimited snacks, fruit, tea, coffee, beer and champagne. Every staff member was very helpful and easy to talk too. I doubt I will ever go back to Macau but if i did I would book here at the Sofitel.'\", 'annotations': [], 'meta': {}, 'annotation_approver': None}\n",
      "{'id': 260, 'text': \"'This is one of the few properties in the Hilton chain that know how to treat a diamond member. They are genuinely welcoming and warm. Great breakfast in the lounge and evening cocktails are superb. Room service was the best I have had and served in room like you are dining in a 5 star restaurant. Staff very knowledgable of the area and let you know what there is to do besides Casinos. Outstanding value as well. Much appreciated to all at the Conrad.'\", 'annotations': [], 'meta': {}, 'annotation_approver': None}\n",
      "{'id': 261, 'text': '\\'I booked to stay at the Venetian in Macau as I am a BIG fan of the Vegas version.  We stay there quite often so felt confident booking for Macau.  Everything looks eerily similar - I mean near exact lobby and rooms!  I kept sending pictures to my Vegas travelling buddy as you wouldn\\\\\\'t know where I was as the decor was so similar.  That\\\\\\'s where the similarities ended though.  The Venetian Macau, whilst beautiful and expansive, missed the \"buzz\" you get in Vegas.  The hotel is near stoic as was the casino but this is what you expect when gambling in China - it is serious business and most are focused on playing the odds and not having fun!  There wasn\\\\\\'t the same availability of post-evening drinks places - the sole bar (Irish bar of course!) we found open at 11pm only had one\\', \\'…\\'', 'annotations': [], 'meta': {}, 'annotation_approver': None}\n",
      "{'id': 262, 'text': \"'My wife and I went to Macau for our babymoon. Before we went to the Sheraton Hotel, we sent various questions and requests by mail. Ms. Lilly Kang, a Korean employee, responded directly for us as Koreans. She always responded kindly and actively whatever we asked her. On the day of check-in, she came to the counter to greet us. And she gave my wife a card to celebrate her pregnancy. Other employees were very kind, too. The room conditions we stayed in were also excellent. Above all, thanks to the warm consideration of Ms. Lily Kang, this trip to Macau has become a perfect babymoon for us.'\", 'annotations': [], 'meta': {}, 'annotation_approver': None}\n",
      "{'id': 263, 'text': '\\'We booked on a summer escape package - basically a room with breakfast and a ferry ticket back to HK included - for a Friday night. Maybe because its low season and a little less busy, we were offered a free upgrade to a \"premium \" suite. The room was HUGE ! Wow. We also were given a few hundred dollars of hotel credit, which we used for a pre dinner drink and drink by the pool on Saturday morning.\\\\xa0  Great hotel, excellent staff and service. Nice pool. The Breakfast buffet was very good also, as good as any we have been to on our travels. It\\\\\\'s reasonably central location for all the other \"attractions\", and our biggest tip would be make full use of the free shuttles that take you to / from ferry, airport, Macau centre etc. Taxis seem to be a bit scarce. The Conrad is also right\\', \\'…\\'', 'annotations': [], 'meta': {}, 'annotation_approver': None}\n",
      "{'id': 264, 'text': '\"1. We have spent lots of time selecting our accommodation at Macau in pervious , We chose MGM Cotai hotel in finally because We have searched the reviews mostly is great.  2.The staffs were professional and polite especially FO-Jason Lam and Kelvin Li, they are talkative and made us felt warm as well as allow late check out. we very appreciated that . They introduced us many interesting things about travel of Macau.  2.The location is just perfect for us since it\\'s by itself near the Taipa Lotus border Gate and shopping mall in a commercial/residential area away from the downtown business district.  3.We selected the room type is Suite with King Bed which is spacious and very comfortable that made us slept tight as well as felt awesome such as the staffs arranged the\", \\'…\\'', 'annotations': [], 'meta': {}, 'annotation_approver': None}\n",
      "{'id': 265, 'text': \"'This is a coolest casino hotel in Macau. The casino floors to the facade to the rooms are super for the entire family. From entertainment to restaurants is the fun to the magic of this hotel. The shopping areas and nightclubs are rocking ..Enjoy..'\", 'annotations': [], 'meta': {}, 'annotation_approver': None}\n",
      "{'id': 266, 'text': '\"We stayed here in November 2014 and returned we loved it so much. We were there for 4 nights each time and could not have been happier with the place. Spa was incredible. Everything very geared up for families. Pool was fantastic and easy access to the busier side places with casinos etc. I highly recommend this place for the service, food and general ambience. I didn\\'t not feel as though as I was in Macau which can be quite busy and a little crazy at times. Would definitely recommend a visit especially if travelling with children as you feel quite protected here. The breakfast was fantastic. Go!\"', 'annotations': [], 'meta': {}, 'annotation_approver': None}\n",
      "{'id': 267, 'text': '\"I knew The Venetian at Las Vegas for the first time but I didn\\'t live there.And I missed gondola at that time.So ..this time I made my dream came true.haha The Venetian Macao is beautiful , too.However,the hand shower need to change.\"', 'annotations': [], 'meta': {}, 'annotation_approver': None}\n",
      "{'id': 268, 'text': '\"This hotel opened a few months ago so if you\\'re looking to pamper yourself in a brand new hotel, this is the one! Grand and majestic, the hotel allows you to be transported to luxurious Europe, with its sparkling chandeliers and gigantic paintings. It\\'s a large hotel though, and people were everywhere. The room was standard and clean. The hotel staff was friendly. Room service took a long time though. If you\\'ve got kids, try to skip the long check-in queue by getting into the priority lane. That was what we did and they were pretty understanding by giving us two rooms (we went with another family) beside each other. The Qube is a must-visit if you have kids!!! It\\'s an indoor and outdoor playground (within the hotel) equipped with slides/ bridges, ball pits, computers for games\", \\'…\\'', 'annotations': [], 'meta': {}, 'annotation_approver': None}\n",
      "{'id': 269, 'text': \"'First of all my heartful thanks goes to Mr. Tilak Basnet from Nepal a Housekeeping staff who served us very warmly during our stay in Sheraton.The room was very spacious.My kids made the room so mess but our room attend Tilak changes the bed sheet, amenities and toiletries everyday and gives the room looks so fresh like ready to check in again. He is very kind and smart staff with fluent in english ~ after a few mins conversation with him i came to know that he really have very good knowledge of hospitality, as i am also of same stream.The way he communicate with me was very professional. Every point he talks was so remarkable, what makes me so touch was by his letter, OMG he even knew our checkout date also so he remind us to wear more warm clothes due to cold weather and wish', '…'\", 'annotations': [], 'meta': {}, 'annotation_approver': None}\n",
      "{'id': 270, 'text': \"'เป็น 1 ในโรงแรมของ Sands Casino โดยมี Holiday In และ conrad เป็นเพื่อนบ้าน  โรงแรมขนาดใหญ่ของเครือ SPG โดยมี Lounge Check in ให้สำหรับสมาชิกโดยเฉพาะ มี Casino ขนาดใหญ่อยู่ด้านล่าง ร้านอาหารมากมาย โดยโรงแรมอยู่ชั้นบน ที่ชั้นล่างมี Plaza ขนาดใหญ่ของ Sands ให้เดินชอปปิ้งอย่างจุใจ  ห้องพักมีขนาดกว้างขวาง พร้อม อ่างน้ำสำหรับแช่ตัวผ่อนคลายหลังจากเล่น Casino หรือชอปปิ้ง แต่อาจะมีขนาดเล็กเกินไป หากต้องการแช่พร้อมกันมากกว่า 1 คน โดยห้องพักแบ่งเป็น 2 อาคารอันได้แก่ Sky Tower และ Earth Tower แต่มีการตกแต่งห้องพักที่ไม่ได้แต่งต่างกันแต่อย่างใด  Facility ครบครันสำหรับโรงแรมระดับ 5 ดาว เหมือน พนักงานมี Service Mind ที่ยอมเยี่ยม สำหรับคนชอบ Shrek ที่นี่มี Breakfast with Shrek สำหรับเด็กๆให้ตื่นตาตื่นใจ อยู่ในระยะตรงข้ามกับ COD และ Venetian เหมาะกับสาวนักช็อป อีกทั้งโรงแรมมี Shuttle Bus', '…'\", 'annotations': [], 'meta': {}, 'annotation_approver': None}\n",
      "{'id': 271, 'text': \"'good and fine . was great. staff from Phillipinos were great ... with a lot of helping tendency.... for wifi the hotel charged 130 Hongkong dollars a day....if you enroll as a sherwood guest( at no cost)  ., it is only 30 ........'\", 'annotations': [], 'meta': {}, 'annotation_approver': None}\n",
      "{'id': 272, 'text': \"'Me and my two good friends went out to eat.   Definitely we had a great experience enjoying their mouthwatering foods from appetizers to desserts. We also love the ambience, the very good service, and the hospitality of the staff. Especially to Jane Genivieve, Gladys Catangal, and to the Restaurant Manager, She Magallanes Gonzales that accommodates us. It was indeed A Happy Eating Experince! For sure were coming back soon with other friends!'\", 'annotations': [], 'meta': {}, 'annotation_approver': None}\n",
      "{'id': 273, 'text': '\"Impressive hotel. Thousands of shops within the hotel you don\\'t even have to leave. We stayed in a suite very big including lounge area. Very large bathroom. You would think for the amount of money you are paying they would have flat screen tvs. The room had those large tv units that was disappointing. Great food court on level 3 of the hotel lots of choices from Chinese, Vietnamese, Indian, Italian cuisine at reasonable prices. Overall very beautiful hotel. \"', 'annotations': [], 'meta': {}, 'annotation_approver': None}\n",
      "{'id': 183, 'text': \"'We had been at a holiday at Venetian Macau.. The Hotel is just amazing as its size. It has  all the fun places like the casino, sightseeing, entertainment etc. The rooms are value for money. ALso the overall feel is good.'\", 'annotations': [{'label': 4, 'start_offset': 79, 'end_offset': 83, 'user': 1}, {'label': 8, 'start_offset': 121, 'end_offset': 127, 'user': 1}, {'label': 7, 'start_offset': 142, 'end_offset': 155, 'user': 1}, {'label': 10, 'start_offset': 129, 'end_offset': 140, 'user': 1}, {'label': 9, 'start_offset': 175, 'end_offset': 190, 'user': 1}, {'label': 6, 'start_offset': 201, 'end_offset': 213, 'user': 1}], 'meta': {}, 'annotation_approver': 'admin'}\n",
      "{'id': 184, 'text': '\"I was rather impressed with beauty of the Venetian hotel when I went to Las Vegas. Hence, I have decided to stay at the Venetian when I visited Macau. The room itself is great! It\\'s really huge and pretty. The design is that of Victorian style. We had 2 double beds for 2 and this is rather unusual for Asian hotels. The bathroom itself is also huge and equipped with all the toiletries that I need. I love the suite. It\\'s really comfortable. The hotel has also set aside area for keeping the bags before the check-in. The check in timing is pretty strict though. I was a bit upset when the hotel staff directed me to the sign with the check in timing instead of replying me verbally when I asked about early check in.The hotel interior is modelled after Venice. It\\'s rather pretty with\", \\'…\\'', 'annotations': [{'label': 3, 'start_offset': 29, 'end_offset': 35, 'user': 1}, {'label': 11, 'start_offset': 156, 'end_offset': 160, 'user': 1}, {'label': 4, 'start_offset': 190, 'end_offset': 194, 'user': 1}, {'label': 3, 'start_offset': 199, 'end_offset': 205, 'user': 1}, {'label': 12, 'start_offset': 211, 'end_offset': 217, 'user': 1}, {'label': 13, 'start_offset': 292, 'end_offset': 299, 'user': 1}, {'label': 14, 'start_offset': 322, 'end_offset': 330, 'user': 1}, {'label': 14, 'start_offset': 346, 'end_offset': 350, 'user': 1}, {'label': 14, 'start_offset': 377, 'end_offset': 387, 'user': 1}, {'label': 15, 'start_offset': 524, 'end_offset': 532, 'user': 1}, {'label': 15, 'start_offset': 550, 'end_offset': 556, 'user': 1}, {'label': 16, 'start_offset': 723, 'end_offset': 737, 'user': 1}, {'label': 13, 'start_offset': 255, 'end_offset': 266, 'user': 1}], 'meta': {}, 'annotation_approver': 'admin'}\n"
     ]
    }
   ],
   "source": [
    "import jsonlines\n",
    "with open(\"file.json\", \"r+\", encoding=\"utf8\") as f:\n",
    "    for item in jsonlines.Reader(f):\n",
    "        print(item)\n"
   ]
  },
  {
   "cell_type": "code",
   "execution_count": null,
   "metadata": {},
   "outputs": [],
   "source": [
    "imp"
   ]
  },
  {
   "cell_type": "code",
   "execution_count": 130,
   "metadata": {},
   "outputs": [],
   "source": [
    "import csv #可以正常使用的\n",
    "with open('reviews_2.csv', 'w') as csvfile:\n",
    "    review_writer = csv.writer(csvfile)\n",
    "    for review in reviews:\n",
    "        dic = {}\n",
    "        review1 = review.find('q').get_text()\n",
    "        rating = review.find('div', attrs = {'class' : 'nf9vGX55'})\n",
    "        number = rating.find('span')\n",
    "        number = re.findall(r'\\d+', str(number))        \n",
    "        dic['review1'] = review1\n",
    "        dic['rate'] = number[0]\n",
    "        review_writer.writerow(dic.values())"
   ]
  },
  {
   "cell_type": "code",
   "execution_count": 163,
   "metadata": {},
   "outputs": [
    {
     "name": "stdout",
     "output_type": "stream",
     "text": [
      "Finished page 1\n",
      "Finished page 2\n",
      "Finished page 3\n",
      "Finished page 4\n",
      "Finished page 5\n",
      "Finished page 6\n",
      "Finished page 7\n",
      "Finished page 8\n",
      "Finished page 9\n",
      "Finished page 10\n",
      "Finished page 11\n",
      "Finished page 12\n",
      "Finished page 13\n",
      "Finished page 14\n",
      "Finished page 15\n",
      "Finished page 16\n",
      "Finished page 17\n",
      "Finished page 18\n",
      "Finished page 19\n",
      "Finished page 20\n",
      "Finished page 21\n",
      "Finished page 22\n",
      "Finished page 23\n",
      "Finished page 24\n",
      "Finished page 25\n",
      "Finished page 26\n",
      "Finished page 27\n",
      "Finished page 28\n",
      "Finished page 29\n",
      "Finished page 30\n",
      "Finished page 31\n",
      "Finished page 32\n",
      "Finished page 33\n",
      "Finished page 34\n",
      "Finished page 35\n",
      "Finished page 36\n",
      "Finished page 37\n",
      "Finished page 38\n",
      "Finished page 39\n",
      "Finished page 40\n",
      "Finished page 41\n",
      "Finished page 42\n",
      "Finished page 43\n",
      "Finished page 44\n",
      "Finished page 45\n",
      "Finished page 46\n",
      "Finished page 47\n",
      "Finished page 48\n",
      "Finished page 49\n",
      "Finished page 50\n",
      "Finished page 51\n",
      "Finished page 52\n",
      "Finished page 53\n",
      "Finished page 54\n",
      "Finished page 55\n",
      "Finished page 56\n",
      "Finished page 57\n",
      "Finished page 58\n",
      "Finished page 59\n",
      "Finished page 60\n",
      "Finished page 61\n",
      "Finished page 62\n",
      "Finished page 63\n",
      "Finished page 64\n",
      "Finished page 65\n",
      "Finished page 66\n",
      "Finished page 67\n",
      "Finished page 68\n",
      "Finished page 69\n",
      "Finished page 70\n",
      "Finished page 71\n",
      "Finished page 72\n",
      "Finished page 73\n",
      "Finished page 74\n",
      "Finished page 75\n",
      "Finished page 76\n",
      "Finished page 77\n",
      "Finished page 78\n",
      "Finished page 79\n",
      "Finished page 80\n",
      "Finished page 81\n",
      "Finished page 82\n",
      "Finished page 83\n",
      "Finished page 84\n",
      "Finished page 85\n",
      "Finished page 86\n",
      "Finished page 87\n",
      "Finished page 88\n",
      "Finished page 89\n",
      "Finished page 90\n",
      "Finished page 91\n",
      "Finished page 92\n",
      "Finished page 93\n",
      "Finished page 94\n",
      "Finished page 95\n",
      "Finished page 96\n",
      "Finished page 97\n",
      "Finished page 98\n",
      "Finished page 99\n",
      "Finished page 100\n",
      "Finished page 101\n",
      "Finished page 102\n",
      "Finished page 103\n",
      "Finished page 104\n",
      "Finished page 105\n",
      "Finished page 106\n",
      "Finished page 107\n",
      "Finished page 108\n",
      "Finished page 109\n"
     ]
    }
   ],
   "source": [
    "import time\n",
    "import random\n",
    "\n",
    "\n",
    "def scrape_single_page(reviews, csvwriter):\n",
    "    for review in reviews:\n",
    "        dic = {}\n",
    "        review1 = review.find('q').get_text()\n",
    "        rating = review.find('div', attrs = {'class' : 'nf9vGX55'})\n",
    "        number = rating.find('span')\n",
    "        number = re.findall(r'\\d+', str(number))        \n",
    "        dic['review1'] = review1\n",
    "        dic['rate'] = number[0]\n",
    "        csvwriter.writerow(dic.values())\n",
    "\n",
    "with open('Banyan_Tree_Macau.csv', 'w') as csvfile:\n",
    "    review_writer = csv.writer(csvfile)\n",
    "    for index, url in enumerate(url_list):\n",
    "        response = requests.get(url, headers=headers).text\n",
    "        soup = BeautifulSoup(response, 'html.parser')\n",
    "        #reviews = soup.find_all('div', attrs={'class':'review review--with-sidebar'})\n",
    "        reviews = soup.find_all('div', attrs = {'class': 'oETBfkHU'})\n",
    "        scrape_single_page(reviews, review_writer)\n",
    "        # Random sleep to avoid getting banned from the server\n",
    "        time.sleep(random.randint(1,3))\n",
    "        # Log the progress\n",
    "        print('Finished page ' + str(index + 1))\n",
    "    "
   ]
  },
  {
   "cell_type": "code",
   "execution_count": 162,
   "metadata": {},
   "outputs": [
    {
     "name": "stdout",
     "output_type": "stream",
     "text": [
      "['https://www.tripadvisor.com/Hotel_Review-g664891-d2031569-Reviews-Banyan_Tree_Macau-Macau.html', 'https://www.tripadvisor.com/Hotel_Review-g664891-d2031569-Reviews-or5-Banyan_Tree_Macau-Macau.html', 'https://www.tripadvisor.com/Hotel_Review-g664891-d2031569-Reviews-or10-Banyan_Tree_Macau-Macau.html', 'https://www.tripadvisor.com/Hotel_Review-g664891-d2031569-Reviews-or15-Banyan_Tree_Macau-Macau.html', 'https://www.tripadvisor.com/Hotel_Review-g664891-d2031569-Reviews-or20-Banyan_Tree_Macau-Macau.html', 'https://www.tripadvisor.com/Hotel_Review-g664891-d2031569-Reviews-or25-Banyan_Tree_Macau-Macau.html', 'https://www.tripadvisor.com/Hotel_Review-g664891-d2031569-Reviews-or30-Banyan_Tree_Macau-Macau.html', 'https://www.tripadvisor.com/Hotel_Review-g664891-d2031569-Reviews-or35-Banyan_Tree_Macau-Macau.html', 'https://www.tripadvisor.com/Hotel_Review-g664891-d2031569-Reviews-or40-Banyan_Tree_Macau-Macau.html', 'https://www.tripadvisor.com/Hotel_Review-g664891-d2031569-Reviews-or45-Banyan_Tree_Macau-Macau.html', 'https://www.tripadvisor.com/Hotel_Review-g664891-d2031569-Reviews-or50-Banyan_Tree_Macau-Macau.html', 'https://www.tripadvisor.com/Hotel_Review-g664891-d2031569-Reviews-or55-Banyan_Tree_Macau-Macau.html', 'https://www.tripadvisor.com/Hotel_Review-g664891-d2031569-Reviews-or60-Banyan_Tree_Macau-Macau.html', 'https://www.tripadvisor.com/Hotel_Review-g664891-d2031569-Reviews-or65-Banyan_Tree_Macau-Macau.html', 'https://www.tripadvisor.com/Hotel_Review-g664891-d2031569-Reviews-or70-Banyan_Tree_Macau-Macau.html', 'https://www.tripadvisor.com/Hotel_Review-g664891-d2031569-Reviews-or75-Banyan_Tree_Macau-Macau.html', 'https://www.tripadvisor.com/Hotel_Review-g664891-d2031569-Reviews-or80-Banyan_Tree_Macau-Macau.html', 'https://www.tripadvisor.com/Hotel_Review-g664891-d2031569-Reviews-or85-Banyan_Tree_Macau-Macau.html', 'https://www.tripadvisor.com/Hotel_Review-g664891-d2031569-Reviews-or90-Banyan_Tree_Macau-Macau.html', 'https://www.tripadvisor.com/Hotel_Review-g664891-d2031569-Reviews-or95-Banyan_Tree_Macau-Macau.html', 'https://www.tripadvisor.com/Hotel_Review-g664891-d2031569-Reviews-or100-Banyan_Tree_Macau-Macau.html', 'https://www.tripadvisor.com/Hotel_Review-g664891-d2031569-Reviews-or105-Banyan_Tree_Macau-Macau.html', 'https://www.tripadvisor.com/Hotel_Review-g664891-d2031569-Reviews-or110-Banyan_Tree_Macau-Macau.html', 'https://www.tripadvisor.com/Hotel_Review-g664891-d2031569-Reviews-or115-Banyan_Tree_Macau-Macau.html', 'https://www.tripadvisor.com/Hotel_Review-g664891-d2031569-Reviews-or120-Banyan_Tree_Macau-Macau.html', 'https://www.tripadvisor.com/Hotel_Review-g664891-d2031569-Reviews-or125-Banyan_Tree_Macau-Macau.html', 'https://www.tripadvisor.com/Hotel_Review-g664891-d2031569-Reviews-or130-Banyan_Tree_Macau-Macau.html', 'https://www.tripadvisor.com/Hotel_Review-g664891-d2031569-Reviews-or135-Banyan_Tree_Macau-Macau.html', 'https://www.tripadvisor.com/Hotel_Review-g664891-d2031569-Reviews-or140-Banyan_Tree_Macau-Macau.html', 'https://www.tripadvisor.com/Hotel_Review-g664891-d2031569-Reviews-or145-Banyan_Tree_Macau-Macau.html', 'https://www.tripadvisor.com/Hotel_Review-g664891-d2031569-Reviews-or150-Banyan_Tree_Macau-Macau.html', 'https://www.tripadvisor.com/Hotel_Review-g664891-d2031569-Reviews-or155-Banyan_Tree_Macau-Macau.html', 'https://www.tripadvisor.com/Hotel_Review-g664891-d2031569-Reviews-or160-Banyan_Tree_Macau-Macau.html', 'https://www.tripadvisor.com/Hotel_Review-g664891-d2031569-Reviews-or165-Banyan_Tree_Macau-Macau.html', 'https://www.tripadvisor.com/Hotel_Review-g664891-d2031569-Reviews-or170-Banyan_Tree_Macau-Macau.html', 'https://www.tripadvisor.com/Hotel_Review-g664891-d2031569-Reviews-or175-Banyan_Tree_Macau-Macau.html', 'https://www.tripadvisor.com/Hotel_Review-g664891-d2031569-Reviews-or180-Banyan_Tree_Macau-Macau.html', 'https://www.tripadvisor.com/Hotel_Review-g664891-d2031569-Reviews-or185-Banyan_Tree_Macau-Macau.html', 'https://www.tripadvisor.com/Hotel_Review-g664891-d2031569-Reviews-or190-Banyan_Tree_Macau-Macau.html', 'https://www.tripadvisor.com/Hotel_Review-g664891-d2031569-Reviews-or195-Banyan_Tree_Macau-Macau.html', 'https://www.tripadvisor.com/Hotel_Review-g664891-d2031569-Reviews-or200-Banyan_Tree_Macau-Macau.html', 'https://www.tripadvisor.com/Hotel_Review-g664891-d2031569-Reviews-or205-Banyan_Tree_Macau-Macau.html', 'https://www.tripadvisor.com/Hotel_Review-g664891-d2031569-Reviews-or210-Banyan_Tree_Macau-Macau.html', 'https://www.tripadvisor.com/Hotel_Review-g664891-d2031569-Reviews-or215-Banyan_Tree_Macau-Macau.html', 'https://www.tripadvisor.com/Hotel_Review-g664891-d2031569-Reviews-or220-Banyan_Tree_Macau-Macau.html', 'https://www.tripadvisor.com/Hotel_Review-g664891-d2031569-Reviews-or225-Banyan_Tree_Macau-Macau.html', 'https://www.tripadvisor.com/Hotel_Review-g664891-d2031569-Reviews-or230-Banyan_Tree_Macau-Macau.html', 'https://www.tripadvisor.com/Hotel_Review-g664891-d2031569-Reviews-or235-Banyan_Tree_Macau-Macau.html', 'https://www.tripadvisor.com/Hotel_Review-g664891-d2031569-Reviews-or240-Banyan_Tree_Macau-Macau.html', 'https://www.tripadvisor.com/Hotel_Review-g664891-d2031569-Reviews-or245-Banyan_Tree_Macau-Macau.html', 'https://www.tripadvisor.com/Hotel_Review-g664891-d2031569-Reviews-or250-Banyan_Tree_Macau-Macau.html', 'https://www.tripadvisor.com/Hotel_Review-g664891-d2031569-Reviews-or255-Banyan_Tree_Macau-Macau.html', 'https://www.tripadvisor.com/Hotel_Review-g664891-d2031569-Reviews-or260-Banyan_Tree_Macau-Macau.html', 'https://www.tripadvisor.com/Hotel_Review-g664891-d2031569-Reviews-or265-Banyan_Tree_Macau-Macau.html', 'https://www.tripadvisor.com/Hotel_Review-g664891-d2031569-Reviews-or270-Banyan_Tree_Macau-Macau.html', 'https://www.tripadvisor.com/Hotel_Review-g664891-d2031569-Reviews-or275-Banyan_Tree_Macau-Macau.html', 'https://www.tripadvisor.com/Hotel_Review-g664891-d2031569-Reviews-or280-Banyan_Tree_Macau-Macau.html', 'https://www.tripadvisor.com/Hotel_Review-g664891-d2031569-Reviews-or285-Banyan_Tree_Macau-Macau.html', 'https://www.tripadvisor.com/Hotel_Review-g664891-d2031569-Reviews-or290-Banyan_Tree_Macau-Macau.html', 'https://www.tripadvisor.com/Hotel_Review-g664891-d2031569-Reviews-or295-Banyan_Tree_Macau-Macau.html', 'https://www.tripadvisor.com/Hotel_Review-g664891-d2031569-Reviews-or300-Banyan_Tree_Macau-Macau.html', 'https://www.tripadvisor.com/Hotel_Review-g664891-d2031569-Reviews-or305-Banyan_Tree_Macau-Macau.html', 'https://www.tripadvisor.com/Hotel_Review-g664891-d2031569-Reviews-or310-Banyan_Tree_Macau-Macau.html', 'https://www.tripadvisor.com/Hotel_Review-g664891-d2031569-Reviews-or315-Banyan_Tree_Macau-Macau.html', 'https://www.tripadvisor.com/Hotel_Review-g664891-d2031569-Reviews-or320-Banyan_Tree_Macau-Macau.html', 'https://www.tripadvisor.com/Hotel_Review-g664891-d2031569-Reviews-or325-Banyan_Tree_Macau-Macau.html', 'https://www.tripadvisor.com/Hotel_Review-g664891-d2031569-Reviews-or330-Banyan_Tree_Macau-Macau.html', 'https://www.tripadvisor.com/Hotel_Review-g664891-d2031569-Reviews-or335-Banyan_Tree_Macau-Macau.html', 'https://www.tripadvisor.com/Hotel_Review-g664891-d2031569-Reviews-or340-Banyan_Tree_Macau-Macau.html', 'https://www.tripadvisor.com/Hotel_Review-g664891-d2031569-Reviews-or345-Banyan_Tree_Macau-Macau.html', 'https://www.tripadvisor.com/Hotel_Review-g664891-d2031569-Reviews-or350-Banyan_Tree_Macau-Macau.html', 'https://www.tripadvisor.com/Hotel_Review-g664891-d2031569-Reviews-or355-Banyan_Tree_Macau-Macau.html', 'https://www.tripadvisor.com/Hotel_Review-g664891-d2031569-Reviews-or360-Banyan_Tree_Macau-Macau.html', 'https://www.tripadvisor.com/Hotel_Review-g664891-d2031569-Reviews-or365-Banyan_Tree_Macau-Macau.html', 'https://www.tripadvisor.com/Hotel_Review-g664891-d2031569-Reviews-or370-Banyan_Tree_Macau-Macau.html', 'https://www.tripadvisor.com/Hotel_Review-g664891-d2031569-Reviews-or375-Banyan_Tree_Macau-Macau.html', 'https://www.tripadvisor.com/Hotel_Review-g664891-d2031569-Reviews-or380-Banyan_Tree_Macau-Macau.html', 'https://www.tripadvisor.com/Hotel_Review-g664891-d2031569-Reviews-or385-Banyan_Tree_Macau-Macau.html', 'https://www.tripadvisor.com/Hotel_Review-g664891-d2031569-Reviews-or390-Banyan_Tree_Macau-Macau.html', 'https://www.tripadvisor.com/Hotel_Review-g664891-d2031569-Reviews-or395-Banyan_Tree_Macau-Macau.html', 'https://www.tripadvisor.com/Hotel_Review-g664891-d2031569-Reviews-or400-Banyan_Tree_Macau-Macau.html', 'https://www.tripadvisor.com/Hotel_Review-g664891-d2031569-Reviews-or405-Banyan_Tree_Macau-Macau.html', 'https://www.tripadvisor.com/Hotel_Review-g664891-d2031569-Reviews-or410-Banyan_Tree_Macau-Macau.html', 'https://www.tripadvisor.com/Hotel_Review-g664891-d2031569-Reviews-or415-Banyan_Tree_Macau-Macau.html', 'https://www.tripadvisor.com/Hotel_Review-g664891-d2031569-Reviews-or420-Banyan_Tree_Macau-Macau.html', 'https://www.tripadvisor.com/Hotel_Review-g664891-d2031569-Reviews-or425-Banyan_Tree_Macau-Macau.html', 'https://www.tripadvisor.com/Hotel_Review-g664891-d2031569-Reviews-or430-Banyan_Tree_Macau-Macau.html', 'https://www.tripadvisor.com/Hotel_Review-g664891-d2031569-Reviews-or435-Banyan_Tree_Macau-Macau.html', 'https://www.tripadvisor.com/Hotel_Review-g664891-d2031569-Reviews-or440-Banyan_Tree_Macau-Macau.html', 'https://www.tripadvisor.com/Hotel_Review-g664891-d2031569-Reviews-or445-Banyan_Tree_Macau-Macau.html', 'https://www.tripadvisor.com/Hotel_Review-g664891-d2031569-Reviews-or450-Banyan_Tree_Macau-Macau.html', 'https://www.tripadvisor.com/Hotel_Review-g664891-d2031569-Reviews-or455-Banyan_Tree_Macau-Macau.html', 'https://www.tripadvisor.com/Hotel_Review-g664891-d2031569-Reviews-or460-Banyan_Tree_Macau-Macau.html', 'https://www.tripadvisor.com/Hotel_Review-g664891-d2031569-Reviews-or465-Banyan_Tree_Macau-Macau.html', 'https://www.tripadvisor.com/Hotel_Review-g664891-d2031569-Reviews-or470-Banyan_Tree_Macau-Macau.html', 'https://www.tripadvisor.com/Hotel_Review-g664891-d2031569-Reviews-or475-Banyan_Tree_Macau-Macau.html', 'https://www.tripadvisor.com/Hotel_Review-g664891-d2031569-Reviews-or480-Banyan_Tree_Macau-Macau.html', 'https://www.tripadvisor.com/Hotel_Review-g664891-d2031569-Reviews-or485-Banyan_Tree_Macau-Macau.html', 'https://www.tripadvisor.com/Hotel_Review-g664891-d2031569-Reviews-or490-Banyan_Tree_Macau-Macau.html', 'https://www.tripadvisor.com/Hotel_Review-g664891-d2031569-Reviews-or495-Banyan_Tree_Macau-Macau.html', 'https://www.tripadvisor.com/Hotel_Review-g664891-d2031569-Reviews-or500-Banyan_Tree_Macau-Macau.html', 'https://www.tripadvisor.com/Hotel_Review-g664891-d2031569-Reviews-or505-Banyan_Tree_Macau-Macau.html', 'https://www.tripadvisor.com/Hotel_Review-g664891-d2031569-Reviews-or510-Banyan_Tree_Macau-Macau.html', 'https://www.tripadvisor.com/Hotel_Review-g664891-d2031569-Reviews-or515-Banyan_Tree_Macau-Macau.html', 'https://www.tripadvisor.com/Hotel_Review-g664891-d2031569-Reviews-or520-Banyan_Tree_Macau-Macau.html', 'https://www.tripadvisor.com/Hotel_Review-g664891-d2031569-Reviews-or525-Banyan_Tree_Macau-Macau.html', 'https://www.tripadvisor.com/Hotel_Review-g664891-d2031569-Reviews-or530-Banyan_Tree_Macau-Macau.html', 'https://www.tripadvisor.com/Hotel_Review-g664891-d2031569-Reviews-or535-Banyan_Tree_Macau-Macau.html', 'https://www.tripadvisor.com/Hotel_Review-g664891-d2031569-Reviews-or540-Banyan_Tree_Macau-Macau.html']\n"
     ]
    }
   ],
   "source": [
    "headers = {'User-Agent': 'Mozilla/5.0 (Macintosh; Intel Mac OS X 10_12_3) AppleWebKit/537.36 (KHTML, like Gecko) Chrome/58.0.3029.110 Safari/537.36'\n",
    "            }\n",
    "\n",
    "response = requests.get('https://www.tripadvisor.com/Hotel_Review-g664891-d845057-Reviews-MGM_Macau-Macau.html', headers=headers).text\n",
    "soup = BeautifulSoup(response, 'html.parser')\n",
    "url_list = [] #sheraton_macao_cotai_strip所有review的网页\n",
    "for i in range(0, 109):\n",
    "    if i == 0:\n",
    "        url_list.append('https://www.tripadvisor.com/Hotel_Review-g664891-d2031569-Reviews-Banyan_Tree_Macau-Macau.html')\n",
    "    else:\n",
    "        url_list.append('https://www.tripadvisor.com/Hotel_Review-g664891-d2031569-Reviews-or'+ \n",
    "                        str(i * 5)+'-Banyan_Tree_Macau-Macau.html')\n",
    "print(url_list)\n"
   ]
  },
  {
   "cell_type": "code",
   "execution_count": 154,
   "metadata": {},
   "outputs": [
    {
     "data": {
      "text/plain": [
       "125"
      ]
     },
     "execution_count": 154,
     "metadata": {},
     "output_type": "execute_result"
    }
   ],
   "source": [
    "len(url_list)"
   ]
  },
  {
   "cell_type": "code",
   "execution_count": null,
   "metadata": {},
   "outputs": [],
   "source": []
  }
 ],
 "metadata": {
  "kernelspec": {
   "display_name": "Python 3",
   "language": "python",
   "name": "python3"
  },
  "language_info": {
   "codemirror_mode": {
    "name": "ipython",
    "version": 3
   },
   "file_extension": ".py",
   "mimetype": "text/x-python",
   "name": "python",
   "nbconvert_exporter": "python",
   "pygments_lexer": "ipython3",
   "version": "3.7.6"
  }
 },
 "nbformat": 4,
 "nbformat_minor": 4
}
