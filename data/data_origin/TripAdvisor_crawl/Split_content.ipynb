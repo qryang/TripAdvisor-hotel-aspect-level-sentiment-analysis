{
 "cells": [
  {
   "cell_type": "markdown",
   "metadata": {},
   "source": [
    "# Extract sentences from review"
   ]
  },
  {
   "cell_type": "markdown",
   "metadata": {},
   "source": [
    "1. Seclect low-rating reviews (<=30) "
   ]
  },
  {
   "cell_type": "code",
   "execution_count": 1,
   "metadata": {},
   "outputs": [],
   "source": [
    "import pandas as pd"
   ]
  },
  {
   "cell_type": "code",
   "execution_count": 2,
   "metadata": {},
   "outputs": [],
   "source": [
    "hotel_name = 'Sheraton_Grand_Macao'\n",
    "data = pd.read_csv('{}.csv'.format(hotel_name), header=None, names=['Content', 'Rating'])"
   ]
  },
  {
   "cell_type": "code",
   "execution_count": 3,
   "metadata": {},
   "outputs": [
    {
     "data": {
      "text/html": [
       "<div>\n",
       "<style scoped>\n",
       "    .dataframe tbody tr th:only-of-type {\n",
       "        vertical-align: middle;\n",
       "    }\n",
       "\n",
       "    .dataframe tbody tr th {\n",
       "        vertical-align: top;\n",
       "    }\n",
       "\n",
       "    .dataframe thead th {\n",
       "        text-align: right;\n",
       "    }\n",
       "</style>\n",
       "<table border=\"1\" class=\"dataframe\">\n",
       "  <thead>\n",
       "    <tr style=\"text-align: right;\">\n",
       "      <th></th>\n",
       "      <th>Content</th>\n",
       "      <th>Rating</th>\n",
       "    </tr>\n",
       "  </thead>\n",
       "  <tbody>\n",
       "    <tr>\n",
       "      <th>0</th>\n",
       "      <td>The most hip and vibrant hotel in the Cotai st...</td>\n",
       "      <td>50</td>\n",
       "    </tr>\n",
       "    <tr>\n",
       "      <th>1</th>\n",
       "      <td>This may not be the fanciest hotel on the Cota...</td>\n",
       "      <td>50</td>\n",
       "    </tr>\n",
       "    <tr>\n",
       "      <th>2</th>\n",
       "      <td>Short staycation yet amazing. Gorgeous room wi...</td>\n",
       "      <td>50</td>\n",
       "    </tr>\n",
       "    <tr>\n",
       "      <th>3</th>\n",
       "      <td>I would like to thank you and your team especi...</td>\n",
       "      <td>50</td>\n",
       "    </tr>\n",
       "    <tr>\n",
       "      <th>4</th>\n",
       "      <td>Excellent services. Love all the staff, they a...</td>\n",
       "      <td>50</td>\n",
       "    </tr>\n",
       "    <tr>\n",
       "      <th>...</th>\n",
       "      <td>...</td>\n",
       "      <td>...</td>\n",
       "    </tr>\n",
       "    <tr>\n",
       "      <th>5009</th>\n",
       "      <td>The newly opened Sheraton Macao Hotel, Cotai C...</td>\n",
       "      <td>50</td>\n",
       "    </tr>\n",
       "    <tr>\n",
       "      <th>5010</th>\n",
       "      <td>I don't recommend this hotel specially for spe...</td>\n",
       "      <td>20</td>\n",
       "    </tr>\n",
       "    <tr>\n",
       "      <th>5011</th>\n",
       "      <td>It seams just that Sheraton also want a share ...</td>\n",
       "      <td>40</td>\n",
       "    </tr>\n",
       "    <tr>\n",
       "      <th>5012</th>\n",
       "      <td>Sheraton Macau on Cotai strip just opened 2 da...</td>\n",
       "      <td>50</td>\n",
       "    </tr>\n",
       "    <tr>\n",
       "      <th>5013</th>\n",
       "      <td>Decent hotel but not as good as I expected for...</td>\n",
       "      <td>30</td>\n",
       "    </tr>\n",
       "  </tbody>\n",
       "</table>\n",
       "<p>5014 rows × 2 columns</p>\n",
       "</div>"
      ],
      "text/plain": [
       "                                                Content  Rating\n",
       "0     The most hip and vibrant hotel in the Cotai st...      50\n",
       "1     This may not be the fanciest hotel on the Cota...      50\n",
       "2     Short staycation yet amazing. Gorgeous room wi...      50\n",
       "3     I would like to thank you and your team especi...      50\n",
       "4     Excellent services. Love all the staff, they a...      50\n",
       "...                                                 ...     ...\n",
       "5009  The newly opened Sheraton Macao Hotel, Cotai C...      50\n",
       "5010  I don't recommend this hotel specially for spe...      20\n",
       "5011  It seams just that Sheraton also want a share ...      40\n",
       "5012  Sheraton Macau on Cotai strip just opened 2 da...      50\n",
       "5013  Decent hotel but not as good as I expected for...      30\n",
       "\n",
       "[5014 rows x 2 columns]"
      ]
     },
     "execution_count": 3,
     "metadata": {},
     "output_type": "execute_result"
    }
   ],
   "source": [
    "data"
   ]
  },
  {
   "cell_type": "code",
   "execution_count": 4,
   "metadata": {},
   "outputs": [],
   "source": [
    "low_rating_data = data[data['Rating'] <= 30]"
   ]
  },
  {
   "cell_type": "code",
   "execution_count": 5,
   "metadata": {},
   "outputs": [],
   "source": [
    "low_rating_data.to_csv('{}_low_rating.csv'.format(hotel_name), index=None)"
   ]
  },
  {
   "cell_type": "markdown",
   "metadata": {},
   "source": [
    "2. Extract sentences"
   ]
  },
  {
   "cell_type": "code",
   "execution_count": 17,
   "metadata": {},
   "outputs": [],
   "source": [
    "data = pd.read_csv('{}_low_rating.csv'.format(hotel_name))"
   ]
  },
  {
   "cell_type": "code",
   "execution_count": 18,
   "metadata": {},
   "outputs": [
    {
     "data": {
      "text/html": [
       "<div>\n",
       "<style scoped>\n",
       "    .dataframe tbody tr th:only-of-type {\n",
       "        vertical-align: middle;\n",
       "    }\n",
       "\n",
       "    .dataframe tbody tr th {\n",
       "        vertical-align: top;\n",
       "    }\n",
       "\n",
       "    .dataframe thead th {\n",
       "        text-align: right;\n",
       "    }\n",
       "</style>\n",
       "<table border=\"1\" class=\"dataframe\">\n",
       "  <thead>\n",
       "    <tr style=\"text-align: right;\">\n",
       "      <th></th>\n",
       "      <th>Content</th>\n",
       "      <th>Rating</th>\n",
       "    </tr>\n",
       "  </thead>\n",
       "  <tbody>\n",
       "    <tr>\n",
       "      <th>0</th>\n",
       "      <td>Room is big, with a large bathroom with shower...</td>\n",
       "      <td>30</td>\n",
       "    </tr>\n",
       "    <tr>\n",
       "      <th>1</th>\n",
       "      <td>All the filipino staves and security personnel...</td>\n",
       "      <td>10</td>\n",
       "    </tr>\n",
       "    <tr>\n",
       "      <th>2</th>\n",
       "      <td>Would not suggest staying here at all. The roo...</td>\n",
       "      <td>10</td>\n",
       "    </tr>\n",
       "    <tr>\n",
       "      <th>3</th>\n",
       "      <td>Upon booking, I ordered a non-smoking room, bu...</td>\n",
       "      <td>10</td>\n",
       "    </tr>\n",
       "    <tr>\n",
       "      <th>4</th>\n",
       "      <td>Very basic stay in Macau, and as a Titanium El...</td>\n",
       "      <td>20</td>\n",
       "    </tr>\n",
       "    <tr>\n",
       "      <th>...</th>\n",
       "      <td>...</td>\n",
       "      <td>...</td>\n",
       "    </tr>\n",
       "    <tr>\n",
       "      <th>745</th>\n",
       "      <td>When we stay there, Sheraton just opened a wee...</td>\n",
       "      <td>30</td>\n",
       "    </tr>\n",
       "    <tr>\n",
       "      <th>746</th>\n",
       "      <td>Bottom Line: Would only recommend staying at t...</td>\n",
       "      <td>20</td>\n",
       "    </tr>\n",
       "    <tr>\n",
       "      <th>747</th>\n",
       "      <td>Checked in on 29/9/12 and stayed for one night...</td>\n",
       "      <td>10</td>\n",
       "    </tr>\n",
       "    <tr>\n",
       "      <th>748</th>\n",
       "      <td>I don't recommend this hotel specially for spe...</td>\n",
       "      <td>20</td>\n",
       "    </tr>\n",
       "    <tr>\n",
       "      <th>749</th>\n",
       "      <td>Decent hotel but not as good as I expected for...</td>\n",
       "      <td>30</td>\n",
       "    </tr>\n",
       "  </tbody>\n",
       "</table>\n",
       "<p>750 rows × 2 columns</p>\n",
       "</div>"
      ],
      "text/plain": [
       "                                               Content  Rating\n",
       "0    Room is big, with a large bathroom with shower...      30\n",
       "1    All the filipino staves and security personnel...      10\n",
       "2    Would not suggest staying here at all. The roo...      10\n",
       "3    Upon booking, I ordered a non-smoking room, bu...      10\n",
       "4    Very basic stay in Macau, and as a Titanium El...      20\n",
       "..                                                 ...     ...\n",
       "745  When we stay there, Sheraton just opened a wee...      30\n",
       "746  Bottom Line: Would only recommend staying at t...      20\n",
       "747  Checked in on 29/9/12 and stayed for one night...      10\n",
       "748  I don't recommend this hotel specially for spe...      20\n",
       "749  Decent hotel but not as good as I expected for...      30\n",
       "\n",
       "[750 rows x 2 columns]"
      ]
     },
     "execution_count": 18,
     "metadata": {},
     "output_type": "execute_result"
    }
   ],
   "source": [
    "data"
   ]
  },
  {
   "cell_type": "code",
   "execution_count": 19,
   "metadata": {},
   "outputs": [
    {
     "data": {
      "text/plain": [
       "'Room is big, with a large bathroom with shower and bath tub separated. The bathroom amenities like shower gel and shampoo are poor in quality. I have uploaded the TV channel list and laundry price list.   The router in the room provides both wired and wifi connection. Two power outlets at the table and one at bedside'"
      ]
     },
     "execution_count": 19,
     "metadata": {},
     "output_type": "execute_result"
    }
   ],
   "source": [
    "data['Content'].loc[0]"
   ]
  },
  {
   "cell_type": "code",
   "execution_count": 20,
   "metadata": {},
   "outputs": [
    {
     "data": {
      "text/plain": [
       "['Room is big, with a large bathroom with shower and bath tub separated',\n",
       " ' The bathroom amenities like shower gel and shampoo are poor in quality',\n",
       " ' I have uploaded the TV channel list and laundry price list',\n",
       " '   The router in the room provides both wired and wifi connection',\n",
       " ' Two power outlets at the table and one at bedside']"
      ]
     },
     "execution_count": 20,
     "metadata": {},
     "output_type": "execute_result"
    }
   ],
   "source": [
    "data['Content'].loc[0].split('.')"
   ]
  },
  {
   "cell_type": "code",
   "execution_count": 21,
   "metadata": {},
   "outputs": [
    {
     "name": "stdout",
     "output_type": "stream",
     "text": [
      "Room is big, with a large bathroom with shower and bath tub separated\n",
      "The bathroom amenities like shower gel and shampoo are poor in quality\n",
      "I have uploaded the TV channel list and laundry price list\n",
      "The router in the room provides both wired and wifi connection\n",
      "Two power outlets at the table and one at bedside\n"
     ]
    }
   ],
   "source": [
    "for c in data['Content'].loc[0].split('.'):\n",
    "    c_ = c.strip()\n",
    "    print(c_)"
   ]
  },
  {
   "cell_type": "code",
   "execution_count": 32,
   "metadata": {},
   "outputs": [],
   "source": [
    "def split_content(content):\n",
    "    contents = []\n",
    "    for c in content.split('.'):\n",
    "        c_ = c.strip()\n",
    "        contents.append(c_)\n",
    "    while '' in contents:\n",
    "        contents.remove('')\n",
    "    return contents\n",
    "\n",
    "\n",
    "def main():\n",
    "    _data = pd.DataFrame()\n",
    "    start_idx = 50000\n",
    "    row = 0\n",
    "    for content_idx, content in enumerate(data['Content']):\n",
    "        contents = split_content(content)\n",
    "        for idx, content in enumerate(contents):\n",
    "            _data.loc[row, 0] = 'c{}'.format(start_idx + content_idx)\n",
    "            _data.loc[row, 1] = 's{}'.format(idx + 1)\n",
    "            _data.loc[row, 2] = content\n",
    "            row += 1\n",
    "    _data.to_csv('{}_low_rating_labeling.csv'.format(hotel_name), index=None, header=None)"
   ]
  },
  {
   "cell_type": "code",
   "execution_count": 27,
   "metadata": {},
   "outputs": [],
   "source": [
    "contents = split_content(data['Content'].loc[0])"
   ]
  },
  {
   "cell_type": "code",
   "execution_count": 28,
   "metadata": {},
   "outputs": [
    {
     "data": {
      "text/plain": [
       "['Room is big, with a large bathroom with shower and bath tub separated',\n",
       " 'The bathroom amenities like shower gel and shampoo are poor in quality',\n",
       " 'I have uploaded the TV channel list and laundry price list',\n",
       " 'The router in the room provides both wired and wifi connection',\n",
       " 'Two power outlets at the table and one at bedside']"
      ]
     },
     "execution_count": 28,
     "metadata": {},
     "output_type": "execute_result"
    }
   ],
   "source": [
    "contents"
   ]
  },
  {
   "cell_type": "code",
   "execution_count": 33,
   "metadata": {},
   "outputs": [],
   "source": [
    "main()"
   ]
  },
  {
   "cell_type": "code",
   "execution_count": null,
   "metadata": {},
   "outputs": [],
   "source": []
  }
 ],
 "metadata": {
  "kernelspec": {
   "display_name": "Python 3",
   "language": "python",
   "name": "python3"
  },
  "language_info": {
   "codemirror_mode": {
    "name": "ipython",
    "version": 3
   },
   "file_extension": ".py",
   "mimetype": "text/x-python",
   "name": "python",
   "nbconvert_exporter": "python",
   "pygments_lexer": "ipython3",
   "version": "3.7.3"
  }
 },
 "nbformat": 4,
 "nbformat_minor": 4
}
