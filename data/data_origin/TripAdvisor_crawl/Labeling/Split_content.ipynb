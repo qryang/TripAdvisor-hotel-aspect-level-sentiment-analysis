{
 "cells": [
  {
   "cell_type": "markdown",
   "metadata": {},
   "source": [
    "# Extract sentences from review"
   ]
  },
  {
   "cell_type": "markdown",
   "metadata": {},
   "source": [
    "1. Seclect high/low-rating reviews "
   ]
  },
  {
   "cell_type": "code",
   "execution_count": 1,
   "metadata": {},
   "outputs": [],
   "source": [
    "import pandas as pd"
   ]
  },
  {
   "cell_type": "code",
   "execution_count": 2,
   "metadata": {},
   "outputs": [],
   "source": [
    "hotel_name = 'Ritz_Carlton_Macau-Macau'\n",
    "rating = 'high'\n",
    "data = pd.read_csv('../{}.csv'.format(hotel_name), header=None, names=['Content', 'Rating'])"
   ]
  },
  {
   "cell_type": "code",
   "execution_count": 3,
   "metadata": {},
   "outputs": [
    {
     "data": {
      "text/html": [
       "<div>\n",
       "<style scoped>\n",
       "    .dataframe tbody tr th:only-of-type {\n",
       "        vertical-align: middle;\n",
       "    }\n",
       "\n",
       "    .dataframe tbody tr th {\n",
       "        vertical-align: top;\n",
       "    }\n",
       "\n",
       "    .dataframe thead th {\n",
       "        text-align: right;\n",
       "    }\n",
       "</style>\n",
       "<table border=\"1\" class=\"dataframe\">\n",
       "  <thead>\n",
       "    <tr style=\"text-align: right;\">\n",
       "      <th></th>\n",
       "      <th>Content</th>\n",
       "      <th>Rating</th>\n",
       "    </tr>\n",
       "  </thead>\n",
       "  <tbody>\n",
       "    <tr>\n",
       "      <th>0</th>\n",
       "      <td>We stayed for two nights. Minutes after we ent...</td>\n",
       "      <td>50</td>\n",
       "    </tr>\n",
       "    <tr>\n",
       "      <th>1</th>\n",
       "      <td>I seldom stay in Macau hotel but I chose Ritz ...</td>\n",
       "      <td>50</td>\n",
       "    </tr>\n",
       "    <tr>\n",
       "      <th>2</th>\n",
       "      <td>Just wanna say \"BIG thanks\" for everything tha...</td>\n",
       "      <td>50</td>\n",
       "    </tr>\n",
       "    <tr>\n",
       "      <th>3</th>\n",
       "      <td>My stay at Ritz Carlton with my boyfriend was ...</td>\n",
       "      <td>50</td>\n",
       "    </tr>\n",
       "    <tr>\n",
       "      <th>4</th>\n",
       "      <td>This was my first but undoubtedly the best sta...</td>\n",
       "      <td>50</td>\n",
       "    </tr>\n",
       "    <tr>\n",
       "      <th>...</th>\n",
       "      <td>...</td>\n",
       "      <td>...</td>\n",
       "    </tr>\n",
       "    <tr>\n",
       "      <th>515</th>\n",
       "      <td>It was a nice place and nice stay, specially w...</td>\n",
       "      <td>50</td>\n",
       "    </tr>\n",
       "    <tr>\n",
       "      <th>516</th>\n",
       "      <td>It was happened this afternoon (1:45) shuttle ...</td>\n",
       "      <td>10</td>\n",
       "    </tr>\n",
       "    <tr>\n",
       "      <th>517</th>\n",
       "      <td>Cannot visit other places, stay at local hotel...</td>\n",
       "      <td>50</td>\n",
       "    </tr>\n",
       "    <tr>\n",
       "      <th>518</th>\n",
       "      <td>Your hotel have a nice view but we had a bad e...</td>\n",
       "      <td>10</td>\n",
       "    </tr>\n",
       "    <tr>\n",
       "      <th>519</th>\n",
       "      <td>today’s morning I need to go to the border gat...</td>\n",
       "      <td>10</td>\n",
       "    </tr>\n",
       "  </tbody>\n",
       "</table>\n",
       "<p>520 rows × 2 columns</p>\n",
       "</div>"
      ],
      "text/plain": [
       "                                               Content  Rating\n",
       "0    We stayed for two nights. Minutes after we ent...      50\n",
       "1    I seldom stay in Macau hotel but I chose Ritz ...      50\n",
       "2    Just wanna say \"BIG thanks\" for everything tha...      50\n",
       "3    My stay at Ritz Carlton with my boyfriend was ...      50\n",
       "4    This was my first but undoubtedly the best sta...      50\n",
       "..                                                 ...     ...\n",
       "515  It was a nice place and nice stay, specially w...      50\n",
       "516  It was happened this afternoon (1:45) shuttle ...      10\n",
       "517  Cannot visit other places, stay at local hotel...      50\n",
       "518  Your hotel have a nice view but we had a bad e...      10\n",
       "519  today’s morning I need to go to the border gat...      10\n",
       "\n",
       "[520 rows x 2 columns]"
      ]
     },
     "execution_count": 3,
     "metadata": {},
     "output_type": "execute_result"
    }
   ],
   "source": [
    "data"
   ]
  },
  {
   "cell_type": "code",
   "execution_count": 4,
   "metadata": {},
   "outputs": [],
   "source": [
    "cond = data['Rating'] == 50 if rating == 'high' else data['Rating'] <= 20\n",
    "file_name = 'high_rating' if rating == 'high' else 'low_rating'\n",
    "rating_data = data[cond]"
   ]
  },
  {
   "cell_type": "code",
   "execution_count": 5,
   "metadata": {},
   "outputs": [],
   "source": [
    "rating_data.to_csv('./Rating/{}_{}.csv'.format(hotel_name, file_name), index=None, encoding='utf-8')"
   ]
  },
  {
   "cell_type": "markdown",
   "metadata": {},
   "source": [
    "2. Extract sentences"
   ]
  },
  {
   "cell_type": "code",
   "execution_count": 6,
   "metadata": {},
   "outputs": [],
   "source": [
    "data = pd.read_csv('./Rating/{}_{}.csv'.format(hotel_name, file_name))"
   ]
  },
  {
   "cell_type": "code",
   "execution_count": 7,
   "metadata": {},
   "outputs": [
    {
     "data": {
      "text/html": [
       "<div>\n",
       "<style scoped>\n",
       "    .dataframe tbody tr th:only-of-type {\n",
       "        vertical-align: middle;\n",
       "    }\n",
       "\n",
       "    .dataframe tbody tr th {\n",
       "        vertical-align: top;\n",
       "    }\n",
       "\n",
       "    .dataframe thead th {\n",
       "        text-align: right;\n",
       "    }\n",
       "</style>\n",
       "<table border=\"1\" class=\"dataframe\">\n",
       "  <thead>\n",
       "    <tr style=\"text-align: right;\">\n",
       "      <th></th>\n",
       "      <th>Content</th>\n",
       "      <th>Rating</th>\n",
       "    </tr>\n",
       "  </thead>\n",
       "  <tbody>\n",
       "    <tr>\n",
       "      <th>0</th>\n",
       "      <td>We stayed for two nights. Minutes after we ent...</td>\n",
       "      <td>50</td>\n",
       "    </tr>\n",
       "    <tr>\n",
       "      <th>1</th>\n",
       "      <td>I seldom stay in Macau hotel but I chose Ritz ...</td>\n",
       "      <td>50</td>\n",
       "    </tr>\n",
       "    <tr>\n",
       "      <th>2</th>\n",
       "      <td>Just wanna say \"BIG thanks\" for everything tha...</td>\n",
       "      <td>50</td>\n",
       "    </tr>\n",
       "    <tr>\n",
       "      <th>3</th>\n",
       "      <td>My stay at Ritz Carlton with my boyfriend was ...</td>\n",
       "      <td>50</td>\n",
       "    </tr>\n",
       "    <tr>\n",
       "      <th>4</th>\n",
       "      <td>This was my first but undoubtedly the best sta...</td>\n",
       "      <td>50</td>\n",
       "    </tr>\n",
       "    <tr>\n",
       "      <th>...</th>\n",
       "      <td>...</td>\n",
       "      <td>...</td>\n",
       "    </tr>\n",
       "    <tr>\n",
       "      <th>272</th>\n",
       "      <td>Cannot visit other places, stay at local hotel...</td>\n",
       "      <td>50</td>\n",
       "    </tr>\n",
       "    <tr>\n",
       "      <th>273</th>\n",
       "      <td>It was a nice place and nice stay, specially w...</td>\n",
       "      <td>50</td>\n",
       "    </tr>\n",
       "    <tr>\n",
       "      <th>274</th>\n",
       "      <td>Cannot visit other places, stay at local hotel...</td>\n",
       "      <td>50</td>\n",
       "    </tr>\n",
       "    <tr>\n",
       "      <th>275</th>\n",
       "      <td>It was a nice place and nice stay, specially w...</td>\n",
       "      <td>50</td>\n",
       "    </tr>\n",
       "    <tr>\n",
       "      <th>276</th>\n",
       "      <td>Cannot visit other places, stay at local hotel...</td>\n",
       "      <td>50</td>\n",
       "    </tr>\n",
       "  </tbody>\n",
       "</table>\n",
       "<p>277 rows × 2 columns</p>\n",
       "</div>"
      ],
      "text/plain": [
       "                                               Content  Rating\n",
       "0    We stayed for two nights. Minutes after we ent...      50\n",
       "1    I seldom stay in Macau hotel but I chose Ritz ...      50\n",
       "2    Just wanna say \"BIG thanks\" for everything tha...      50\n",
       "3    My stay at Ritz Carlton with my boyfriend was ...      50\n",
       "4    This was my first but undoubtedly the best sta...      50\n",
       "..                                                 ...     ...\n",
       "272  Cannot visit other places, stay at local hotel...      50\n",
       "273  It was a nice place and nice stay, specially w...      50\n",
       "274  Cannot visit other places, stay at local hotel...      50\n",
       "275  It was a nice place and nice stay, specially w...      50\n",
       "276  Cannot visit other places, stay at local hotel...      50\n",
       "\n",
       "[277 rows x 2 columns]"
      ]
     },
     "execution_count": 7,
     "metadata": {},
     "output_type": "execute_result"
    }
   ],
   "source": [
    "data"
   ]
  },
  {
   "cell_type": "code",
   "execution_count": 8,
   "metadata": {},
   "outputs": [
    {
     "data": {
      "text/plain": [
       "'We stayed for two nights. Minutes after we entered the suite right after check-in, a playing/sleeping tant with kid’s  amenities were delivered together with a handwritten card with our daughter’s name on and Princess Elsa’s image ( which she treasures like crazy during the stay, holding it to sleep, even after we checked out, believing that’s from Elsa saying “let’s have fun together”!) We had several room service and the experiences were all nice. Though it happened that some of the order taker were not so familiar with the wine by the glass list, and some items were out of stock, but the room service staff were very helpful to make it up, making sure the entire dinning experience was perfect.  The breakfast downstairs in the Ritz Carlton cafe was also good. We have dined there several times before, this time is as good as always.  Front desk service was efficient upon check in and check out, and there’s a little kids corner to entertain young kids while waiting, which is very useful! Housekeepers at evening were quite helpful too, being very friendly and thoughtful. Offered us the bath service by seeing us being tired from the day and brought us the lavender bath-bomb.  In general, it’s one of the top choices among so many hotels in the region. No matter the facilities or service. Highly recommend!…'"
      ]
     },
     "execution_count": 8,
     "metadata": {},
     "output_type": "execute_result"
    }
   ],
   "source": [
    "data['Content'].loc[0]"
   ]
  },
  {
   "cell_type": "code",
   "execution_count": 9,
   "metadata": {},
   "outputs": [
    {
     "data": {
      "text/plain": [
       "['We stayed for two nights',\n",
       " ' Minutes after we entered the suite right after check-in, a playing/sleeping tant with kid’s  amenities were delivered together with a handwritten card with our daughter’s name on and Princess Elsa’s image ( which she treasures like crazy during the stay, holding it to sleep, even after we checked out, believing that’s from Elsa saying “let’s have fun together”!) We had several room service and the experiences were all nice',\n",
       " ' Though it happened that some of the order taker were not so familiar with the wine by the glass list, and some items were out of stock, but the room service staff were very helpful to make it up, making sure the entire dinning experience was perfect',\n",
       " '  The breakfast downstairs in the Ritz Carlton cafe was also good',\n",
       " ' We have dined there several times before, this time is as good as always',\n",
       " '  Front desk service was efficient upon check in and check out, and there’s a little kids corner to entertain young kids while waiting, which is very useful! Housekeepers at evening were quite helpful too, being very friendly and thoughtful',\n",
       " ' Offered us the bath service by seeing us being tired from the day and brought us the lavender bath-bomb',\n",
       " '  In general, it’s one of the top choices among so many hotels in the region',\n",
       " ' No matter the facilities or service',\n",
       " ' Highly recommend!…']"
      ]
     },
     "execution_count": 9,
     "metadata": {},
     "output_type": "execute_result"
    }
   ],
   "source": [
    "data['Content'].loc[0].split('.')"
   ]
  },
  {
   "cell_type": "code",
   "execution_count": 10,
   "metadata": {},
   "outputs": [
    {
     "name": "stdout",
     "output_type": "stream",
     "text": [
      "We stayed for two nights\n",
      "Minutes after we entered the suite right after check-in, a playing/sleeping tant with kid’s  amenities were delivered together with a handwritten card with our daughter’s name on and Princess Elsa’s image ( which she treasures like crazy during the stay, holding it to sleep, even after we checked out, believing that’s from Elsa saying “let’s have fun together”!) We had several room service and the experiences were all nice\n",
      "Though it happened that some of the order taker were not so familiar with the wine by the glass list, and some items were out of stock, but the room service staff were very helpful to make it up, making sure the entire dinning experience was perfect\n",
      "The breakfast downstairs in the Ritz Carlton cafe was also good\n",
      "We have dined there several times before, this time is as good as always\n",
      "Front desk service was efficient upon check in and check out, and there’s a little kids corner to entertain young kids while waiting, which is very useful! Housekeepers at evening were quite helpful too, being very friendly and thoughtful\n",
      "Offered us the bath service by seeing us being tired from the day and brought us the lavender bath-bomb\n",
      "In general, it’s one of the top choices among so many hotels in the region\n",
      "No matter the facilities or service\n",
      "Highly recommend!…\n"
     ]
    }
   ],
   "source": [
    "for c in data['Content'].loc[0].split('.'):\n",
    "    c_ = c.strip()\n",
    "    print(c_)"
   ]
  },
  {
   "cell_type": "code",
   "execution_count": 11,
   "metadata": {},
   "outputs": [],
   "source": [
    "def split_content(content):\n",
    "    contents = []\n",
    "    for c in content.split('.'):\n",
    "        c_ = c.strip()\n",
    "        contents.append(c_)\n",
    "    while '' in contents:\n",
    "        contents.remove('')\n",
    "    return contents\n",
    "\n",
    "\n",
    "def main(start_idx):\n",
    "    _data = pd.DataFrame()\n",
    "    row = 0\n",
    "    for content_idx, content in enumerate(data['Content']):\n",
    "        contents = split_content(content)\n",
    "        for idx, content in enumerate(contents):\n",
    "            _data.loc[row, 0] = 'c{}'.format(start_idx + content_idx)\n",
    "            _data.loc[row, 1] = 's{}'.format(idx + 1)\n",
    "            _data.loc[row, 2] = content\n",
    "            row += 1\n",
    "    _data.to_csv('{}_{}_labeling.csv'.format(hotel_name, file_name), index=None, header=None)"
   ]
  },
  {
   "cell_type": "code",
   "execution_count": 12,
   "metadata": {},
   "outputs": [],
   "source": [
    "contents = split_content(data['Content'].loc[0])"
   ]
  },
  {
   "cell_type": "code",
   "execution_count": 13,
   "metadata": {},
   "outputs": [
    {
     "data": {
      "text/plain": [
       "['We stayed for two nights',\n",
       " 'Minutes after we entered the suite right after check-in, a playing/sleeping tant with kid’s  amenities were delivered together with a handwritten card with our daughter’s name on and Princess Elsa’s image ( which she treasures like crazy during the stay, holding it to sleep, even after we checked out, believing that’s from Elsa saying “let’s have fun together”!) We had several room service and the experiences were all nice',\n",
       " 'Though it happened that some of the order taker were not so familiar with the wine by the glass list, and some items were out of stock, but the room service staff were very helpful to make it up, making sure the entire dinning experience was perfect',\n",
       " 'The breakfast downstairs in the Ritz Carlton cafe was also good',\n",
       " 'We have dined there several times before, this time is as good as always',\n",
       " 'Front desk service was efficient upon check in and check out, and there’s a little kids corner to entertain young kids while waiting, which is very useful! Housekeepers at evening were quite helpful too, being very friendly and thoughtful',\n",
       " 'Offered us the bath service by seeing us being tired from the day and brought us the lavender bath-bomb',\n",
       " 'In general, it’s one of the top choices among so many hotels in the region',\n",
       " 'No matter the facilities or service',\n",
       " 'Highly recommend!…']"
      ]
     },
     "execution_count": 13,
     "metadata": {},
     "output_type": "execute_result"
    }
   ],
   "source": [
    "contents"
   ]
  },
  {
   "cell_type": "code",
   "execution_count": 14,
   "metadata": {},
   "outputs": [],
   "source": [
    "main(start_idx = 60000)"
   ]
  },
  {
   "cell_type": "code",
   "execution_count": null,
   "metadata": {},
   "outputs": [],
   "source": []
  }
 ],
 "metadata": {
  "kernelspec": {
   "display_name": "Python 3",
   "language": "python",
   "name": "python3"
  },
  "language_info": {
   "codemirror_mode": {
    "name": "ipython",
    "version": 3
   },
   "file_extension": ".py",
   "mimetype": "text/x-python",
   "name": "python",
   "nbconvert_exporter": "python",
   "pygments_lexer": "ipython3",
   "version": "3.7.3"
  }
 },
 "nbformat": 4,
 "nbformat_minor": 4
}
