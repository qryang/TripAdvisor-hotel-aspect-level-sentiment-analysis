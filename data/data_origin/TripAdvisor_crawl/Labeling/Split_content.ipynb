{
 "cells": [
  {
   "cell_type": "markdown",
   "metadata": {},
   "source": [
    "# Extract sentences from review"
   ]
  },
  {
   "cell_type": "markdown",
   "metadata": {},
   "source": [
    "1. Seclect high/low-rating reviews "
   ]
  },
  {
   "cell_type": "code",
   "execution_count": 1,
   "metadata": {},
   "outputs": [],
   "source": [
    "import pandas as pd"
   ]
  },
  {
   "cell_type": "code",
   "execution_count": 2,
   "metadata": {},
   "outputs": [],
   "source": [
    "hotel_name = 'Banyan_Tree_Macau'\n",
    "rating = 'high'\n",
    "data = pd.read_csv('../{}.csv'.format(hotel_name), header=None, names=['Content', 'Rating'])"
   ]
  },
  {
   "cell_type": "code",
   "execution_count": 3,
   "metadata": {},
   "outputs": [
    {
     "data": {
      "text/html": [
       "<div>\n",
       "<style scoped>\n",
       "    .dataframe tbody tr th:only-of-type {\n",
       "        vertical-align: middle;\n",
       "    }\n",
       "\n",
       "    .dataframe tbody tr th {\n",
       "        vertical-align: top;\n",
       "    }\n",
       "\n",
       "    .dataframe thead th {\n",
       "        text-align: right;\n",
       "    }\n",
       "</style>\n",
       "<table border=\"1\" class=\"dataframe\">\n",
       "  <thead>\n",
       "    <tr style=\"text-align: right;\">\n",
       "      <th></th>\n",
       "      <th>Content</th>\n",
       "      <th>Rating</th>\n",
       "    </tr>\n",
       "  </thead>\n",
       "  <tbody>\n",
       "    <tr>\n",
       "      <th>0</th>\n",
       "      <td>Only a special thing of banyan tree: the room ...</td>\n",
       "      <td>30</td>\n",
       "    </tr>\n",
       "    <tr>\n",
       "      <th>1</th>\n",
       "      <td>This is (without a doubt) one of the best hote...</td>\n",
       "      <td>50</td>\n",
       "    </tr>\n",
       "    <tr>\n",
       "      <th>2</th>\n",
       "      <td>We stayed in Banyan Tree for my friend’s birth...</td>\n",
       "      <td>50</td>\n",
       "    </tr>\n",
       "    <tr>\n",
       "      <th>3</th>\n",
       "      <td>I tried the Pampering Getaway treatment in Ban...</td>\n",
       "      <td>50</td>\n",
       "    </tr>\n",
       "    <tr>\n",
       "      <th>4</th>\n",
       "      <td>Again as expected, lovely day with my family. ...</td>\n",
       "      <td>50</td>\n",
       "    </tr>\n",
       "    <tr>\n",
       "      <th>...</th>\n",
       "      <td>...</td>\n",
       "      <td>...</td>\n",
       "    </tr>\n",
       "    <tr>\n",
       "      <th>540</th>\n",
       "      <td>We stayed in the suite that featured a window ...</td>\n",
       "      <td>50</td>\n",
       "    </tr>\n",
       "    <tr>\n",
       "      <th>541</th>\n",
       "      <td>Truly incredible rooms, superb stree free chec...</td>\n",
       "      <td>50</td>\n",
       "    </tr>\n",
       "    <tr>\n",
       "      <th>542</th>\n",
       "      <td>This is a great and wonderful hotel.  The serv...</td>\n",
       "      <td>50</td>\n",
       "    </tr>\n",
       "    <tr>\n",
       "      <th>543</th>\n",
       "      <td>Stayed over Easter long weekend. Hotel was nic...</td>\n",
       "      <td>10</td>\n",
       "    </tr>\n",
       "    <tr>\n",
       "      <th>544</th>\n",
       "      <td>Im a huge fan of Banyan Tree properties and Ba...</td>\n",
       "      <td>50</td>\n",
       "    </tr>\n",
       "  </tbody>\n",
       "</table>\n",
       "<p>545 rows × 2 columns</p>\n",
       "</div>"
      ],
      "text/plain": [
       "                                               Content  Rating\n",
       "0    Only a special thing of banyan tree: the room ...      30\n",
       "1    This is (without a doubt) one of the best hote...      50\n",
       "2    We stayed in Banyan Tree for my friend’s birth...      50\n",
       "3    I tried the Pampering Getaway treatment in Ban...      50\n",
       "4    Again as expected, lovely day with my family. ...      50\n",
       "..                                                 ...     ...\n",
       "540  We stayed in the suite that featured a window ...      50\n",
       "541  Truly incredible rooms, superb stree free chec...      50\n",
       "542  This is a great and wonderful hotel.  The serv...      50\n",
       "543  Stayed over Easter long weekend. Hotel was nic...      10\n",
       "544  Im a huge fan of Banyan Tree properties and Ba...      50\n",
       "\n",
       "[545 rows x 2 columns]"
      ]
     },
     "execution_count": 3,
     "metadata": {},
     "output_type": "execute_result"
    }
   ],
   "source": [
    "data"
   ]
  },
  {
   "cell_type": "code",
   "execution_count": 4,
   "metadata": {},
   "outputs": [],
   "source": [
    "cond = data['Rating'] == 50 if rating == 'high' else data['Rating'] <= 20\n",
    "file_name = 'high_rating' if rating == 'high' else 'low_rating'\n",
    "rating_data = data[cond]"
   ]
  },
  {
   "cell_type": "code",
   "execution_count": 5,
   "metadata": {},
   "outputs": [],
   "source": [
    "rating_data.to_csv('./Rating/{}_{}.csv'.format(hotel_name, file_name), index=None, encoding='utf-8')"
   ]
  },
  {
   "cell_type": "markdown",
   "metadata": {},
   "source": [
    "2. Extract sentences"
   ]
  },
  {
   "cell_type": "code",
   "execution_count": 6,
   "metadata": {},
   "outputs": [],
   "source": [
    "data = pd.read_csv('./Rating/{}_{}.csv'.format(hotel_name, file_name))"
   ]
  },
  {
   "cell_type": "code",
   "execution_count": 7,
   "metadata": {},
   "outputs": [
    {
     "data": {
      "text/html": [
       "<div>\n",
       "<style scoped>\n",
       "    .dataframe tbody tr th:only-of-type {\n",
       "        vertical-align: middle;\n",
       "    }\n",
       "\n",
       "    .dataframe tbody tr th {\n",
       "        vertical-align: top;\n",
       "    }\n",
       "\n",
       "    .dataframe thead th {\n",
       "        text-align: right;\n",
       "    }\n",
       "</style>\n",
       "<table border=\"1\" class=\"dataframe\">\n",
       "  <thead>\n",
       "    <tr style=\"text-align: right;\">\n",
       "      <th></th>\n",
       "      <th>Content</th>\n",
       "      <th>Rating</th>\n",
       "    </tr>\n",
       "  </thead>\n",
       "  <tbody>\n",
       "    <tr>\n",
       "      <th>0</th>\n",
       "      <td>This is (without a doubt) one of the best hote...</td>\n",
       "      <td>50</td>\n",
       "    </tr>\n",
       "    <tr>\n",
       "      <th>1</th>\n",
       "      <td>We stayed in Banyan Tree for my friend’s birth...</td>\n",
       "      <td>50</td>\n",
       "    </tr>\n",
       "    <tr>\n",
       "      <th>2</th>\n",
       "      <td>I tried the Pampering Getaway treatment in Ban...</td>\n",
       "      <td>50</td>\n",
       "    </tr>\n",
       "    <tr>\n",
       "      <th>3</th>\n",
       "      <td>Again as expected, lovely day with my family. ...</td>\n",
       "      <td>50</td>\n",
       "    </tr>\n",
       "    <tr>\n",
       "      <th>4</th>\n",
       "      <td>I stayed here for my birthday in Jun 2019 and ...</td>\n",
       "      <td>50</td>\n",
       "    </tr>\n",
       "    <tr>\n",
       "      <th>...</th>\n",
       "      <td>...</td>\n",
       "      <td>...</td>\n",
       "    </tr>\n",
       "    <tr>\n",
       "      <th>440</th>\n",
       "      <td>The rooms in the Banyan Tree Macau are amazing...</td>\n",
       "      <td>50</td>\n",
       "    </tr>\n",
       "    <tr>\n",
       "      <th>441</th>\n",
       "      <td>We stayed in the suite that featured a window ...</td>\n",
       "      <td>50</td>\n",
       "    </tr>\n",
       "    <tr>\n",
       "      <th>442</th>\n",
       "      <td>Truly incredible rooms, superb stree free chec...</td>\n",
       "      <td>50</td>\n",
       "    </tr>\n",
       "    <tr>\n",
       "      <th>443</th>\n",
       "      <td>This is a great and wonderful hotel.  The serv...</td>\n",
       "      <td>50</td>\n",
       "    </tr>\n",
       "    <tr>\n",
       "      <th>444</th>\n",
       "      <td>Im a huge fan of Banyan Tree properties and Ba...</td>\n",
       "      <td>50</td>\n",
       "    </tr>\n",
       "  </tbody>\n",
       "</table>\n",
       "<p>445 rows × 2 columns</p>\n",
       "</div>"
      ],
      "text/plain": [
       "                                               Content  Rating\n",
       "0    This is (without a doubt) one of the best hote...      50\n",
       "1    We stayed in Banyan Tree for my friend’s birth...      50\n",
       "2    I tried the Pampering Getaway treatment in Ban...      50\n",
       "3    Again as expected, lovely day with my family. ...      50\n",
       "4    I stayed here for my birthday in Jun 2019 and ...      50\n",
       "..                                                 ...     ...\n",
       "440  The rooms in the Banyan Tree Macau are amazing...      50\n",
       "441  We stayed in the suite that featured a window ...      50\n",
       "442  Truly incredible rooms, superb stree free chec...      50\n",
       "443  This is a great and wonderful hotel.  The serv...      50\n",
       "444  Im a huge fan of Banyan Tree properties and Ba...      50\n",
       "\n",
       "[445 rows x 2 columns]"
      ]
     },
     "execution_count": 7,
     "metadata": {},
     "output_type": "execute_result"
    }
   ],
   "source": [
    "data"
   ]
  },
  {
   "cell_type": "code",
   "execution_count": 8,
   "metadata": {},
   "outputs": [
    {
     "data": {
      "text/plain": [
       "'This is (without a doubt) one of the best hotels in Macau. The architecture is really impressive and no details were left aside.  The halls in the room levels makes it feel like you are permanently in a luxury spa and the housekeeping staff are very helpful.  I stayed in the “signature pool” room and I can only tell you it was one of the best hotel experiences I’ve ever had. The living room is huge, enough to receive guests for dinner. Also, the room and the bathroom are very big, all with luxury facilities. Truly amazing!  Cons: the breakfast was disappointing. After arriving this wonderland I could only imagine a great buffet with lots of variety, different kinds of cheese, waffles, etc - but that was not the case.  Lastly, I must say banyan tree has one of the most impressive spas I’ve ever seen. Expensive, but you won’t forget it. …'"
      ]
     },
     "execution_count": 8,
     "metadata": {},
     "output_type": "execute_result"
    }
   ],
   "source": [
    "data['Content'].loc[0]"
   ]
  },
  {
   "cell_type": "code",
   "execution_count": 9,
   "metadata": {},
   "outputs": [
    {
     "data": {
      "text/plain": [
       "['This is (without a doubt) one of the best hotels in Macau',\n",
       " ' The architecture is really impressive and no details were left aside',\n",
       " '  The halls in the room levels makes it feel like you are permanently in a luxury spa and the housekeeping staff are very helpful',\n",
       " '  I stayed in the “signature pool” room and I can only tell you it was one of the best hotel experiences I’ve ever had',\n",
       " ' The living room is huge, enough to receive guests for dinner',\n",
       " ' Also, the room and the bathroom are very big, all with luxury facilities',\n",
       " ' Truly amazing!  Cons: the breakfast was disappointing',\n",
       " ' After arriving this wonderland I could only imagine a great buffet with lots of variety, different kinds of cheese, waffles, etc - but that was not the case',\n",
       " '  Lastly, I must say banyan tree has one of the most impressive spas I’ve ever seen',\n",
       " ' Expensive, but you won’t forget it',\n",
       " ' …']"
      ]
     },
     "execution_count": 9,
     "metadata": {},
     "output_type": "execute_result"
    }
   ],
   "source": [
    "data['Content'].loc[0].split('.')"
   ]
  },
  {
   "cell_type": "code",
   "execution_count": 10,
   "metadata": {},
   "outputs": [
    {
     "name": "stdout",
     "output_type": "stream",
     "text": [
      "This is (without a doubt) one of the best hotels in Macau\n",
      "The architecture is really impressive and no details were left aside\n",
      "The halls in the room levels makes it feel like you are permanently in a luxury spa and the housekeeping staff are very helpful\n",
      "I stayed in the “signature pool” room and I can only tell you it was one of the best hotel experiences I’ve ever had\n",
      "The living room is huge, enough to receive guests for dinner\n",
      "Also, the room and the bathroom are very big, all with luxury facilities\n",
      "Truly amazing!  Cons: the breakfast was disappointing\n",
      "After arriving this wonderland I could only imagine a great buffet with lots of variety, different kinds of cheese, waffles, etc - but that was not the case\n",
      "Lastly, I must say banyan tree has one of the most impressive spas I’ve ever seen\n",
      "Expensive, but you won’t forget it\n",
      "…\n"
     ]
    }
   ],
   "source": [
    "for c in data['Content'].loc[0].split('.'):\n",
    "    c_ = c.strip()\n",
    "    print(c_)"
   ]
  },
  {
   "cell_type": "code",
   "execution_count": 11,
   "metadata": {},
   "outputs": [],
   "source": [
    "def split_content(content):\n",
    "    contents = []\n",
    "    for c in content.split('.'):\n",
    "        c_ = c.strip()\n",
    "        contents.append(c_)\n",
    "    while '' in contents:\n",
    "        contents.remove('')\n",
    "    return contents\n",
    "\n",
    "\n",
    "def main(start_idx):\n",
    "    _data = pd.DataFrame()\n",
    "    row = 0\n",
    "    for content_idx, content in enumerate(data['Content']):\n",
    "        contents = split_content(content)\n",
    "        for idx, content in enumerate(contents):\n",
    "            _data.loc[row, 0] = 'c{}'.format(start_idx + content_idx)\n",
    "            _data.loc[row, 1] = 's{}'.format(idx + 1)\n",
    "            _data.loc[row, 2] = content\n",
    "            row += 1\n",
    "    _data.to_csv('{}_{}_labeling.csv'.format(hotel_name, file_name), index=None, header=None)"
   ]
  },
  {
   "cell_type": "code",
   "execution_count": 12,
   "metadata": {},
   "outputs": [],
   "source": [
    "contents = split_content(data['Content'].loc[0])"
   ]
  },
  {
   "cell_type": "code",
   "execution_count": 13,
   "metadata": {},
   "outputs": [
    {
     "data": {
      "text/plain": [
       "['This is (without a doubt) one of the best hotels in Macau',\n",
       " 'The architecture is really impressive and no details were left aside',\n",
       " 'The halls in the room levels makes it feel like you are permanently in a luxury spa and the housekeeping staff are very helpful',\n",
       " 'I stayed in the “signature pool” room and I can only tell you it was one of the best hotel experiences I’ve ever had',\n",
       " 'The living room is huge, enough to receive guests for dinner',\n",
       " 'Also, the room and the bathroom are very big, all with luxury facilities',\n",
       " 'Truly amazing!  Cons: the breakfast was disappointing',\n",
       " 'After arriving this wonderland I could only imagine a great buffet with lots of variety, different kinds of cheese, waffles, etc - but that was not the case',\n",
       " 'Lastly, I must say banyan tree has one of the most impressive spas I’ve ever seen',\n",
       " 'Expensive, but you won’t forget it',\n",
       " '…']"
      ]
     },
     "execution_count": 13,
     "metadata": {},
     "output_type": "execute_result"
    }
   ],
   "source": [
    "contents"
   ]
  },
  {
   "cell_type": "code",
   "execution_count": 15,
   "metadata": {},
   "outputs": [],
   "source": [
    "main(start_idx = 80000)"
   ]
  },
  {
   "cell_type": "code",
   "execution_count": null,
   "metadata": {},
   "outputs": [],
   "source": []
  }
 ],
 "metadata": {
  "kernelspec": {
   "display_name": "Python 3",
   "language": "python",
   "name": "python3"
  },
  "language_info": {
   "codemirror_mode": {
    "name": "ipython",
    "version": 3
   },
   "file_extension": ".py",
   "mimetype": "text/x-python",
   "name": "python",
   "nbconvert_exporter": "python",
   "pygments_lexer": "ipython3",
   "version": "3.7.3"
  }
 },
 "nbformat": 4,
 "nbformat_minor": 4
}
