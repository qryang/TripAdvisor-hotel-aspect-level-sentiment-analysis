{
 "cells": [
  {
   "cell_type": "markdown",
   "metadata": {},
   "source": [
    "# Show split sample distribution"
   ]
  },
  {
   "cell_type": "code",
   "execution_count": 7,
   "metadata": {},
   "outputs": [],
   "source": [
    "import pandas as pd\n",
    "import numpy as np\n",
    "import matplotlib.pyplot as plt"
   ]
  },
  {
   "cell_type": "code",
   "execution_count": 8,
   "metadata": {},
   "outputs": [],
   "source": [
    "class Pie:\n",
    "    \n",
    "    def __init__(self):\n",
    "        self.file_name = './TripAdvisor_hotel.xlsx'\n",
    "        self.data = pd.read_excel(self.file_name, header=None)\n",
    "        self.polarity_symbol = {'+': 'positive', '-': 'negative', '0': 'neutral', 'c': 'conflict'}\n",
    "        self.num_pos, self.num_neu, self.num_neg = 0, 0, 0\n",
    "        self.polarities = []\n",
    "        self.get_polarities()\n",
    "        \n",
    "    def __call__(self):\n",
    "        self.sum_polarity()\n",
    "        self.show_distribution()\n",
    "        \n",
    "    def get_polarity(self, aspect_term):\n",
    "        tmp = aspect_term.split(']')\n",
    "        polarity = self.polarity_symbol[tmp[1].strip('[')]\n",
    "        return polarity\n",
    "        \n",
    "    def get_polarities(self):\n",
    "        max_num_polarity = len(self.data.columns)\n",
    "        polarities = []\n",
    "        for content_idx in range(len(self.data)):\n",
    "            for polarity_idx in range(3, max_num_polarity):\n",
    "                aspect_term = self.data.loc[content_idx, polarity_idx]\n",
    "                if not pd.isna(aspect_term):\n",
    "                    try:\n",
    "                        polarity = self.get_polarity(aspect_term)\n",
    "                        content = {}\n",
    "                        content['polarity'] = polarity\n",
    "                        self.polarities.append(content)\n",
    "                    except:\n",
    "                        continue\n",
    "    \n",
    "    def sum_polarity(self):\n",
    "        \"\"\"\n",
    "        Summarize polarity\n",
    "        \"\"\"\n",
    "        for polarity in self.polarities:\n",
    "            if polarity['polarity'] == 'positive':\n",
    "                self.num_pos += 1\n",
    "            elif polarity['polarity'] == 'neutral':\n",
    "                self.num_neu += 1\n",
    "            elif polarity['polarity'] == 'negative':\n",
    "                self.num_neg += 1\n",
    "        print('[Positive: {} Neutral: {} Negative: {}]\\n'.\n",
    "              format(self.num_pos, self.num_neu, self.num_neg))\n",
    "        \n",
    "    def show_distribution(self):\n",
    "        def size(pct, all_vals):\n",
    "            absolute = int(pct / 100. * np.sum(all_vals))\n",
    "            return '{:.1f}%\\n({:d})'.format(pct, absolute)\n",
    "        polarities = ['positive', 'neutral', 'negative']\n",
    "        nums = [self.num_pos, self.num_neu, self.num_neg]\n",
    "        fig, ax = plt.subplots(figsize=(10, 5), subplot_kw=dict(aspect='equal'))\n",
    "        explode = (0, 0, 0.1)\n",
    "        wedges, texts, autotexts = ax.pie(nums, autopct=lambda pct: size(pct, nums),\n",
    "                                          explode=explode,\n",
    "                                          textprops=dict(color='w'),\n",
    "                                          shadow=False, startangle=90)\n",
    "        ax.legend(wedges, polarities,\n",
    "                  title='Polarities',\n",
    "                  loc='upper right',\n",
    "                  bbox_to_anchor=(1, 0, 0.5, 1))\n",
    "        plt.setp(autotexts, size=12, weight='bold')\n",
    "        plt.show()"
   ]
  },
  {
   "cell_type": "code",
   "execution_count": 9,
   "metadata": {},
   "outputs": [
    {
     "name": "stdout",
     "output_type": "stream",
     "text": [
      "[Positive: 2457 Neutral: 647 Negative: 1000]\n",
      "\n"
     ]
    },
    {
     "data": {
      "image/png": "[encoded data removed]",
      "text/plain": [
       "<Figure size 720x360 with 1 Axes>"
      ]
     },
     "metadata": {},
     "output_type": "display_data"
    }
   ],
   "source": [
    "pie = Pie()\n",
    "pie()"
   ]
  },
  {
   "cell_type": "code",
   "execution_count": null,
   "metadata": {},
   "outputs": [],
   "source": []
  }
 ],
 "metadata": {
  "kernelspec": {
   "display_name": "Python 3",
   "language": "python",
   "name": "python3"
  },
  "language_info": {
   "codemirror_mode": {
    "name": "ipython",
    "version": 3
   },
   "file_extension": ".py",
   "mimetype": "text/x-python",
   "name": "python",
   "nbconvert_exporter": "python",
   "pygments_lexer": "ipython3",
   "version": "3.7.3"
  }
 },
 "nbformat": 4,
 "nbformat_minor": 4
}
